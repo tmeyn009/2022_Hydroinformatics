{
 "cells": [
  {
   "cell_type": "markdown",
   "metadata": {},
   "source": [
    "<hr style=\"border:0.2px solid black\"> </hr>\n",
    "\n",
    "<figure>\n",
    "  <IMG SRC=\"ntnu_logo.png\" WIDTH=250 ALIGN=\"right\">\n",
    "</figure>\n",
    "\n",
    "**<ins>Course:</ins>** TVM4174 - Hydroinformatics for Smart Water Systems\n",
    "\n",
    "# <ins>Example 3:</ins> Python and Hydraulic Models\n",
    "    \n",
    "*Developed by David Steffelbauer*\n",
    "\n",
    "<hr style=\"border:0.2px solid black\"> </hr>\n",
    "\n",
    "    \n",
    "## Hydraulic Modelling with Python using WNTR"
   ]
  },
  {
   "cell_type": "markdown",
   "metadata": {},
   "source": [
    "This notebook will show us the basic functionality of the WNTR package"
   ]
  },
  {
   "cell_type": "markdown",
   "metadata": {},
   "source": [
    "### Installing packages like `WNTR`\n",
    "\n",
    "Here is a link on the installation guide for `wntr` ($\\rightarrow$[Installation](https://wntr.readthedocs.io/en/stable/installation.html)). \n",
    "\n",
    "The cool thing about Jupyter notebooks is that you can also install Python packages from here. So there is no need to open a terminal. You can just run the terminal commands by simply adding a `!` before the line. For example, instead of \n",
    "\n",
    "`pip install wntr`\n",
    "\n",
    "in a terminal, we would type\n",
    "\n",
    "`!pip install wntr`.\n",
    "\n",
    "However, there might appear some problems, if you install a package like that (e.g. different Python versions installed on your machine).\n",
    "\n",
    "There is a workaround, how to correctly install the `wntr` package without running into some errors. You can find detailed information about this issue in this excellent [blogpost](https://jakevdp.github.io/blog/2017/12/05/installing-python-packages-from-jupyter/)"
   ]
  },
  {
   "cell_type": "code",
   "execution_count": null,
   "metadata": {},
   "outputs": [],
   "source": [
    "# Install a pip package in the current Jupyter kernel\n",
    "import sys\n",
    "!{sys.executable} -m pip install wntr"
   ]
  },
  {
   "cell_type": "markdown",
   "metadata": {},
   "source": [
    "Now we can savely import the `wntr` package"
   ]
  },
  {
   "cell_type": "code",
   "execution_count": null,
   "metadata": {},
   "outputs": [],
   "source": [
    "import wntr"
   ]
  },
  {
   "cell_type": "markdown",
   "metadata": {},
   "source": [
    "Let us also import some other packages that will be useful for this notebook. This packages are the same as we used in the last lecture, when we had a look at the basic functionality of `Python`."
   ]
  },
  {
   "cell_type": "code",
   "execution_count": null,
   "metadata": {},
   "outputs": [],
   "source": [
    "import numpy as np  \n",
    "import pandas as pd\n",
    "import matplotlib.pyplot as plt\n",
    "import seaborn as sns\n",
    "sns.set_style('darkgrid')"
   ]
  },
  {
   "cell_type": "markdown",
   "metadata": {},
   "source": [
    "### Loading EPANET input files to WNTR\n",
    "\n",
    "First, we have to load the L-Town Epanet model into `wntr`. For that reason we use the [`wntr.network.WaterNetworkModel`](https://wntr.readthedocs.io/en/stable/apidoc/wntr.network.model.html#wntr.network.model.WaterNetworkModel) function."
   ]
  },
  {
   "cell_type": "code",
   "execution_count": null,
   "metadata": {},
   "outputs": [],
   "source": [
    "# Create a water network model\n",
    "inp_file = 'L-Town.inp'\n",
    "\n",
    "wn = wntr.network.WaterNetworkModel(inp_file)"
   ]
  },
  {
   "cell_type": "markdown",
   "metadata": {},
   "source": [
    "Now the variable `wn` has all necessary information that was already contained in the Epanet input file. \n",
    "\n",
    "### Query information from Water Network Models\n",
    "\n",
    "Next step, let's check if the overview information of the L-Town case study is correct that the water utility gave us. This is also good practice to see, if the EPANET input file is in the correct units. Furthermore, it is a good exercise to get familiar with the network.\n",
    "\n",
    "Here is a reminder of the information:\n",
    "* 43 km pipe length\n",
    "* Map dimensions: 1.5 km heigth, 2.7 km width\n",
    "* 782 Junctions, 2 Reservoirs, 1 Tank\n",
    "* 905 Pipes, 1 Pump, 3 PRV\n",
    "* Pipe segments of $\\approx$50 meters\n",
    "* $\\approx$10.000 people\n",
    "\n",
    "We can get specific information of different attributes with WNTR's query functions. There exist two different types of elements in WDS, nodes and links. Consequently, there are two different query functions:  \n",
    "* [`query_node_attribute`](https://wntr.readthedocs.io/en/stable/apidoc/wntr.network.model.html#wntr.network.model.WaterNetworkModel.query_node_attribute) for nodes\n",
    "* [`query_link_attribute`](https://wntr.readthedocs.io/en/stable/apidoc/wntr.network.model.html#wntr.network.model.WaterNetworkModel.query_link_attribute) for links\n",
    "\n",
    "The total pipe length of the network is around 42 km. Let's see ourselves. We look for the lengths as an attribute of pipes, that is why we use the query function for links. The output is a Pandas DataFrame. "
   ]
  },
  {
   "cell_type": "code",
   "execution_count": null,
   "metadata": {},
   "outputs": [],
   "source": [
    "pipe_lengths = wn.query_link_attribute('length')\n",
    "print(pipe_lengths)"
   ]
  },
  {
   "cell_type": "markdown",
   "metadata": {},
   "source": [
    "Hence, we can build the sum over it. The result is in meters, dividing by 1000 transforms this to km. Morevover, we use Python3's [`f-strings`](https://realpython.com/python-f-strings/) to generate a nice output."
   ]
  },
  {
   "cell_type": "code",
   "execution_count": null,
   "metadata": {},
   "outputs": [],
   "source": [
    "total_length = pipe_lengths.sum()/1000\n",
    "# print(total_length)\n",
    "print(f'The total length of the pipes is {total_length:.1f} km.')"
   ]
  },
  {
   "cell_type": "markdown",
   "metadata": {},
   "source": [
    "Second, we want to check the Map dimensions. We can use the coordinates for that, which are node attributes. The coordinates are a tuple of x and y coordinates. We transform that to a DataFrame containing two columns, 'x' and 'y', with a combination of Pandas [`apply`](https://pandas.pydata.org/pandas-docs/stable/reference/api/pandas.DataFrame.apply.html) funciton and a Python [`lambda`](https://realpython.com/python-lambda/) function. Furthermore, we delete the original columns that contains the tuple with Pandas [`drop`](https://pandas.pydata.org/pandas-docs/stable/reference/api/pandas.DataFrame.drop.html) method."
   ]
  },
  {
   "cell_type": "code",
   "execution_count": null,
   "metadata": {},
   "outputs": [],
   "source": [
    "coords = wn.query_node_attribute('coordinates')\n",
    "\n",
    "coords = pd.DataFrame(coords)\n",
    "coords['x'] = coords[0].apply(lambda x: x[0])\n",
    "coords['y'] = coords[0].apply(lambda x: x[1])\n",
    "\n",
    "coords = coords.drop(0, axis=1)\n",
    "print(coords)"
   ]
  },
  {
   "cell_type": "markdown",
   "metadata": {},
   "source": [
    "The Map dimensions height is given by the maximum difference in the y coordinates, from the biggest to the smallest value. We can use min and max for that. The same is true for the width and the x coordinates. Again, the units are meters. So we divide it by 1000 to get km and print a fancy `f-string` to show our result. Note the `\\n` in the `f-string`...this indicates a line break. Characters with a backslash are called escape charakters ($\\rightarrow$[link](https://www.w3schools.com/python/gloss_python_escape_characters.asp))"
   ]
  },
  {
   "cell_type": "code",
   "execution_count": null,
   "metadata": {},
   "outputs": [],
   "source": [
    "width = (coords['x'].max() - coords['x'].min())/1000\n",
    "height = (coords['y'].max() - coords['y'].min())/1000\n",
    "\n",
    "print(f'Map dimensions:\\n {height:.1f} km height, {width:.1f} km width')"
   ]
  },
  {
   "cell_type": "code",
   "execution_count": null,
   "metadata": {},
   "outputs": [],
   "source": [
    "coords.describe()"
   ]
  },
  {
   "cell_type": "markdown",
   "metadata": {},
   "source": [
    "How many elements are in the Network model. There is a handy function for that, the developers of WNTR just overloaded the Pandas describe function:"
   ]
  },
  {
   "cell_type": "code",
   "execution_count": null,
   "metadata": {},
   "outputs": [],
   "source": [
    "wn.describe()"
   ]
  },
  {
   "cell_type": "markdown",
   "metadata": {},
   "source": [
    "There are 909 links, put how many are pipes, how many pumps and how many are valves. We can use properties like `pipe_name_list` to find that out. Functions like `pipe_name_list`, as the name already indicates, give us a list of the names of all pipes."
   ]
  },
  {
   "cell_type": "code",
   "execution_count": null,
   "metadata": {},
   "outputs": [],
   "source": [
    "wn.pipe_name_list"
   ]
  },
  {
   "cell_type": "markdown",
   "metadata": {},
   "source": [
    "With the build-in [`len`](https://docs.python.org/3/library/functions.html#len) functions, we can see, how many elements this list has."
   ]
  },
  {
   "cell_type": "code",
   "execution_count": null,
   "metadata": {},
   "outputs": [],
   "source": [
    "num_pipes = len(wn.pipe_name_list)\n",
    "num_valves = len(wn.valve_name_list)\n",
    "num_pumps = len(wn.pump_name_list)\n",
    "\n",
    "print(f'{num_pipes:.0f} Pipes, {num_pumps:.0f} Pumps, {num_valves:.0f} PRV')"
   ]
  },
  {
   "cell_type": "markdown",
   "metadata": {},
   "source": [
    "WNTR has also special functions like [`num_valves`](https://wntr.readthedocs.io/en/latest/apidoc/wntr.network.model.html?highlight=num_valves#wntr.network.model.WaterNetworkModel.num_valves), so you don't have to use `len` at all."
   ]
  },
  {
   "cell_type": "code",
   "execution_count": null,
   "metadata": {
    "scrolled": true
   },
   "outputs": [],
   "source": [
    "print(f'{wn.num_pipes:.0f} Pipes, {wn.num_pumps:.0f} Pumps, {wn.num_valves:.0f} PRV')"
   ]
  },
  {
   "cell_type": "markdown",
   "metadata": {},
   "source": [
    "Let's go on and check if the lengths are all around 50 meter. We already know how to get the lengths. This time we are not interested in the sum of the lengths, but the statistics behind it. "
   ]
  },
  {
   "cell_type": "code",
   "execution_count": null,
   "metadata": {},
   "outputs": [],
   "source": [
    "length = wn.query_link_attribute('length')\n",
    "print(length)"
   ]
  },
  {
   "cell_type": "markdown",
   "metadata": {},
   "source": [
    "The pandas [`describe`](https://pandas.pydata.org/pandas-docs/stable/reference/api/pandas.DataFrame.describe.html) function can be used to get a good overview."
   ]
  },
  {
   "cell_type": "code",
   "execution_count": null,
   "metadata": {
    "scrolled": true
   },
   "outputs": [],
   "source": [
    "length.describe()"
   ]
  },
  {
   "cell_type": "markdown",
   "metadata": {},
   "source": [
    "We can also plot the statistics of the pipe segments in form of a histogram with pandas [`hist`](https://pandas.pydata.org/pandas-docs/stable/reference/api/pandas.Series.hist.html#pandas.Series.hist) function:"
   ]
  },
  {
   "cell_type": "code",
   "execution_count": null,
   "metadata": {},
   "outputs": [],
   "source": [
    "length.hist(bins=50)\n",
    "plt.xlabel('lenghts of pipe segments (m)', fontsize=20)\n",
    "plt.ylabel('number of pipes', fontsize=20)\n",
    "plt.axvline(length.mean(), color='k', linewidth=2, linestyle='--')\n",
    "plt.text(length.mean()-1, 90, f'mean={length.mean():.2f}', horizontalalignment='right', fontsize=14)"
   ]
  },
  {
   "cell_type": "markdown",
   "metadata": {},
   "source": [
    "Besides the axis labelling functions that we already know ([`xlabel`](https://matplotlib.org/3.1.1/api/_as_gen/matplotlib.pyplot.xlabel.html), [`ylabel`](https://matplotlib.org/3.3.3/api/_as_gen/matplotlib.pyplot.ylabel.html)), we used here two additional Matplotlib functions. [`text`](https://matplotlib.org/3.1.1/api/_as_gen/matplotlib.pyplot.text.html) let's us annotate figures, [`axvline`](https://matplotlib.org/3.3.3/api/_as_gen/matplotlib.pyplot.axvline.html) draws a vertical line in our graph."
   ]
  },
  {
   "cell_type": "markdown",
   "metadata": {},
   "source": [
    "Last but not least, we want to check if the number of people that are supplied by the WDS is correct. Unfortunately, this information is not contained in the EPANET file. But we can use the demand as a proxy to check this information, by estimating the number of people from the daily water demand. The base demand in EPANET files is usually taken from billing information and shows the average consumption over multiple years. Note, that this is not always true, it depends on the different policies and practices in different countries!\n",
    "\n",
    "The demand is an attribute of junctions, so we already know to extract this information from the EPANET file:"
   ]
  },
  {
   "cell_type": "code",
   "execution_count": null,
   "metadata": {},
   "outputs": [],
   "source": [
    "demand = wn.query_node_attribute('base_demand')"
   ]
  },
  {
   "cell_type": "markdown",
   "metadata": {},
   "source": [
    "Be careful, the units in WNTR and in the EPANET file may be different. WNTR converts all the units to this set of units [$\\rightarrow$link](https://wntr.readthedocs.io/en/stable/units.html), despite that the units in the EPANET inpfile are different. You can see the original units in the `options` of the Water Network Model:"
   ]
  },
  {
   "cell_type": "code",
   "execution_count": null,
   "metadata": {},
   "outputs": [],
   "source": [
    "wn.options.hydraulic.inpfile_units\n",
    "wntr.__version__"
   ]
  },
  {
   "cell_type": "markdown",
   "metadata": {},
   "source": [
    "That means that the demand is stored in $m^3/s$. Let's check what the total daily demand is in liters:"
   ]
  },
  {
   "cell_type": "code",
   "execution_count": null,
   "metadata": {},
   "outputs": [],
   "source": [
    "total_daily_demand = demand.sum()*3600*24\n",
    "print(f'The total daily demand is {total_daily_demand:.0f} cubic meters')"
   ]
  },
  {
   "cell_type": "markdown",
   "metadata": {},
   "source": [
    "Let's calculate what that means in liters per person:"
   ]
  },
  {
   "cell_type": "code",
   "execution_count": null,
   "metadata": {},
   "outputs": [],
   "source": [
    "ppdd = total_daily_demand * 1000 / 10000\n",
    "print(f'Daily demand per person: {ppdd:.1f} Liters')"
   ]
  },
  {
   "cell_type": "markdown",
   "metadata": {},
   "source": [
    "Let's check that, if that is correct by clicking this [link](http://letmegooglethat.com/?q=water+demand+cyprus)."
   ]
  },
  {
   "cell_type": "markdown",
   "metadata": {},
   "source": [
    "### Plotting networks"
   ]
  },
  {
   "cell_type": "code",
   "execution_count": null,
   "metadata": {},
   "outputs": [],
   "source": [
    "elevation = wn.query_node_attribute('elevation')\n",
    "\n",
    "diameter = wn.query_link_attribute('diameter')*1000\n",
    "\n",
    "wntr.graphics.plot_network(wn, link_attribute=diameter, node_size=0, link_colorbar_label='Diameter (mm)')\n",
    "\n",
    "print(type(wn))\n",
    "wntr.graphics.plot_network(wn, node_size=20, \n",
    "                           node_attribute=elevation, \n",
    "                           link_attribute=diameter,\n",
    "                           node_colorbar_label='Elev (m)',\n",
    "                           link_colorbar_label='Diam (m)'\n",
    "                          )    "
   ]
  },
  {
   "cell_type": "code",
   "execution_count": null,
   "metadata": {},
   "outputs": [],
   "source": [
    "def xsquared(x):\n",
    "    return x**2\n",
    "\n",
    "xsquared(6)"
   ]
  },
  {
   "cell_type": "code",
   "execution_count": null,
   "metadata": {},
   "outputs": [],
   "source": [
    "wntr.graphics.plot_interactive_network(wn, node_attribute=elevation, filename='L-Town.html', auto_open=True, node_cmap='Plasma')"
   ]
  },
  {
   "cell_type": "code",
   "execution_count": null,
   "metadata": {},
   "outputs": [],
   "source": [
    "from IPython.display import IFrame\n",
    "IFrame(src='./L-Town.html', width=700, height=600)"
   ]
  },
  {
   "cell_type": "markdown",
   "metadata": {},
   "source": [
    "### Running Simulations"
   ]
  },
  {
   "cell_type": "code",
   "execution_count": null,
   "metadata": {},
   "outputs": [],
   "source": [
    "# Create a water network model\n",
    "inp_file = 'L-town.inp'\n",
    "wn = wntr.network.WaterNetworkModel(inp_file)"
   ]
  },
  {
   "cell_type": "code",
   "execution_count": null,
   "metadata": {},
   "outputs": [],
   "source": [
    "sim = wntr.sim.EpanetSimulator(wn)\n",
    "\n",
    "results = sim.run_sim()\n",
    "\n"
   ]
  },
  {
   "cell_type": "code",
   "execution_count": null,
   "metadata": {},
   "outputs": [],
   "source": [
    "q = results.link['flowrate']"
   ]
  },
  {
   "cell_type": "code",
   "execution_count": null,
   "metadata": {},
   "outputs": [],
   "source": [
    "Q = results.node['demand']['n5']"
   ]
  },
  {
   "cell_type": "code",
   "execution_count": null,
   "metadata": {},
   "outputs": [],
   "source": [
    "Q.plot()"
   ]
  },
  {
   "cell_type": "code",
   "execution_count": null,
   "metadata": {},
   "outputs": [],
   "source": [
    "sim = wntr.sim.EpanetSimulator(wn)\n",
    "\n",
    "results = sim.run_sim()\n",
    "before = results.node['pressure']['n517']\n",
    "\n",
    "\n",
    "for name, j in wn.junctions():\n",
    "    #     j.base_demand = j.base_demand * 1.2\n",
    "    j.demand_timeseries_list[0].base_value = j.base_demand * 1.2\n",
    "    \n",
    "    \n",
    "results = sim.run_sim()\n",
    "after = results.node['pressure']['n517']"
   ]
  },
  {
   "cell_type": "code",
   "execution_count": null,
   "metadata": {},
   "outputs": [],
   "source": [
    "before.plot()\n",
    "after.plot()"
   ]
  },
  {
   "cell_type": "code",
   "execution_count": null,
   "metadata": {},
   "outputs": [],
   "source": [
    "(after - before).plot()"
   ]
  },
  {
   "cell_type": "code",
   "execution_count": null,
   "metadata": {},
   "outputs": [],
   "source": [
    "before.index = pd.to_datetime(before.index, unit='s', origin='2021-01-27')"
   ]
  },
  {
   "cell_type": "code",
   "execution_count": null,
   "metadata": {},
   "outputs": [],
   "source": [
    "plt.plot(before)"
   ]
  }
 ],
 "metadata": {
  "kernelspec": {
   "display_name": "Python 3",
   "language": "python",
   "name": "python3"
  },
  "language_info": {
   "codemirror_mode": {
    "name": "ipython",
    "version": 3
   },
   "file_extension": ".py",
   "mimetype": "text/x-python",
   "name": "python",
   "nbconvert_exporter": "python",
   "pygments_lexer": "ipython3",
   "version": "3.8.8"
  }
 },
 "nbformat": 4,
 "nbformat_minor": 4
}
