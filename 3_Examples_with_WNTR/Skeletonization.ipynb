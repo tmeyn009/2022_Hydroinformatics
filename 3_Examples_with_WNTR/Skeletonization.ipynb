{
 "cells": [
  {
   "cell_type": "markdown",
   "metadata": {},
   "source": [
    "<hr style=\"border:0.2px solid black\"> </hr>\n",
    "\n",
    "<figure>\n",
    "  <IMG SRC=\"img/ntnu-norwegian-university-of-science-and-technology-vector-logo.png\" WIDTH=250 ALIGN=\"right\">\n",
    "</figure>\n",
    "\n",
    "**<ins>Course:</ins>** TVM4174 - Hydroinformatics for Smart Water Systems\n",
    "\n",
    "# <ins>Example 4c:</ins> Simple Examples that EPANET can't do\n",
    "    \n",
    "*Developed by David B. Steffelbauer*\n",
    "\n",
    "<hr style=\"border:0.2px solid black\"> </hr>\n",
    "\n",
    "This notebook is slightly adapted from an example in the WNTR documentation [$\\rightarrow$link](https://wntr.readthedocs.io/en/stable/morph.html)\n",
    "    \n",
    "## Skeletonization"
   ]
  },
  {
   "cell_type": "code",
   "execution_count": null,
   "metadata": {},
   "outputs": [],
   "source": [
    "%matplotlib inline\n",
    "import wntr\n",
    "import networkx as nx\n",
    "import pandas as pd\n",
    "import numpy as np\n",
    "import matplotlib.pyplot as plt\n"
   ]
  },
  {
   "cell_type": "code",
   "execution_count": null,
   "metadata": {},
   "outputs": [],
   "source": [
    "wn = wntr.network.WaterNetworkModel('data/L-Town.inp')\n",
    "wntr.graphics.plot_network(wn, node_size=4)\n",
    "wn.describe()"
   ]
  },
  {
   "cell_type": "code",
   "execution_count": null,
   "metadata": {},
   "outputs": [],
   "source": [
    "wntr.morph.skeletonize?"
   ]
  },
  {
   "cell_type": "code",
   "execution_count": null,
   "metadata": {},
   "outputs": [],
   "source": [
    "skel_wn = wntr.morph.skeletonize(wn, 1.0)\n",
    "\n",
    "\n",
    "wntr.graphics.plot_network(skel_wn, node_size=4)\n",
    "skel_wn.describe()"
   ]
  },
  {
   "cell_type": "code",
   "execution_count": null,
   "metadata": {},
   "outputs": [],
   "source": [
    "d_orig = pd.Series(dict(nx.degree(wn.get_graph())))\n",
    "d_skel = pd.Series(dict(nx.degree(skel_wn.get_graph())))"
   ]
  },
  {
   "cell_type": "code",
   "execution_count": null,
   "metadata": {},
   "outputs": [],
   "source": [
    "fig, (ax1, ax2) = plt.subplots(1, 2, figsize=(12,6))\n",
    "wntr.graphics.plot_network(wn, node_size=20, title='Original', node_attribute=d_orig, node_colorbar_label='Degree', ax=ax1)\n",
    "wntr.graphics.plot_network(skel_wn, node_size=20, title='Skeletonized', node_attribute=d_skel, node_colorbar_label='Degree', ax=ax2);"
   ]
  },
  {
   "cell_type": "code",
   "execution_count": null,
   "metadata": {},
   "outputs": [],
   "source": [
    "fig, ax1 = plt.subplots(figsize=(10,5))\n",
    "d_orig.hist(bins=np.arange(0, 7)-.5, ax=ax1, label='Original')\n",
    "d_skel.hist(bins=np.arange(0, 7)-.5, ax=ax1, label='Skeletonized')\n",
    "plt.xlabel('node degree', fontsize=16)\n",
    "plt.ylabel('# nodes', fontsize=16)\n",
    "plt.legend(fontsize=14);"
   ]
  },
  {
   "cell_type": "code",
   "execution_count": null,
   "metadata": {},
   "outputs": [],
   "source": [
    "sim = wntr.sim.EpanetSimulator(wn)\n",
    "results_original = sim.run_sim()"
   ]
  },
  {
   "cell_type": "code",
   "execution_count": null,
   "metadata": {},
   "outputs": [],
   "source": [
    "sim = wntr.sim.EpanetSimulator(skel_wn)\n",
    "# %timeit results_skel = sim.run_sim()\n",
    "results_skel = sim.run_sim()"
   ]
  },
  {
   "cell_type": "code",
   "execution_count": null,
   "metadata": {},
   "outputs": [],
   "source": [
    "skel_junctions = skel_wn.junction_name_list\n",
    "pressure_orig = results_original.node['pressure'].loc[:,skel_junctions]\n",
    "pressure_skel = results_skel.node['pressure'].loc[:,skel_junctions]\n",
    "pressure_diff = (abs(pressure_orig - pressure_skel)/pressure_orig)*100\n",
    "pressure_diff.index = pressure_diff.index/3600 # convert time to hours"
   ]
  },
  {
   "cell_type": "code",
   "execution_count": null,
   "metadata": {},
   "outputs": [],
   "source": [
    "confidence = 0.9\n",
    "\n",
    "alpha = 1-confidence\n",
    "\n",
    "lower = pressure_diff.quantile(alpha/2, axis=1)\n",
    "median = pressure_diff.quantile(0.50, axis=1)\n",
    "upper = pressure_diff.quantile(1 - alpha/2, axis=1)"
   ]
  },
  {
   "cell_type": "code",
   "execution_count": null,
   "metadata": {},
   "outputs": [],
   "source": [
    "fig = plt.figure()\n",
    "ax = median.plot()\n",
    "poly = ax.fill_between(lower.index, lower, upper, color='b', alpha=0.2)\n",
    "text = ax.set_xlabel('Time (hr)')\n",
    "text = ax.set_ylabel('Percent change in pressure (%)')"
   ]
  },
  {
   "cell_type": "code",
   "execution_count": null,
   "metadata": {},
   "outputs": [],
   "source": []
  }
 ],
 "metadata": {
  "kernelspec": {
   "display_name": "Python 3",
   "language": "python",
   "name": "python3"
  },
  "language_info": {
   "codemirror_mode": {
    "name": "ipython",
    "version": 3
   },
   "file_extension": ".py",
   "mimetype": "text/x-python",
   "name": "python",
   "nbconvert_exporter": "python",
   "pygments_lexer": "ipython3",
   "version": "3.8.8"
  }
 },
 "nbformat": 4,
 "nbformat_minor": 4
}
