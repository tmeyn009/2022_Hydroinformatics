{
 "cells": [
  {
   "cell_type": "markdown",
   "metadata": {},
   "source": [
    "<hr style=\"border:0.2px solid black\"> </hr>\n",
    "\n",
    "<figure>\n",
    "  <IMG SRC=\"img/ntnu-norwegian-university-of-science-and-technology-vector-logo.png\" WIDTH=250 ALIGN=\"right\">\n",
    "</figure>\n",
    "\n",
    "**<ins>Course:</ins>** TVM4174 - Hydroinformatics for Smart Water Systems\n",
    "\n",
    "# <ins>Example 4d:</ins> Simple Examples that EPANET can't do\n",
    "    \n",
    "*Developed by David B. Steffelbauer*\n",
    "\n",
    "<hr style=\"border:0.2px solid black\"> </hr>\n",
    "    \n",
    "## Monte Carlo Analysis"
   ]
  },
  {
   "cell_type": "code",
   "execution_count": null,
   "metadata": {},
   "outputs": [],
   "source": [
    "import os\n",
    "import wntr\n",
    "import matplotlib.pyplot as plt\n",
    "import numpy as np\n",
    "import pandas as pd\n",
    "from tqdm import tqdm"
   ]
  },
  {
   "cell_type": "code",
   "execution_count": null,
   "metadata": {},
   "outputs": [],
   "source": [
    "inp_file = 'data/L-TOWN_AreaC.inp'\n",
    "\n",
    "wn = wntr.network.WaterNetworkModel(inp_file)\n",
    "wntr.graphics.plot_network(wn)"
   ]
  },
  {
   "cell_type": "code",
   "execution_count": null,
   "metadata": {},
   "outputs": [],
   "source": [
    "sim = wntr.sim.EpanetSimulator(wn)\n",
    "res = sim.run_sim()\n",
    "orig_pressure = res.node['pressure'].squeeze()"
   ]
  },
  {
   "cell_type": "code",
   "execution_count": null,
   "metadata": {},
   "outputs": [],
   "source": [
    "# Perform Monte Carlo simulation with varying roughness parameters\n",
    "\n",
    "mcsteps = 1000\n",
    "mc_pressures = dict()\n",
    "\n",
    "for ii in tqdm(range(mcsteps)):\n",
    "\n",
    "    wn = wntr.network.WaterNetworkModel(inp_file)\n",
    "    sim = wntr.sim.EpanetSimulator(wn)\n",
    "\n",
    "    for pipe_name in wn.pipe_name_list:\n",
    "        pipe = wn.get_link(pipe_name)\n",
    "        r = pipe.roughness\n",
    "        pipe.roughness = r + r*0.2*np.random.randn()\n",
    "\n",
    "    res = sim.run_sim()\n",
    "    mc_pressures[ii] = res.node['pressure'].squeeze()\n",
    "\n",
    "\n",
    "mc_pressures = pd.DataFrame(mc_pressures)"
   ]
  },
  {
   "cell_type": "code",
   "execution_count": null,
   "metadata": {},
   "outputs": [],
   "source": [
    "nodename = 'n389'\n",
    "\n",
    "mc_pressures.loc[nodename].hist(bins=30)\n",
    "plt.xlabel('pressure (m)')\n",
    "plt.ylabel('occurences (-)')\n",
    "plt.title(f'MCA for Node {nodename}')\n",
    "plt.show()"
   ]
  },
  {
   "cell_type": "code",
   "execution_count": null,
   "metadata": {},
   "outputs": [],
   "source": [
    "rmse = np.sqrt((mc_pressures.sub(orig_pressure, axis=0) ** 2).mean(axis=1))\n",
    "\n",
    "wntr.graphics.plot_network(wn, node_attribute=rmse, node_colorbar_label='RMSE')\n",
    "plt.show()"
   ]
  },
  {
   "cell_type": "code",
   "execution_count": null,
   "metadata": {},
   "outputs": [],
   "source": []
  }
 ],
 "metadata": {
  "kernelspec": {
   "display_name": "Python 3",
   "language": "python",
   "name": "python3"
  },
  "language_info": {
   "codemirror_mode": {
    "name": "ipython",
    "version": 3
   },
   "file_extension": ".py",
   "mimetype": "text/x-python",
   "name": "python",
   "nbconvert_exporter": "python",
   "pygments_lexer": "ipython3",
   "version": "3.8.8"
  }
 },
 "nbformat": 4,
 "nbformat_minor": 4
}
