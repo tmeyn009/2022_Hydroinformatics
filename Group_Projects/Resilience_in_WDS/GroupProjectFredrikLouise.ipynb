{
 "cells": [
  {
   "cell_type": "markdown",
   "metadata": {},
   "source": [
    "<hr style=\"border:0.2px solid black\"> </hr>\n",
    "\n",
    "<figure>\n",
    "  <IMG SRC=\"ntnu_logo.png\" WIDTH=200 ALIGN=\"right\">\n",
    "</figure>\n",
    "\n",
    "**<ins>Course:</ins>** TVM4174 - Hydroinformatics for Smart Water Systems\n",
    "\n",
    "# <ins>Group project:</ins> Resilience in water distribution system\n",
    "    \n",
    "*Developed by Louise Horn Buøen and Fredrik Strifeldt*\n",
    "    \n",
    "<hr style=\"border:0.2px solid black\"> </hr>"
   ]
  },
  {
   "cell_type": "markdown",
   "metadata": {},
   "source": [
    "## Introduction\n",
    "Water distribution systems is a crucial element of urban infrastructure, providing safe drinking water to support human health, economic activity, and the environment. Meanwhile, water distribution systems face numerous challenges that put their ability to maintain good water quality at risk. Water quality models are essential for being able to predict and control the quality in the water network systems. A wide variety of hydraulic and water quality parameters can be used to simulate how the system behaves over time. WNTR is a python package that can be used to better understand how different scenarios will affect the system and can help to plan for a more a more resilient water distribution system.\n",
    "\n",
    "\n",
    "## Aim of notebook\n",
    "This notebook will explain how WNTR can be used to simulate different disaster events like:\n",
    "- Closing a pipe\n",
    "- Fire fighting\n",
    "- Pipe leak\n",
    "- Power outage\n",
    "\n",
    "and illustrate how these scenarios impact the network."
   ]
  },
  {
   "cell_type": "markdown",
   "metadata": {},
   "source": [
    "\n",
    "Disclaimer:\n",
    "- The codes presented in this notebook fits network Net1.inp. If other network is to be used, adjustments in the codes may be necessary.\n",
    "- General knowledge about python and EPANET is required as a minimum to understand the concept of this notebook."
   ]
  },
  {
   "cell_type": "markdown",
   "metadata": {},
   "source": [
    "#### Installing WNTR and all the necessary python packages"
   ]
  },
  {
   "cell_type": "code",
   "execution_count": 1,
   "metadata": {},
   "outputs": [],
   "source": [
    "import numpy as np\n",
    "import pandas as pd\n",
    "import matplotlib.pyplot as plt\n",
    "import wntr"
   ]
  },
  {
   "cell_type": "markdown",
   "metadata": {},
   "source": [
    "## Simulation options\n",
    "When running a water network simulation in WNTR, there is a variety of different simulation options to choose from, some of them being related to\n",
    "- Simulation time\n",
    "- Hydraulics of network\n",
    "- Water quality modeling and reactions\n",
    "- Graphics for presenting simulation results\n",
    "\n",
    "These options are found in the `wntr.network.options`module, and can be adjusted for different water network analyses. This notebook will focus on `TimeOptions`and `HydraulicOptions`.\n",
    "\n",
    "#### Time options\n",
    "\n",
    "Options related to time are set according to the EPANET 2.2 'time' settings, and includes for instance `time.duration`,`time.hydraulic_timestep` and `time.pattern_start`.\n",
    "\n",
    "#### Hydrualic options\n",
    "The hydraulic options for the water network simulation are also set according to the EPANET 2.2 model. Many of them already having a default value, for instance headloss formula, viscosity and specific gravity. This module also sets the minimum and required pressure at the nodes.\n",
    "\n",
    "#### Understanding the difference of demand driven simulation and pressure dependet demand simulation\n",
    "The demand driven (DD) simulation and the pressure dependent demand (PDD) simulation are two approaches to hydrualic modelling of a water network, representing different pressure scenarios. \n",
    "\n",
    "The pressure in a DD simulation depends on the node demands, assuming that the nodal flows are always satisfied at all demand nodes regardless of the pressure available. This assumption is reasonable during normal operating conditions. \n",
    "\n",
    "\n",
    "When the system is not under normal conditions, for instance during earthquakes, in fire fighting situations, power outages, pipe leaks and pipe closures, the demand at a node decreases when the pressure is below the `required pressure`, and the demand goes to 0 when the pressure is below the `minimum pressure`.\n",
    "\n",
    "For further reading, see \n",
    "- [PDD and DD](https://pure.strath.ac.uk/ws/portalfiles/portal/44432218/Seyoum_etal_CCWI_2011_Comparison_of_demand_driven_and_pressure_dependent_hydraulic_approaches.pdf)\n",
    "- [Simulation Options](https://wntr.readthedocs.io/en/stable/apidoc/wntr.network.options.html#wntr.network.options.Options)"
   ]
  },
  {
   "cell_type": "markdown",
   "metadata": {},
   "source": [
    "#### Loading the EPANET model and building the simulation model"
   ]
  },
  {
   "cell_type": "code",
   "execution_count": 2,
   "metadata": {},
   "outputs": [],
   "source": [
    "# Loading the EPANET model\n",
    "inp_file = 'Net1.inp'\n",
    "wn = wntr.network.WaterNetworkModel(inp_file)\n",
    "\n",
    "# Setting the lenght of the simulation and choosing PDD as the demand solver\n",
    "analysis_length = 72*3600 \n",
    "wn.options.time.duration = analysis_length\n",
    "wn.options.hydraulic.demand_model = 'PDD'\n",
    "wn.options.hydraulic.required_pressure = 20\n",
    "wn.options.hydraulic.minimum_pressure = 0"
   ]
  },
  {
   "cell_type": "markdown",
   "metadata": {},
   "source": [
    "#### Network population \n",
    "WNTR can compute the population per node, using demand and average volume of water consumed per capita per day in m3/s (R). \n",
    "By default, WNTR sets average water consumption per capita per day to 8.76157e-06 m3/s = 200 gallons/day = 757 litres/day. However, in this notebook the average water consumption per capita per day is assumed to be 200 litres/day = 2.3148e06 m3/s.\n",
    "In the code below, it is shown how changing the R value affects the size of population of the network.\n",
    "\n",
    "By having this information, it can be used as a variable when trying to understand the water network and deciding the importance of different pipes."
   ]
  },
  {
   "cell_type": "code",
   "execution_count": 3,
   "metadata": {},
   "outputs": [
    {
     "name": "stdout",
     "output_type": "stream",
     "text": [
      "Population of network is 29981 people when R = 200 l/day.\n",
      "Population of network is 7920 people when R = 200 gallons/day.\n"
     ]
    }
   ],
   "source": [
    "population1 = wntr.metrics.population(wn, R=2.3148e-06 ) #200 l/day\n",
    "population2 = wntr.metrics.population(wn)                #200 gallons/day\n",
    "print('Population of network is', int(population1.sum()), 'people when R = 200 l/day.')\n",
    "print('Population of network is', int(population2.sum()), 'people when R = 200 gallons/day.')\n",
    "pop_df = pd.DataFrame(population1)"
   ]
  },
  {
   "cell_type": "markdown",
   "metadata": {},
   "source": [
    "## Closing pipe simulation using Water Network Controls\n",
    "WNTR is capable of controlling pipes, pumps and valves in the water network using simple and complex conditions. EPANET defines these conditions as either 'control' or 'rule'. This notebook will provide instructions on how to use 'control', click [here](https://wntr.readthedocs.io/en/stable/controls.html#rules) for further information on 'rule'.\n",
    "\n",
    "#### Controls\n",
    "Controls are defined using an \"IF condtion; THEN action\" setup, meaning that a single action is based on a single condition.\n",
    "The `wntr.network.controls` module is a set of methods that modify parameters and actions in the network during a simulation of the network; it takes an instance of any conditions given, along with an action that should occur when the condition is true.\n",
    "\n",
    "#### Action\n",
    "The `Action class` is apllied when defining a controlable action in the network.`wntr.network.controlAction` is an example, and it simply modifies the attribute of a given target object.\n",
    "\n",
    "#### Condition\n",
    "The condition decides when the action occurs. There are multiple condition classes that can be used, for instance, an action can be set to occur on a specific time of day (`TimeOfDayCondition`), by comparing threshold values in tanklevels (`RelativeCondition`) or simply by a given time since start of network simulation (`SimTimeCondition`)."
   ]
  },
  {
   "cell_type": "markdown",
   "metadata": {},
   "source": [
    "## Example Controls: One action, two different conditions\n",
    "The following code shows how a pipe is closed (action) when\n",
    "- the simulation starts, at 0 hours (condition 1)\n",
    "- the threshold of tank1 is set to 50 (condition 2)"
   ]
  },
  {
   "cell_type": "markdown",
   "metadata": {},
   "source": [
    "#### Loading the EPANET model"
   ]
  },
  {
   "cell_type": "code",
   "execution_count": 4,
   "metadata": {},
   "outputs": [],
   "source": [
    "inp_file = 'Net1.inp'\n",
    "wn = wntr.network.WaterNetworkModel(inp_file)\n",
    "\n",
    "analysis_length = 72*3600 \n",
    "wn.options.time.duration = analysis_length\n",
    "wn.options.hydraulic.demand_model = 'PDD'\n",
    "wn.options.hydraulic.required_pressure = 20\n",
    "wn.options.hydraulic.minimum_pressure = 0"
   ]
  },
  {
   "cell_type": "markdown",
   "metadata": {},
   "source": [
    "#### Setting target objects, actions and conditions"
   ]
  },
  {
   "cell_type": "code",
   "execution_count": 5,
   "metadata": {},
   "outputs": [
    {
     "name": "stdout",
     "output_type": "stream",
     "text": [
      "IF SYSTEM TIME IS 00:00:00 THEN PIPE 10 STATUS IS CLOSED PRIORITY 3\n",
      "IF TANK 2 LEVEL ABOVE 50.0 THEN PIPE 10 STATUS IS CLOSED PRIORITY 3\n"
     ]
    }
   ],
   "source": [
    "pipe = wn.get_link('10')\n",
    "tank = wn.get_node('2')\n",
    "action = wntr.network.controls.ControlAction(pipe, 'status', wntr.network.LinkStatus.Closed)\n",
    "\n",
    "condition1 = wntr.network.controls.SimTimeCondition(wn, '=', '00:00:00')\n",
    "control1 = wntr.network.controls.Control(condition1, action)\n",
    "print(control1)\n",
    "\n",
    "condition2 = wntr.network.controls.ValueCondition(tank, 'level', '>', 50.00)\n",
    "control2 = wntr.network.controls.Control(condition2, action, name='control2')\n",
    "print(control2)"
   ]
  },
  {
   "cell_type": "markdown",
   "metadata": {},
   "source": [
    "As the code shows, it is possible to adjust the conditions and actions for the control."
   ]
  },
  {
   "cell_type": "markdown",
   "metadata": {},
   "source": [
    "#### Adding control1 to the network\n",
    "To see how condition1 impacts the pressure and the demand of the water network, a new simulation is ran and compared to the network at normal conditions:"
   ]
  },
  {
   "cell_type": "code",
   "execution_count": 6,
   "metadata": {},
   "outputs": [],
   "source": [
    "#Adding the action and condition to water network\n",
    "wn.reset_initial_values()\n",
    "wn.add_control(pipe, control1)\n",
    "\n",
    "#Simulating network with the control\n",
    "sim = wntr.sim.WNTRSimulator(wn)\n",
    "control_results = sim.run_sim()\n",
    "\n",
    "#Removing the control\n",
    "wn.reset_initial_values()\n",
    "wn.remove_control(pipe)\n",
    "\n",
    "#Simulating network with normal conditions\n",
    "sim = wntr.sim.WNTRSimulator(wn)\n",
    "results = sim.run_sim()"
   ]
  },
  {
   "cell_type": "markdown",
   "metadata": {},
   "source": [
    "#### Plotting pressure the 20th hour "
   ]
  },
  {
   "cell_type": "code",
   "execution_count": 7,
   "metadata": {},
   "outputs": [
    {
     "data": {
      "image/png": "[encoded data removed]",
      "text/plain": [
       "<Figure size 432x288 with 2 Axes>"
      ]
     },
     "metadata": {},
     "output_type": "display_data"
    },
    {
     "data": {
      "image/png": "[encoded data removed]",
      "text/plain": [
       "<Figure size 432x288 with 2 Axes>"
      ]
     },
     "metadata": {},
     "output_type": "display_data"
    }
   ],
   "source": [
    "pressure_cp = control_results.node['pressure'].loc[20*3600, :]\n",
    "pressure_nc = results.node['pressure'].loc[20*3600, :]\n",
    "\n",
    "wntr.graphics.plot_network(wn, \n",
    "                           node_attribute=pressure_nc, \n",
    "                           node_size=100, \n",
    "                           node_range=[-10,100],\n",
    "                           node_colorbar_label = 'pressure (m)',\n",
    "                           title=f'Normal conditions\\n Pressure at 20 hours')\n",
    "wntr.graphics.plot_network(wn, \n",
    "                           node_attribute=pressure_cp, \n",
    "                           node_size=100, \n",
    "                           node_range=[-10,100],\n",
    "                           node_colorbar_label = 'pressure (m)',\n",
    "                           title=f'Close pipe {pipe.name}\\n Pressure at 20 hours')\n",
    "\n",
    "#Plotting relevant pipe in network\n",
    "start_node = pipe.start_node\n",
    "end_node = pipe.end_node\n",
    "x_start ,y_start = start_node.coordinates\n",
    "x_end, y_end = end_node.coordinates\n",
    "x_values=[x_start, x_end]\n",
    "y_values=[y_start, y_end]\n",
    "plt.plot(x_values, y_values, linewidth=2, color = 'red')\n",
    "plt.show()"
   ]
  },
  {
   "cell_type": "markdown",
   "metadata": {},
   "source": [
    "Pipe 10 is connecting the reservoir to the rest of the network, so it is no suprise by closing of this pipe, the network will not be supplied with water anymore and the pressure drops to zero. If maintainance is needed to be done at this specific pipe, an extra pipe is needed to be built before closing the original pipe off, indicating that the system is not very resilient seen from a maintainance prespective."
   ]
  },
  {
   "cell_type": "markdown",
   "metadata": {},
   "source": [
    "## Fire fighting simulation\n",
    "When planning a water network, it is necessary to design for water supply for fire fighting. The Firemen will always prioritise to save lifes, their main focus is to extinguish the fire - using as much water as needed. If the network is not designed well, this sudden change in the node demand, can for instance result in negative pressure and too high velocity, which again will affect the water quality. \n",
    "\n",
    "Therefore it is essential to implement this type of water demand in the hydraulic models. Byggteknisk Forskrift requires that it is possible to retrieve 50 l/s for two hours in populated areas."
   ]
  },
  {
   "cell_type": "markdown",
   "metadata": {},
   "source": [
    "#### Adding fire demand to the water network\n",
    "The code below shows how to add fire demand to a network, using `add_fire_demand`, and how this affect the pressure in the system."
   ]
  },
  {
   "cell_type": "markdown",
   "metadata": {},
   "source": [
    "#### Loading the EPANET model"
   ]
  },
  {
   "cell_type": "code",
   "execution_count": 8,
   "metadata": {},
   "outputs": [],
   "source": [
    "inp_file = 'Net1.inp'\n",
    "wn = wntr.network.WaterNetworkModel(inp_file)\n",
    "\n",
    "analysis_length = 72*3600 \n",
    "wn.options.time.duration = analysis_length\n",
    "wn.options.hydraulic.demand_model = 'PDD'\n",
    "wn.options.hydraulic.required_pressure = 20\n",
    "wn.options.hydraulic.minimum_pressure = 0"
   ]
  },
  {
   "cell_type": "code",
   "execution_count": 9,
   "metadata": {},
   "outputs": [],
   "source": [
    "# Adding fire demand\n",
    "fire_flow_demand = 0.05 #50l/s = 0.05 m3/s\n",
    "\n",
    "# Letting the fire fighting run for 2 hours\n",
    "fire_start = 10*3600\n",
    "fire_end = 12*3600\n",
    "\n",
    "# Choosing a node where the firemen connect their hoses to\n",
    "node = wn.get_node('11')\n",
    "\n",
    "# Adding the fire fighting to the water network\n",
    "node.add_fire_fighting_demand(wn, fire_flow_demand, fire_start, fire_end)\n",
    "\n",
    "#Simulating the fire fighting\n",
    "wn.reset_initial_values()\n",
    "sim = wntr.sim.WNTRSimulator(wn)\n",
    "fire_results = sim.run_sim()\n",
    "\n",
    "# Resetting initial values and simulate hydraulics during normal conditions\n",
    "wn.reset_initial_values()\n",
    "node.remove_fire_fighting_demand(wn)\n",
    "sim = wntr.sim.WNTRSimulator(wn)\n",
    "results = sim.run_sim()"
   ]
  },
  {
   "cell_type": "markdown",
   "metadata": {},
   "source": [
    "#### Plotting the pressure at the 11th hour \n",
    "At the 11th hour, the firefighting has lasted for one hour, and some changes in the network hydraulics is expected."
   ]
  },
  {
   "cell_type": "code",
   "execution_count": 10,
   "metadata": {},
   "outputs": [
    {
     "data": {
      "image/png": "[encoded data removed]",
      "text/plain": [
       "<Figure size 432x288 with 2 Axes>"
      ]
     },
     "metadata": {},
     "output_type": "display_data"
    },
    {
     "data": {
      "image/png": "[encoded data removed]",
      "text/plain": [
       "<Figure size 432x288 with 2 Axes>"
      ]
     },
     "metadata": {},
     "output_type": "display_data"
    }
   ],
   "source": [
    "pressure_ff = fire_results.node['pressure'].loc[11*3600, :]\n",
    "pressure_nc = results.node['pressure'].loc[11*3600, :]\n",
    "pressure_difference = pressure_nc - pressure_ff\n",
    "\n",
    "wntr.graphics.plot_network(wn, \n",
    "                           node_attribute=pressure_nc, \n",
    "                           node_size=100, \n",
    "                           node_range=[75,100],\n",
    "                           node_colorbar_label = 'pressure (m)',\n",
    "                           title=f'Normal conditions \\n Pressure at 20 hours')\n",
    "wntr.graphics.plot_network(wn, \n",
    "                           node_attribute=pressure_ff, \n",
    "                           node_size=100, \n",
    "                           node_range=[75,100],\n",
    "                           node_colorbar_label = 'pressure (m)',\n",
    "                           title=f'Fire Fighting at node {node.name}\\n Pressure at 20 hours')\n",
    "\n",
    "#plotting relevant node in network\n",
    "x, y = node.coordinates\n",
    "plt.scatter(x, y, s=200, facecolors='none', edgecolors='black')\n",
    "plt.annotate('Fire', xy=(x-5,y+5));"
   ]
  },
  {
   "cell_type": "markdown",
   "metadata": {},
   "source": [
    "Retrieving 50 l/s for one hour, results in some pressure changes in the systems. However, no negative pressure wil occur. This means the water network is resilient for this kind of fire fighting. "
   ]
  },
  {
   "cell_type": "markdown",
   "metadata": {},
   "source": [
    "## Pipe leaks\n",
    "Pipe leaks are very common in water distribution systems. When the pipe gets older the material starts to detoriate and this can lead to pipe breaks. Other thing that can lead to pipe breaks is when the water in the pipe freeze and the pipe expand, or sudden pressure changes in the network. WNTR have the opportunity to add pipe leaks to the model either to a junction or a tank. \n",
    "There are two different ways to add a leak to a pipe, either by using the function `split_pipe` or `break_pipe`. The `split_pipe` function splits the old pipe into two pipes an adds a junction in between, and the `break_pipe` function breaks the pipe in two an adding two junctions, as shown in the figure below. \n",
    "\n",
    "<figure>\n",
    "  <IMG SRC=\"pipeleak.jpg\" WIDTH=800 ALIGN=\"center\">\n",
    "</figure>\n",
    "    \n",
    "More information about pipe leaks in WNTR can be found at the following sites:\n",
    "\n",
    "* [Leak-model](https://wntr.readthedocs.io/en/latest/hydraulics.html#leak-model)\n",
    "* [Pipe breaks or leaks](https://wntr.readthedocs.io/en/latest/disaster_models.html#pipe-breaks-or-leaks)\n",
    "* [Split or break pipes](https://wntr.readthedocs.io/en/stable/morph.html#split-or-break-pipes)\n",
    "\n",
    "In the following example a leak is going to be set at a specific pipe to see how it effects the pressure in the junctions using the `split_pipe` function."
   ]
  },
  {
   "cell_type": "markdown",
   "metadata": {},
   "source": [
    "#### Loading the EPANET model"
   ]
  },
  {
   "cell_type": "code",
   "execution_count": 11,
   "metadata": {},
   "outputs": [],
   "source": [
    "# Loading the EPANET model\n",
    "inp_file = 'Net1.inp'\n",
    "wn = wntr.network.WaterNetworkModel(inp_file)\n",
    "\n",
    "analysis_length = 72*3600 \n",
    "wn.options.time.duration = analysis_length\n",
    "wn.options.hydraulic.demand_model = 'PDD'\n",
    "wn.options.hydraulic.required_pressure = 20\n",
    "wn.options.hydraulic.minimum_pressure = 0"
   ]
  },
  {
   "cell_type": "markdown",
   "metadata": {},
   "source": [
    "#### Introducing pipeleak to the network\n",
    "Using the `split_pipe` function making a 8 hour leak:"
   ]
  },
  {
   "cell_type": "code",
   "execution_count": 12,
   "metadata": {},
   "outputs": [],
   "source": [
    "# Add a leak to a pipe\n",
    "wn = wntr.morph.split_pipe(wn, '22', '22_B', '22_leak_node')\n",
    "node = wn.get_node('22_leak_node')\n",
    "node.add_leak(wn, area=0.05, start_time=16*3600, end_time=24*3600)\n",
    "\n",
    "# Run a simulation with the leak introduced\n",
    "wn.reset_initial_values()\n",
    "sim = wntr.sim.WNTRSimulator(wn)\n",
    "results_leak = sim.run_sim()\n",
    "\n",
    "# Resetting initial values and simulate hydraulics during normal conditions\n",
    "wn.reset_initial_values()\n",
    "node.remove_leak(wn)\n",
    "sim = wntr.sim.WNTRSimulator(wn)\n",
    "results = sim.run_sim()"
   ]
  },
  {
   "cell_type": "markdown",
   "metadata": {},
   "source": [
    "#### Plotting the pressure at the 20th hour"
   ]
  },
  {
   "cell_type": "code",
   "execution_count": 13,
   "metadata": {},
   "outputs": [
    {
     "data": {
      "image/png": "[encoded data removed]",
      "text/plain": [
       "<Figure size 432x288 with 2 Axes>"
      ]
     },
     "metadata": {},
     "output_type": "display_data"
    },
    {
     "data": {
      "image/png": "[encoded data removed]",
      "text/plain": [
       "<Figure size 432x288 with 2 Axes>"
      ]
     },
     "metadata": {},
     "output_type": "display_data"
    }
   ],
   "source": [
    "# Get all the pressure in nodes to a variable\n",
    "pressure_at_20hr = results.node['pressure'].loc[20*3600, :]\n",
    "pressure_with_leak_at_20hr = results_leak.node['pressure'].loc[20*3600, :]\n",
    "\n",
    "# Plot of EPANET model with pressure in nodes\n",
    "wntr.graphics.plot_network(wn, node_size=100,\n",
    "                           title='Pressure at hour 20 with no leak',\n",
    "                           node_attribute=pressure_at_20hr, \n",
    "                           node_colorbar_label='Pressure (m)')\n",
    "\n",
    "wntr.graphics.plot_network(wn, node_size=100, \n",
    "                           title='Pressure at hour 20 with leak at pipe 22',\n",
    "                           node_attribute=pressure_with_leak_at_20hr, \n",
    "                           node_colorbar_label='Pressure (m)')\n",
    "\n",
    "x, y = node.coordinates\n",
    "plt.scatter(x, y, s=200, facecolors='none', edgecolors='black')\n",
    "plt.annotate('Pipe leak: 22', xy=(x-5,y+5));"
   ]
  },
  {
   "cell_type": "markdown",
   "metadata": {},
   "source": [
    "When a eight hour leak is introduced in pipe 22 there is a large pressure drop in the whole system. This indicates that this pipe is very vulnerable to leaks. As seen in the plot below the pressure difference at the nodes is large. \n",
    "\n",
    "By having the opportunity to use the `split_pipe` function as shown, it is possible to iterate through each pipe in the network, adding a leak to the current pipe and running a simulation. By doing this it is possible to classify every pipe in the network and see what pipe is the most vulnerable."
   ]
  },
  {
   "cell_type": "markdown",
   "metadata": {},
   "source": [
    "## Power outage\n",
    "A power outage is a loss of the electrial power to the end user. In a water distribution system this can effect the water pressure if the network, for instance contains, a pump. The duration of a power outage can vary, from hours to even days. If you have a drop in water pressure this can result in shortage in water in different part of the system. WNTR have the function to turn of the power to the pump and simulate a power outage. This can be used to see what effect it has on the systems pressure.\n",
    "\n",
    "To read more about pumps and power outage please follow the links below:\n",
    "* [Pumps](https://epanet22.readthedocs.io/en/latest/3_network_model.html)\n",
    "* [Power outage](https://wntr.readthedocs.io/en/latest/disaster_models.html#power-outage)"
   ]
  },
  {
   "cell_type": "code",
   "execution_count": 14,
   "metadata": {},
   "outputs": [],
   "source": [
    "# Loading the EPANET model\n",
    "inp_file = 'Net1.inp'\n",
    "wn = wntr.network.WaterNetworkModel(inp_file)\n",
    "\n",
    "analysis_length = 72*3600 \n",
    "wn.options.time.duration = analysis_length\n",
    "wn.options.hydraulic.demand_model = 'PDD'\n",
    "wn.options.hydraulic.required_pressure = 20\n",
    "wn.options.hydraulic.minimum_pressure = 0"
   ]
  },
  {
   "cell_type": "markdown",
   "metadata": {},
   "source": [
    "#### Printing information about the pump(s)\n",
    "It is helpful to see if there is any pumps in the network, and to get  information about the pump(s)."
   ]
  },
  {
   "cell_type": "code",
   "execution_count": 15,
   "metadata": {},
   "outputs": [
    {
     "data": {
      "text/plain": [
       "<Pump '9' from '9' to '10', pump_type='HEAD', pump_curve=1, speed=<TimeSeries: base_value=1.0, pattern_name=None, category='None'>, status=Open>"
      ]
     },
     "execution_count": 15,
     "metadata": {},
     "output_type": "execute_result"
    }
   ],
   "source": [
    "wn.pump_name_list\n",
    "pump = wn.get_link('9')\n",
    "pump"
   ]
  },
  {
   "cell_type": "markdown",
   "metadata": {},
   "source": [
    "#### Plotting the pump curve\n",
    "Plotting the pumpe curve gives information about the relationship between the head and flow rate that is being delieverd at normal speed settings. A pump curve must have decreasing head with increasing flow to be valid. This can yield some information about how the pump operates under certain conditions. "
   ]
  },
  {
   "cell_type": "code",
   "execution_count": 16,
   "metadata": {},
   "outputs": [
    {
     "data": {
      "image/png": "[encoded data removed]",
      "text/plain": [
       "<Figure size 576x288 with 1 Axes>"
      ]
     },
     "metadata": {
      "needs_background": "light"
     },
     "output_type": "display_data"
    }
   ],
   "source": [
    "# Printing the pump curve to the pump in the water distribution system\n",
    "ax = wntr.graphics.plot_pump_curve(pump)"
   ]
  },
  {
   "cell_type": "markdown",
   "metadata": {},
   "source": [
    "This pump curve is called a single-point pump curve. This means that EPANET only have one design value for the head-flow combination. The way EPANET generates a polynomial function is by assuming a shut-off head at 133 % of the design value. It also makes a max flow limit at the double of the design value at zero head."
   ]
  },
  {
   "cell_type": "markdown",
   "metadata": {},
   "source": [
    "#### Closing water supply from tank\n",
    "Earlier in this guide, it is shown how to close a pipe. This function will now be used to simulate that the tank has been cut of the system after 24 hours. By doing this it is only the reservoir that supplies the water distribution system. "
   ]
  },
  {
   "cell_type": "code",
   "execution_count": 17,
   "metadata": {},
   "outputs": [],
   "source": [
    "# Add a control to close water suplly from tank\n",
    "pipe = wn.get_link('110')        \n",
    "act = wntr.network.controls.ControlAction(pipe, 'status', wntr.network.LinkStatus.Closed)\n",
    "cond = wntr.network.controls.SimTimeCondition(wn, '=', '24:00:00')\n",
    "ctrl = wntr.network.controls.Control(cond, act)\n",
    "wn.add_control(pipe, ctrl)"
   ]
  },
  {
   "cell_type": "markdown",
   "metadata": {},
   "source": [
    "#### Running a simulation with the tank shut out of the system"
   ]
  },
  {
   "cell_type": "code",
   "execution_count": 18,
   "metadata": {},
   "outputs": [],
   "source": [
    "# Run a simulation\n",
    "wn.reset_initial_values()\n",
    "sim = wntr.sim.WNTRSimulator(wn)\n",
    "results_no_tank = sim.run_sim()"
   ]
  },
  {
   "cell_type": "markdown",
   "metadata": {},
   "source": [
    "#### Plotting the results with closed pipe to tank when 30 hours have passed by"
   ]
  },
  {
   "cell_type": "code",
   "execution_count": 19,
   "metadata": {},
   "outputs": [
    {
     "data": {
      "image/png": "[encoded data removed]",
      "text/plain": [
       "<Figure size 432x288 with 2 Axes>"
      ]
     },
     "metadata": {},
     "output_type": "display_data"
    }
   ],
   "source": [
    "# Get all nodes with pressures after 30 hours\n",
    "pressure_at_30hr = results_no_tank.node['pressure'].loc[30*3600, :]\n",
    "\n",
    "# Plot of EPANET model with pressure in nodes\n",
    "wntr.graphics.plot_network(wn, node_size=100, \n",
    "                           title='Pressure at hour 30 with closed pipe (110) to tank',\n",
    "                           node_attribute=pressure_at_30hr, \n",
    "                           node_colorbar_label='Pressure (m)'\n",
    "                          );"
   ]
  },
  {
   "cell_type": "markdown",
   "metadata": {},
   "source": [
    "As seen in the plot, the pressure in the system is still sufficient while it is only the pump and reservoir supplying the water distribution system."
   ]
  },
  {
   "cell_type": "markdown",
   "metadata": {},
   "source": [
    "##### Simulating power outage\n",
    "\n",
    "Now that we know that the water distribution system have a pump, the next thing is to do is to simulate a power outage. This can be done by changing the pump status from ON to OFF for a duration of time. The supply from the water tank was stoppet after 24 hours. The power outage is added from hour 32 to 36."
   ]
  },
  {
   "cell_type": "code",
   "execution_count": 20,
   "metadata": {},
   "outputs": [],
   "source": [
    "# Adding a power outage to the pump\n",
    "pump.add_outage(wn, 32*3600, 36*3600, add_after_outage_rule=True)\n",
    "\n",
    "\n",
    "# Run a simulation with power outage\n",
    "wn.reset_initial_values()\n",
    "sim = wntr.sim.WNTRSimulator(wn)\n",
    "results_po = sim.run_sim()"
   ]
  },
  {
   "cell_type": "code",
   "execution_count": 21,
   "metadata": {},
   "outputs": [
    {
     "data": {
      "text/plain": [
       "<AxesSubplot:title={'center':'Pressure at hour 40 with power back to normal'}>"
      ]
     },
     "execution_count": 21,
     "metadata": {},
     "output_type": "execute_result"
    },
    {
     "data": {
      "image/png": "[encoded data removed]",
      "text/plain": [
       "<Figure size 432x288 with 2 Axes>"
      ]
     },
     "metadata": {},
     "output_type": "display_data"
    },
    {
     "data": {
      "image/png": "[encoded data removed]",
      "text/plain": [
       "<Figure size 432x288 with 2 Axes>"
      ]
     },
     "metadata": {},
     "output_type": "display_data"
    }
   ],
   "source": [
    "pressure_at_34hr = results_po.node['pressure'].loc[34*3600, :]\n",
    "pressure_at_40hr = results_po.node['pressure'].loc[40*3600, :]\n",
    "\n",
    "wntr.graphics.plot_network(wn, node_size=100, \n",
    "                           title='Pressure at hour 34 with power outage',\n",
    "                           node_attribute=pressure_at_34hr, \n",
    "                           node_colorbar_label='Pressure (m)')\n",
    "\n",
    "\n",
    "\n",
    "wntr.graphics.plot_network(wn, node_size=100, \n",
    "                           title='Pressure at hour 40 with power back to normal',\n",
    "                           node_attribute=pressure_at_40hr, \n",
    "                           node_colorbar_label='Pressure (m)')"
   ]
  },
  {
   "cell_type": "markdown",
   "metadata": {},
   "source": [
    "When the power is back to normal the pressure in the system is sufficient again."
   ]
  },
  {
   "cell_type": "markdown",
   "metadata": {},
   "source": [
    "WNTR have the opportunity to add a power outage to the network. This shows how the system behaves based on this situation. Every INP file is different, and this can result in various results by using the `add_outage` function. In this water distribution system a power outage did not affect the system because of the water tank supplying enough water. Therefor it was needed to block the water tank out of the system. \n",
    "\n",
    "Another problem that occured is that the pump will not start up again when the water tank is blocked because the pump restarts based on the water tank level. To force the pump to start when the power outage is over `add_after_outage` has to be set to `True` in the `add_outage` function."
   ]
  },
  {
   "cell_type": "markdown",
   "metadata": {},
   "source": [
    "## Conclusion\n",
    "Disaster scenarios will always be a risk to water distribution networks. As shown in this notebook, disaster scenarios that can affect the resilience of a water netwrok system, such as pipe closures, fire extinguishing, pipe leaks and power outages can be simulated using the WNTR Python package. These scenarios can influence the hydraulics of the water network, and thereby affecting the water quality. If the network is well planned, the network can handle these scenarios and the water quality can be maintained."
   ]
  }
 ],
 "metadata": {
  "kernelspec": {
   "display_name": "Python 3",
   "language": "python",
   "name": "python3"
  },
  "language_info": {
   "codemirror_mode": {
    "name": "ipython",
    "version": 3
   },
   "file_extension": ".py",
   "mimetype": "text/x-python",
   "name": "python",
   "nbconvert_exporter": "python",
   "pygments_lexer": "ipython3",
   "version": "3.8.5"
  }
 },
 "nbformat": 4,
 "nbformat_minor": 4
}
