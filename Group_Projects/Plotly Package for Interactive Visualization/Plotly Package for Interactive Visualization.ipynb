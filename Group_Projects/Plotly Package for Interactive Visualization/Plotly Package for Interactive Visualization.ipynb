{
 "cells": [
  {
   "cell_type": "markdown",
   "id": "036e424a",
   "metadata": {},
   "source": [
    "<hr style=\"border:0.2px solid black\"> </hr>\n",
    "\n",
    "<figure>\n",
    "  <IMG SRC=\"data/ntnu_logo.png\" WIDTH=250 ALIGN=\"right\">\n",
    "</figure>\n",
    "\n",
    "**<ins>Course:</ins>** TVM4174 - Hydroinformatics for Smart Water Systems - Spring 2022\n",
    "\n",
    "# Using Plotly Package for Interactive Visualization\n",
    "    \n",
    "*Developed by Bastian Habbel and Leonardo Sigmund*\n",
    "\n",
    "<hr style=\"border:0.2px solid black\"> </hr>\n",
    "\n",
    "    \n"
   ]
  },
  {
   "cell_type": "markdown",
   "id": "3d05305b",
   "metadata": {},
   "source": [
    "# Introduction\n",
    "\n",
    "The plotly Python library is an interactive, open-source plotting library that supports over 40 unique chart types covering a wide range of statistical, financial, geographic, scientific, and 3-dimensional use-cases. Built on top of the Plotly JavaScript library (plotly.js), plotly enables Python users to create interactive web-based visualizations that can be displayed in Jupyter notebooks, saved to standalone HTML files, or served as part of pure Python-built web applications using Dash. The plotly Python library is sometimes referred to as \"plotly.py\" to differentiate it from the JavaScript library.\n",
    "\n",
    "Full details for the plotly library are given in the [Plotly Documentation](https://plotly.com/python/). This notebook aims to give a basic understanding of the possibilities of this package in the field of water distribution, general data sciences and mapping.\n",
    "\n",
    "The sublibraries which are used in this notebook are `plotly.express` as `px`'and `plotly.graph_object` as `go`. Eventhough it's not necessary to reload the package for every chapter, we decided to leave it in the code so that the chapters can be used indepedent.\n",
    "\n",
    "# Previous knowledge\n",
    "\n",
    "This notebook requires some previous knowledge some packages. In case you have difficulties in understanding the code, we recommend you to take a look on [Mark Bakker's Tutorials](https://mbakker7.github.io/exploratory_computing_with_python/).\n",
    "- `matplotbib`: We refer to it in some parts since the working process is similar.  \n",
    "  - Notebook 1: [Basics and Plotting](https://nbviewer.org/github/mbakker7/exploratory_computing_with_python/blob/master/notebook1_basics_plotting/py_exploratory_comp_1_sol.ipynb)\n",
    "- `numpy`: Used for functions  \n",
    "  - Notebook 4: [Functions](https://nbviewer.org/github/mbakker7/exploratory_computing_with_python/blob/master/notebook4_functions/py_exploratory_comp_4_sol.ipynb) \n",
    "- `pandas`: In general useful for data handling with dataframes\n",
    "  - Notebook 8: [Pandas and time series](https://nbviewer.org/github/mbakker7/exploratory_computing_with_python/blob/master/notebook8_pandas/py_exploratory_comp_8_sol.ipynb)\n",
    "- `wntr`: This package should be known from the class, it is used to analyze water distribution networks. There may be a good notebook available on blackboard which explains the necessary basics for this package.\n",
    " \n",
    "  "
   ]
  },
  {
   "cell_type": "markdown",
   "id": "0f5f5900",
   "metadata": {},
   "source": [
    "# Content"
   ]
  },
  {
   "cell_type": "markdown",
   "id": "7510b2b6",
   "metadata": {},
   "source": [
    "**0. [Installation of the package](#0.-Installation-of-the-package)**\n",
    "\n",
    "**1. [Plotting data series](#1.-Plotting-data-series)**\n",
    "  - Basic bar plot\n",
    "  - Customized plot\n",
    "  - Range slider and selectors\n",
    "  - Basic line plot\n",
    "  \n",
    "**2. [Statistical Analysis: Histogram](#2-Statistical-Analysis:-Histogram)**\n",
    "\n",
    "**3. [3D plotting](#3.-3D-plots)**\n",
    "  - 3D scatter plots\n",
    "  - 3D surface plots\n",
    "  \n",
    "**4. [Map plotting](#4.-Map-plotting)**\n",
    "\n",
    "**5. [Plotting a water distribution network](#5.-Plotting-a-water-distribution-network)**\n",
    "\n",
    "**6. [Animations](#6.-Animations)**\n",
    "\n",
    "**7. [Saving figures](#7.-Saving-figures)**\n"
   ]
  },
  {
   "cell_type": "markdown",
   "id": "eba55970",
   "metadata": {},
   "source": [
    "There are some tasks included, which you can use to test your knowledge. The [Solutions to the tasks](#Task-solutions) are at the end of this notebook.\n",
    "\n",
    "Let's start!"
   ]
  },
  {
   "cell_type": "markdown",
   "id": "7ca57ed2",
   "metadata": {},
   "source": [
    "# 0. Installation of the package"
   ]
  },
  {
   "cell_type": "markdown",
   "id": "07a7e450",
   "metadata": {},
   "source": [
    "Plotly can be installed using `pip`. Once installed on the kernel, this step can be skipped. Be aware, maybe the version is updated..."
   ]
  },
  {
   "cell_type": "code",
   "execution_count": null,
   "id": "f14953e7",
   "metadata": {},
   "outputs": [],
   "source": [
    "pip install plotly==5.7.0 "
   ]
  },
  {
   "cell_type": "markdown",
   "id": "fe329687",
   "metadata": {},
   "source": [
    "# 1. Plotting data series"
   ]
  },
  {
   "cell_type": "markdown",
   "id": "7c3b112e",
   "metadata": {},
   "source": [
    "### Import data"
   ]
  },
  {
   "cell_type": "markdown",
   "id": "607c4a6a",
   "metadata": {},
   "source": [
    "First, we need some example data. In this case, we use annual rainfall data for Rotterdam which is stored under `rotterdam_rainfall_2012.txt`. Here, we prepare the data since we start with a raw textfile."
   ]
  },
  {
   "cell_type": "code",
   "execution_count": null,
   "id": "df8741c5",
   "metadata": {},
   "outputs": [],
   "source": [
    "import pandas as pd\n",
    "\n",
    "#1. read data\n",
    "raindailyRotterdam = pd.read_csv('data/rotterdam_rainfall_2012.txt', sep=',', skiprows=9, parse_dates=['YYYYMMDD'],skipinitialspace=True)\n",
    "\n",
    "#2. convert to mm/d\n",
    "raindailyRotterdam.iloc[:,2] = raindailyRotterdam.iloc[:,2] * 0.1\n",
    "\n",
    "#3. replace false values\n",
    "raindailyRotterdam.loc[raindailyRotterdam.RH<0.0, 'RH'] = 0.0"
   ]
  },
  {
   "cell_type": "markdown",
   "id": "9fd1c35b",
   "metadata": {},
   "source": [
    "### Basic bar plot"
   ]
  },
  {
   "cell_type": "markdown",
   "id": "33c94fd0",
   "metadata": {},
   "source": [
    "The library `express`, usually imported as `xp`, is build on basis of the library `graph_objects`, but makes the code more simple.\n",
    "Use Plotly Express to show the data in an interactive graph:"
   ]
  },
  {
   "cell_type": "code",
   "execution_count": null,
   "id": "617a096a",
   "metadata": {},
   "outputs": [],
   "source": [
    "import plotly.express as px\n",
    "\n",
    "fig = px.bar(raindailyRotterdam, x='YYYYMMDD', y='RH')\n",
    "fig.show()"
   ]
  },
  {
   "cell_type": "markdown",
   "id": "41061445",
   "metadata": {},
   "source": [
    "You can already zoom in the graph and see more details compared to other methods. Give it a try with your mouse! There is a menu on the top-right corner which e.g. allows you to come back to the initial state."
   ]
  },
  {
   "cell_type": "markdown",
   "id": "7c694a64",
   "metadata": {},
   "source": [
    "### Customized plot"
   ]
  },
  {
   "cell_type": "markdown",
   "id": "dd07050b",
   "metadata": {},
   "source": [
    "We can store and costumize the figure, similar to the procedure used in `matplotlib`:\n",
    "\n",
    "- `ticklabelmode` indicates where the labels are positioned.\n",
    "- `dtick` defines the inferval of labels."
   ]
  },
  {
   "cell_type": "code",
   "execution_count": null,
   "id": "dd35e4d0",
   "metadata": {},
   "outputs": [],
   "source": [
    "#store the plot in a variable\n",
    "fig = px.bar(raindailyRotterdam, x='YYYYMMDD', y='RH')\n",
    "\n",
    "#add a title. The content of the following line could also be part of the brackets above:\n",
    "fig.update_layout(title = 'Rainfall distribution Rotterdamm')\n",
    "\n",
    "#costumize the axis\n",
    "fig.update_xaxes(title='2012', ticklabelmode=\"period\")\n",
    "fig.update_yaxes(title='Precipitation [mm/day]', dtick='2')\n",
    "\n",
    "#show the graph\n",
    "fig.show()"
   ]
  },
  {
   "cell_type": "markdown",
   "id": "39cc6672",
   "metadata": {},
   "source": [
    "### Rangeslider and selectors"
   ]
  },
  {
   "cell_type": "markdown",
   "id": "0427d6b0",
   "metadata": {},
   "source": [
    "As you may have noticed, it's sometimes hard to zoom into a part of the graph without changing the scaling in y-direction without purpose. Therefore, Plotly has invented additional navigation tools that will be shown in this chapter."
   ]
  },
  {
   "cell_type": "markdown",
   "id": "63f1a0cf",
   "metadata": {},
   "source": [
    "#### Rangeslider\n",
    "A rangeslider can be added to allow a closer look on the data series by setting the boolean `rangeslider_visible` on true:"
   ]
  },
  {
   "cell_type": "code",
   "execution_count": null,
   "id": "77b28deb",
   "metadata": {
    "scrolled": true
   },
   "outputs": [],
   "source": [
    "fig = fig.update_xaxes(rangeslider_visible=True)"
   ]
  },
  {
   "cell_type": "markdown",
   "id": "e7878a65",
   "metadata": {},
   "source": [
    "More information about the rangeslider can be found in the [documentation](https://plotly.com/python/reference/layout/xaxis/#layout-xaxis-rangeslider)."
   ]
  },
  {
   "cell_type": "markdown",
   "id": "6ef93afb",
   "metadata": {},
   "source": [
    "#### Selectors\n",
    "Additional selectors for pre-defined time-intervals might be useful as well:"
   ]
  },
  {
   "cell_type": "code",
   "execution_count": null,
   "id": "1dc6e566",
   "metadata": {},
   "outputs": [],
   "source": [
    "fig = fig.update_xaxes(\n",
    "    rangeslider_visible=True,\n",
    "    rangeselector=dict(\n",
    "        buttons=list([\n",
    "            dict(count=7, label=\"7 days\", step=\"day\", stepmode=\"todate\"),\n",
    "            dict(count=1, label=\"1 month\", step=\"month\", stepmode=\"backward\"),\n",
    "            dict(count=6, label=\"1/2 year\", step=\"month\", stepmode=\"backward\"),\n",
    "            dict(step=\"all\")\n",
    "        ])\n",
    "    )\n",
    ")"
   ]
  },
  {
   "cell_type": "markdown",
   "id": "6e7928c1",
   "metadata": {},
   "source": [
    "It is important to mention that it's necessary to parse the dates before so that plotly knows where to set the timesteps. Same here, in case you have further questions, they are probably answered in the [documentation](https://plotly.com/python/reference/layout/xaxis/#layout-xaxis-rangeselector).\n",
    "\n",
    "\n",
    "Let's have a look on the result:"
   ]
  },
  {
   "cell_type": "code",
   "execution_count": null,
   "id": "6f8a6034",
   "metadata": {},
   "outputs": [],
   "source": [
    "fig.show()"
   ]
  },
  {
   "cell_type": "markdown",
   "id": "8e7a6033",
   "metadata": {},
   "source": [
    "The selectors appear on top of the graph and the slider on the bottom.\n",
    "\n",
    "Give it a try! You can always come back to the initial view using the navigation in the top-right corner."
   ]
  },
  {
   "cell_type": "markdown",
   "id": "4e481e15",
   "metadata": {},
   "source": [
    "### Basic line plot"
   ]
  },
  {
   "cell_type": "markdown",
   "id": "13c7c9ec",
   "metadata": {},
   "source": [
    "Some data, for instance yearly trends, are better to show in a line than in a barplot. Plotly express provides interactive line charts for this purpose as well as will be shown in the following. \n",
    "\n",
    "Gapminder Foundation is a non-profit venture registered in Stockholm, Sweden, that promotes sustainable global development and achievement of the United Nations Millennium Development Goals by increased use and understanding of statistics and other information about social, economic and environmental development at local, national and global levels. This also touches our topic, the water distribution networks. Let us have a global view on the development of water distribution in the least-developed countries regarding water access.\n",
    "\n",
    "Therefore, we first import the data about about overall water access, provided by Gapminder Foundation and the World Bank. A look in the dataframe tells us that there is data of 168 countries worldwide, whereas not all the datasets are complete. We will use Plotly to visualize the development of the 10 countries having the worst access to water in 2000."
   ]
  },
  {
   "cell_type": "code",
   "execution_count": null,
   "id": "e37ffe3e",
   "metadata": {},
   "outputs": [],
   "source": [
    "#Using Pandas to read the csv file and sort the data\n",
    "water = pd.read_csv('data/gapminder_water_access.csv', index_col=0)\n",
    "ranking2000 = water.sort_values('2000')\n",
    "worst2000 = ranking2000.head(10)"
   ]
  },
  {
   "cell_type": "code",
   "execution_count": null,
   "id": "a1b7afea",
   "metadata": {},
   "outputs": [],
   "source": [
    "#Using plotly for visualization:\n",
    "fig = px.line(worst2000.T, color_discrete_sequence=px.colors.diverging.balance)\n",
    "\n",
    "#add a title. The content of the following line could also be part of the brackets above:\n",
    "fig.update_layout(title = 'Development of 10 countries with poorest water distribution in year 2000')\n",
    "\n",
    "#costumize the axis\n",
    "fig.update_xaxes(title='Year', ticklabelmode=\"period\", dtick = 1)\n",
    "fig.update_yaxes(title='overall water access [%]', dtick='10')"
   ]
  },
  {
   "cell_type": "markdown",
   "id": "159bfdc7",
   "metadata": {},
   "source": [
    "As you can see, eventhough the situation is not perfect yet, a lot of improvement has taken place!\n",
    "\n",
    "Even if the lines have different colors, it might be difficult to distinguish between the different countries. The interactive graphic helps out in two different ways: Either, you can hover over the lines and you will see the country as well as the x & y parameters, or you can use the legend on the right side to deselect (one click) or to isolate (double click) one country. Give it a try!"
   ]
  },
  {
   "cell_type": "markdown",
   "id": "53f6e9ae",
   "metadata": {},
   "source": [
    "### Task 1: show a time-series analysis"
   ]
  },
  {
   "cell_type": "markdown",
   "id": "871bdb58",
   "metadata": {},
   "source": [
    "In this task, you have to combine the two examples from above: You should create a visualization of the precipitation measurement in Sagelva from 2018 to 2020."
   ]
  },
  {
   "cell_type": "markdown",
   "id": "09cb0fe7",
   "metadata": {},
   "source": [
    "- create a pandas dataframe from the csv file named `'Sagelva_Precipitation.csv'`from the folder `'data'` and have a look on it\n",
    "- create a barplot using the plotly express library. Be aware of the following things:\n",
    "  - Bars: The bars should not add up but stand beside each other --> use `barmode`\n",
    "  - Title: Add a `title` for the plot\n",
    "  - Axis: Add a titles and make sure that the dates are shown correctly on the x axes\n",
    "  - Legend: make sure that you can select and deselect the different years\n",
    "- Add the additional navigation tool `rangeslider`"
   ]
  },
  {
   "cell_type": "code",
   "execution_count": null,
   "id": "82545899",
   "metadata": {},
   "outputs": [],
   "source": [
    "# Your code here..."
   ]
  },
  {
   "cell_type": "markdown",
   "id": "99872ac4",
   "metadata": {},
   "source": [
    "[Solution to task 1](#Solution-to-task-1)"
   ]
  },
  {
   "cell_type": "markdown",
   "id": "343032e3",
   "metadata": {},
   "source": [
    "# 2. Statistical analysis: Histogram"
   ]
  },
  {
   "cell_type": "markdown",
   "id": "71992898",
   "metadata": {},
   "source": [
    "Back to the first data set about the precipitation in Rotterdam.\n",
    "\n",
    "A statistical analysis of the data can be helpful to find a pattern. The express library has therefore as well some tools inclded of which one will be shown here. On top, we use the `graph objects` library, usually imported as `go`, which is the basis for the plotly express library, in order to add a trace and show the daily precipitation as well."
   ]
  },
  {
   "cell_type": "code",
   "execution_count": null,
   "id": "e6b420e3",
   "metadata": {},
   "outputs": [],
   "source": [
    "import plotly.express as px\n",
    "import plotly.graph_objects as go\n",
    "\n",
    "fig = px.histogram(raindailyRotterdam, x='YYYYMMDD', y='RH', histfunc='avg', title=\"Monthly Average Rainfall\", range_y=['-1','25'], range_x=['2012-01-01', '2012-12-31'])\n",
    "fig.update_traces(xbins_size=\"M1\")\n",
    "fig.update_xaxes(title='2012',showgrid=True, ticklabelmode=\"period\", dtick=\"M1\", tickformat=\"%b\\n%Y\")\n",
    "fig.update_layout(bargap=0.05)\n",
    "fig.add_trace(go.Scatter(mode='markers', x = raindailyRotterdam['YYYYMMDD'], y = raindailyRotterdam['RH'], name=\"daily\"))"
   ]
  },
  {
   "cell_type": "markdown",
   "id": "cb867baa",
   "metadata": {},
   "source": [
    "### Task 2: Time series analysis"
   ]
  },
  {
   "cell_type": "markdown",
   "id": "0cea742a",
   "metadata": {},
   "source": [
    "Please use the rainfall data of Rotterdam to create a barplot of the total rainfall per month. Represent the daily variation with a line."
   ]
  },
  {
   "cell_type": "code",
   "execution_count": null,
   "id": "03568b31",
   "metadata": {},
   "outputs": [],
   "source": [
    "# Your code here..."
   ]
  },
  {
   "cell_type": "markdown",
   "id": "3d06320f",
   "metadata": {},
   "source": [
    "[Solution to task 2](#Solution-to-task-2)"
   ]
  },
  {
   "cell_type": "markdown",
   "id": "f076d09a",
   "metadata": {},
   "source": [
    "# 3. 3D plots"
   ]
  },
  {
   "cell_type": "markdown",
   "id": "ea7e6d3a",
   "metadata": {},
   "source": [
    "Plotly enables you to create 3-dimensional graphs, that you can pan and zoom using the mouse."
   ]
  },
  {
   "cell_type": "markdown",
   "id": "f8003cc3",
   "metadata": {},
   "source": [
    "### 3D scatter plots"
   ]
  },
  {
   "cell_type": "markdown",
   "id": "83e96eee",
   "metadata": {},
   "source": [
    "The simplest form of these are scatter plots. These can be used to graph point that are dependend on 2 variables.\n",
    "\n",
    "Further examples can be found in the official [documentation](https://plotly.com/python/3d-scatter-plots/)."
   ]
  },
  {
   "cell_type": "markdown",
   "id": "faae0be1",
   "metadata": {},
   "source": [
    "Here is an example of the measured pressures at different scensors (hydrants) for different scenarios in a water distribution system. Used are the final results of the 2nd Assignment of the Hydroinformatics course.\n",
    "\n",
    "The margins are removed, because axis labels can't move into the margin areas in 3d plots."
   ]
  },
  {
   "cell_type": "code",
   "execution_count": null,
   "id": "cd135592",
   "metadata": {},
   "outputs": [],
   "source": [
    "# import packages\n",
    "import plotly.express as px\n",
    "import numpy as np\n",
    "import pandas as pd\n",
    "\n",
    "#read in data and convert into usable format\n",
    "df = pd.read_csv('data/pressures.csv', decimal='.', sep=',')\n",
    "df = df.melt('Sensors')\n",
    "df.columns = ['Sensors', 'Scenarios', 'Pressure [m]']\n",
    "df2 = pd.read_csv('data/SSE_values.csv', decimal='.', sep=',')\n",
    "df2 = df2.melt('Sensors')\n",
    "df.insert(3, 'SSE', df2[\"value\"])\n",
    "\n",
    "#plot the data\n",
    "fig = px.scatter_3d(df, x='Sensors', y='Scenarios', z='Pressure [m]', height=700)\n",
    "\n",
    "#remove margins\n",
    "fig.update_layout(margin=dict(l=0, r=0, t=0, b=0))\n",
    "\n",
    "fig.show()"
   ]
  },
  {
   "cell_type": "markdown",
   "id": "bed8813b",
   "metadata": {},
   "source": [
    "You can use your mouse to rotate the 3D plot and the mousewheel to zoom in. Try it out!"
   ]
  },
  {
   "cell_type": "markdown",
   "id": "d71b75d4",
   "metadata": {},
   "source": [
    "As a forth dimension color can be used. In the following plot the sum of squared errors (SSE) between the measured and simulated pressures over all scenarios and sensors in the water distribution system are indicated by their `color`.\n",
    "Furthermore can the `opacity`be changed"
   ]
  },
  {
   "cell_type": "code",
   "execution_count": null,
   "id": "9b40bb63",
   "metadata": {},
   "outputs": [],
   "source": [
    "#plot the data\n",
    "fig = px.scatter_3d(df, x=\"Sensors\", y=\"Scenarios\", z='Pressure [m]', color = \"SSE\", \n",
    "                    opacity = .6, title=\"Measured pressures\", width=800, height=800)\n",
    "\n",
    "fig.show()"
   ]
  },
  {
   "cell_type": "markdown",
   "id": "d60cc05e",
   "metadata": {},
   "source": [
    "To change the appearence of 3-dimenionsal plots the function `fig.update_scenes` is used. Here are a few examples of what can be changed. Also check the [documentation](https://plotly.com/python/reference/layout/scene/).\n",
    "\n",
    "- `xaxis_nticks` changes the number of ticks on the xaxis.\n",
    "- `camera_projection_type`can be used to change the camera projection between \"perspective\" and \"orthographic\".\n",
    "- `xaxis_color` changes all colors associated with this axis.\n",
    "- `xaxis_gridcolor`can be used to change the color of the x-axis grid. RGB-values can also be used to define the color.\n",
    "- `xaxis_backgroundcolor`is used to change the color of the backround.\n",
    "- `xaxis_tickangle`is used to change the angle of the ticklabels.\n",
    "- `xaxis_ticks`is used to disable the tickmarks\n",
    "- `xaxis_tickfont` is used to change the `color`, the `family`(the font) and the `size`of the tick labels.\n",
    "\n",
    "To avoid the labels from getting cut off and make sure the title is displayed on the sides, the `margin` can be set with the function `fig.update_layout`. In 3d plots, axis labels don't actually pertrude into this margin area though."
   ]
  },
  {
   "cell_type": "code",
   "execution_count": null,
   "id": "8c3e1982",
   "metadata": {},
   "outputs": [],
   "source": [
    "# change appearence\n",
    "fig.update_scenes(xaxis_nticks=12, \n",
    "                  camera_projection_type=\"orthographic\", \n",
    "                  xaxis_color=\"black\",\n",
    "                  xaxis_gridcolor='rgb(204, 204, 204)',\n",
    "                  yaxis_gridcolor='rgb(204, 204, 204)',\n",
    "                  zaxis_gridcolor='rgb(204, 204, 204)',\n",
    "                  xaxis_backgroundcolor=\"white\",\n",
    "                  yaxis_backgroundcolor=\"white\",\n",
    "                  zaxis_backgroundcolor=\"white\",\n",
    "                  xaxis_tickangle= 30, \n",
    "                  xaxis_ticks=\"\", yaxis_ticks=\"\", \n",
    "                  xaxis_tickfont=dict(size=11, family=\"PT Sans Narrow\"),\n",
    "                  yaxis_tickfont=dict(size=11, family=\"PT Sans Narrow\"),\n",
    "                  zaxis_tickfont=dict(size=11, family=\"PT Sans Narrow\"))\n",
    "\n",
    "# increase margin\n",
    "fig.update_layout(margin=dict(l=50, r=50, t=100, b=50))"
   ]
  },
  {
   "cell_type": "markdown",
   "id": "05237ee4",
   "metadata": {},
   "source": [
    "### 3D surface plots"
   ]
  },
  {
   "cell_type": "markdown",
   "id": "84b1f4c8",
   "metadata": {},
   "source": [
    "The Rastrigin function is a well-known function, whith a lot of local optima, but only one global optimum. It is defined as:\n",
    "\n",
    "\\begin{align}\n",
    "f(\\mathbf{x}) \\ = \\ a \\cdot D + \\sum_{i=1}^{D} \\left(x_{i}^{2} - a \\cdot \\cos (2 \\pi x_i) \\right)\n",
    "\\end{align}\n",
    "\n",
    "For more details check it out on [Wikipedia](https://de.wikipedia.org/wiki/Rastrigin-Funktion)!\n",
    "\n",
    "To display it as a 3-dimensional surface plot, we use the `go.Figure`function, part of `plotly.graph_objects`."
   ]
  },
  {
   "cell_type": "code",
   "execution_count": null,
   "id": "02e863c5",
   "metadata": {},
   "outputs": [],
   "source": [
    "# define the rastrigin function for D dimensions\n",
    "def rastrigin(xvector, a=15):\n",
    "    \n",
    "    D = len(xvector)\n",
    "    value = D * a \n",
    "    for x in xvector:\n",
    "        value += x ** 2 - a * np.cos(2 * np.pi * x)\n",
    "    return value"
   ]
  },
  {
   "cell_type": "code",
   "execution_count": null,
   "id": "64d732de",
   "metadata": {},
   "outputs": [],
   "source": [
    "# calculate data for desired range\n",
    "x = np.linspace(-7, 7, 250)\n",
    "X, Y = np.meshgrid(x, x)\n",
    "Z = rastrigin([X,Y])"
   ]
  },
  {
   "cell_type": "code",
   "execution_count": null,
   "id": "19c3e13b",
   "metadata": {},
   "outputs": [],
   "source": [
    "#create surface figure\n",
    "import plotly.graph_objects as go\n",
    "\n",
    "fig = go.Figure(data=[go.Surface(x=X, y=Y, z=Z)],)\n",
    "\n",
    "fig.update_layout(title='Rastrigin function',\n",
    "                  width=800, height=800,\n",
    "                  margin=dict(l=65, r=50, b=90, t=90))\n",
    "\n",
    "fig.show()"
   ]
  },
  {
   "cell_type": "markdown",
   "id": "365d3b43",
   "metadata": {},
   "source": [
    "You can see the many local optima, but there is only one global minimum, which is located at (0,0)."
   ]
  },
  {
   "cell_type": "markdown",
   "id": "500d61ae",
   "metadata": {},
   "source": [
    "### Task 3: Create a surface plot of a monkey saddle"
   ]
  },
  {
   "cell_type": "markdown",
   "id": "710a81ea",
   "metadata": {},
   "source": [
    "Use your gained knowledge to create a 3d surface plot of a \"monkey saddle\". \n",
    "A monkey saddle is the name of the following function: \n",
    "\\begin{align}\n",
    "z \\ = \\ x^{3}-3xy^{2}\n",
    "\\end{align}\n",
    "\n",
    "For more information check it out on [Wikipedia](https://en.wikipedia.org/wiki/Monkey_saddle)!\n",
    "\n",
    "- Show the graph in a range from -10 to 10 (in x and y direction)\n",
    "- Change the colors to make it look like \"dark mode\""
   ]
  },
  {
   "cell_type": "code",
   "execution_count": null,
   "id": "556c122d",
   "metadata": {},
   "outputs": [],
   "source": [
    "# Your code here..."
   ]
  },
  {
   "cell_type": "markdown",
   "id": "48ff10a4",
   "metadata": {},
   "source": [
    "[Solution to task 3](#Solution-to-task-3)"
   ]
  },
  {
   "cell_type": "markdown",
   "id": "8e045c44",
   "metadata": {},
   "source": [
    "# 4. Map plotting"
   ]
  },
  {
   "cell_type": "markdown",
   "id": "2bb255f7",
   "metadata": {},
   "source": [
    "The map feature can be useful for any kind of geographical information. For instance, data regarding water-distribution networks can be visualized as well as socio-geographical behaviors like the distribution of a population within a country.\n",
    "\n",
    "For this task, we import a table with cities and small towns in Norway. The data is downloaded from [SimpleMaps.com](https://simplemaps.com/data/no-cities) and adapted to the unicode to be readable with pandas. More information about pandas can be found in [Mark Bakkers Notebook 8](https://nbviewer.org/github/mbakker7/exploratory_computing_with_python/blob/master/notebook8_pandas/py_exploratory_comp_8_sol.ipynb)."
   ]
  },
  {
   "cell_type": "code",
   "execution_count": null,
   "id": "131e80bb",
   "metadata": {},
   "outputs": [],
   "source": [
    "#Installation of the Packages\n",
    "import pandas as pd\n",
    "import plotly.express as px\n",
    "\n",
    "#read data\n",
    "placesNo = pd.read_csv('data/places_norway.csv')"
   ]
  },
  {
   "cell_type": "markdown",
   "id": "f2db67c8",
   "metadata": {},
   "source": [
    "We can use the [Scatter Mapbox](https://plotly.com/python/mapbox-layers/) function which requires latitudinal and longitudinal coordinates and can show us the cities in a color code according to the population.\n",
    "\n",
    "- `dataframe, lat='...', lon='...` This function needs to know where to find the coordiates in the dataframe. Coordinates are given in the Decimal Degree format with one latitude (y - direction: North/South) and one longitude(x - direction: East/West) value.\n",
    "- `layout.mapbox.style` defines the lowest layer, also known as base map. \n",
    "  - It refers to an open library and is used by known services as STRAVA, lonely planet and national geographic. \n",
    "  - Default is a white background, so if you want to have the map in the background you have to set a style. \n",
    "    - Three commonly used are `'open-street-map'`, `'carto-positron'` and `'stamen-terrain'`. \n",
    "    - Further styles can be seen as well in the [documentation](https://plotly.com/python/mapbox-layers/).\n",
    "  - It is possible to use satellite images provided by the Unitest States Geological Survey (USGS).\n",
    "- `hover_name` defines the upper row which is shown when you move your mouse and hover about a point on the map.\n",
    "- `hover_data` will be shown in the box as well\n",
    "- `zoom` defines the initial zoom level. 1 shows the entire world, 10 is suitable to show points in a city.\n",
    "- The layout is updated to adapt the outputsize and add a title."
   ]
  },
  {
   "cell_type": "code",
   "execution_count": null,
   "id": "5a961393",
   "metadata": {},
   "outputs": [],
   "source": [
    "map = px.scatter_mapbox(placesNo, lat='lat', lon='lng', \n",
    "                        mapbox_style = 'carto-positron', \n",
    "                        hover_name = 'City',\n",
    "                        hover_data = [\"Population\", \"Status\"],\n",
    "                        color = 'Administration', \n",
    "                        color_discrete_sequence=px.colors.cyclical.IceFire,\n",
    "                        size = 'Population',\n",
    "                        zoom=3.1)\n",
    "map.update_layout(title='Cities in Norway',\n",
    "                  width=950, height=800)\n",
    "map.show()"
   ]
  },
  {
   "cell_type": "markdown",
   "id": "b058a358",
   "metadata": {},
   "source": [
    "As well as in the time series analysis, we can use the mouse to navigate through the map. Thereby we can extract more knowledge out of the interactive map as  would be possible in a standard map. Give it a try and find out the population of Trondheim!\n"
   ]
  },
  {
   "cell_type": "markdown",
   "id": "d50bffee",
   "metadata": {},
   "source": [
    "### Task 4:  Create a map"
   ]
  },
  {
   "cell_type": "markdown",
   "id": "75dfe1c4",
   "metadata": {},
   "source": [
    "Let's use the gained knowledge and create a map of all the swedish cities:\n",
    "- The csv- file you need is called `'places_sweden.csv'`\n",
    "- Select a darker basemap as in the example and adapt the color scheme.\n",
    "- Make sure that the city names, the authority type as well as the population is shown. You may have to take a look into the dataframe to see the correct labels.\n",
    "- Does this map need another initial zoom- level?"
   ]
  },
  {
   "cell_type": "code",
   "execution_count": null,
   "id": "900a6a8e",
   "metadata": {},
   "outputs": [],
   "source": [
    "# Your code here..."
   ]
  },
  {
   "cell_type": "markdown",
   "id": "bc621ea8",
   "metadata": {},
   "source": [
    "[Solution to task 4](#Solution-to-task-4)"
   ]
  },
  {
   "cell_type": "markdown",
   "id": "9680925f",
   "metadata": {},
   "source": [
    "# 5. Plotting a water distribution network"
   ]
  },
  {
   "cell_type": "markdown",
   "id": "d84bbb01",
   "metadata": {},
   "source": [
    "The `wntr`package can be used as a link between python and an EPANET network model. More information about EPANET is given in the lectures as well as in the [documentation](https://epanet22.readthedocs.io/en/latest/index.html). \n",
    "\n",
    "In the `wntr`package there is an implementation of `plotly`, which can be used to create basic interactive plots of the water network model. [Documentation](https://wntr.readthedocs.io/en/stable/apidoc/wntr.graphics.network.html?highlight=plot_interactive) \n",
    "\n",
    "But this functionality is quite limited, as only `node_attribute`s can be displayed. The following example shows how to create this type of interactive html file using the `wntr`package."
   ]
  },
  {
   "cell_type": "code",
   "execution_count": null,
   "id": "aeb3dd93",
   "metadata": {},
   "outputs": [],
   "source": [
    "import wntr"
   ]
  },
  {
   "cell_type": "code",
   "execution_count": null,
   "id": "930e53f8",
   "metadata": {},
   "outputs": [],
   "source": [
    "# get elevation data\n",
    "wn = wntr.network.WaterNetworkModel('data/Exercise_Original.inp')\n",
    "elevation = wn.query_node_attribute('elevation')\n",
    "\n",
    "# create plot (creates an html file)\n",
    "wntr.graphics.plot_interactive_network(wn, filename='data/Interactive_Model.html', auto_open=False, \n",
    "                            node_attribute=elevation, node_cmap = \"magma\", \n",
    "                            title= \"Elevation of Network Model\", \n",
    "                            figsize = (854,480))"
   ]
  },
  {
   "cell_type": "markdown",
   "id": "519382a7",
   "metadata": {},
   "source": [
    "To display an html file inside of jupyter notebooks, the `IPython.display` can be used. "
   ]
  },
  {
   "cell_type": "code",
   "execution_count": null,
   "id": "fbf64fc5",
   "metadata": {},
   "outputs": [],
   "source": [
    "# display html file in jupyter notebooks\n",
    "from IPython.display import IFrame\n",
    "IFrame(src='data/Interactive_Model.html', width=980, height=550)"
   ]
  },
  {
   "cell_type": "markdown",
   "id": "f161c51a",
   "metadata": {},
   "source": [
    "## 6. Animations"
   ]
  },
  {
   "cell_type": "markdown",
   "id": "fe4c169b",
   "metadata": {},
   "source": [
    "To create a simple animaton in a scatter plot, `animation_frame`and `animation_group`can be used. \n",
    "- `animation_frame` defines over which data the animation takes place. We use the time in years.\n",
    "- `animation_group`: rows with the same group are considered as the same object and therefore animated from one frame to the next. \n",
    "\n",
    "Check out the [documentation](https://plotly.com/python/animations/) for more details."
   ]
  },
  {
   "cell_type": "code",
   "execution_count": null,
   "id": "08d1ef64",
   "metadata": {},
   "outputs": [],
   "source": [
    "# Animated scatter plot\n",
    "import pandas as pd\n",
    "import plotly.express as px\n",
    "\n",
    "df_worlddata = px.data.gapminder()\n",
    "fig = px.scatter(df_worlddata, x=\"gdpPercap\", y=\"lifeExp\", animation_frame=\"year\", animation_group=\"country\",\n",
    "           size=\"pop\", color=\"continent\", hover_name=\"country\",\n",
    "           log_x=True, size_max=55, range_x=[100,100000], range_y=[25,90])\n",
    "fig.update_xaxes(title='GDP per capita [PPP]')\n",
    "fig.update_yaxes(title='Life Expectancy [years]')\n",
    "fig.show()"
   ]
  },
  {
   "cell_type": "markdown",
   "id": "00eab7cd",
   "metadata": {},
   "source": [
    "You can make use of the interactive features again! By hovering over the circles you can see, which country they represent and all their associated data. Furthermore, you can use the legend on the right side to deselect (one click) or to isolate (double click) one continent, to make the number of countries less overwhelming.\n",
    "\n",
    "Try it out yourself!"
   ]
  },
  {
   "cell_type": "markdown",
   "id": "cd398a96",
   "metadata": {},
   "source": [
    "The same concept can also be applied to barplots using the `px_bar` function."
   ]
  },
  {
   "cell_type": "code",
   "execution_count": null,
   "id": "dd2e80a0",
   "metadata": {},
   "outputs": [],
   "source": [
    "# Animated bar plot\n",
    "px.bar(df_worlddata, x=\"continent\", y=\"pop\", color=\"continent\",\n",
    "  animation_frame=\"year\", animation_group=\"country\", range_y=[0,4000000000])\n",
    "fig.update_xaxes(title='Continent')\n",
    "fig.update_yaxes(title='Population')"
   ]
  },
  {
   "cell_type": "markdown",
   "id": "f4cd91c2",
   "metadata": {},
   "source": [
    "### Task 6: Animate population change"
   ]
  },
  {
   "cell_type": "markdown",
   "id": "6671c632",
   "metadata": {},
   "source": [
    "Use the gained knowledge to create a barplot animation for the relative population change of African countries since 1952. \n",
    "- Use the gapminder data as a basis\n",
    "- Display the countries' absolute population as a color palette"
   ]
  },
  {
   "cell_type": "code",
   "execution_count": null,
   "id": "a58d1f81",
   "metadata": {},
   "outputs": [],
   "source": [
    "# Your code here..."
   ]
  },
  {
   "cell_type": "markdown",
   "id": "d736ab54",
   "metadata": {},
   "source": [
    "[Solution to task 6](#Solution-to-task-6)"
   ]
  },
  {
   "cell_type": "markdown",
   "id": "7b3dfb2b",
   "metadata": {},
   "source": [
    "# 7. Saving figures"
   ]
  },
  {
   "cell_type": "markdown",
   "id": "7bde594b",
   "metadata": {},
   "source": [
    "It might be useful for you to save your figures in order to use them somewhere else. For sure, you can simply make screenshots and add them to your text. But the interesting part of the plotly package is that it's interactive. Therefore, it has to be saved in a different way."
   ]
  },
  {
   "cell_type": "markdown",
   "id": "001157fc",
   "metadata": {},
   "source": [
    "### html"
   ]
  },
  {
   "cell_type": "markdown",
   "id": "b24f8190",
   "metadata": {},
   "source": [
    "The easiest way is to write a html file which you can for instance use on another homepage or add to an email:"
   ]
  },
  {
   "cell_type": "code",
   "execution_count": null,
   "id": "33999d7b",
   "metadata": {},
   "outputs": [],
   "source": [
    "fig.write_html('data/fig.html')"
   ]
  },
  {
   "cell_type": "markdown",
   "id": "656bf5fa",
   "metadata": {},
   "source": [
    "The last figures saved under the variable fig is saved now in the location `data/fig.html` or the path that you have chosen. It's important that the folder already exists. Take care to not overwrite your files!\n",
    "\n",
    "Now, we can have a look on the saved figure as well here in the notebook:"
   ]
  },
  {
   "cell_type": "code",
   "execution_count": null,
   "id": "44893f03",
   "metadata": {},
   "outputs": [],
   "source": [
    "# display html file in jupyter notebooks\n",
    "from IPython.display import IFrame\n",
    "IFrame(src='data/fig.html', width=980, height=550)"
   ]
  },
  {
   "cell_type": "markdown",
   "id": "5964c8ea",
   "metadata": {},
   "source": [
    "You can use this code as well to open any other html file from your computer."
   ]
  },
  {
   "cell_type": "markdown",
   "id": "974308c9",
   "metadata": {},
   "source": [
    "### Dash"
   ]
  },
  {
   "cell_type": "markdown",
   "id": "20fb9ade",
   "metadata": {},
   "source": [
    "Since it can open a whole new chapter to write a web application which uses the plotly library, we recommend you to go to the documentation of [Dash](https://plotly.com/dash/) in case you want to use the data on another platform. As well, for all the plots shown above, there a ways to let it run on a server using Dash, it is described in each documentation chapter at the end of the page. It might be worth it, there are many possibilities and as mentioned before, this is used by big compainies like National Geographic, Lonely Planet, and so on.\n",
    "\n",
    "That's it, we hope you have learned something :)\n",
    "\n",
    "[Click here to go back to the start](#Introduction) "
   ]
  },
  {
   "cell_type": "markdown",
   "id": "5a53ef5c",
   "metadata": {},
   "source": [
    "<hr style=\"border:0.2px solid black\"> </hr>\n",
    "<hr style=\"border:0.2px solid black\"> </hr>"
   ]
  },
  {
   "cell_type": "markdown",
   "id": "0e1e2934",
   "metadata": {},
   "source": [
    "# Task solutions"
   ]
  },
  {
   "cell_type": "markdown",
   "id": "4087f869",
   "metadata": {},
   "source": [
    "<hr style=\"border:0.2px solid black\"> </hr>\n",
    "<hr style=\"border:0.2px solid black\"> </hr>"
   ]
  },
  {
   "cell_type": "markdown",
   "id": "b70f93a5",
   "metadata": {},
   "source": [
    "# Solution to task 1"
   ]
  },
  {
   "cell_type": "code",
   "execution_count": null,
   "id": "27967eec",
   "metadata": {},
   "outputs": [],
   "source": [
    "import plotly.express as px\n",
    "import pandas as pd\n",
    "\n",
    "#1. read data\n",
    "raindaily = pd.read_csv('data/Sagelva_Precipitation.csv', parse_dates=['Date'], index_col=0)\n",
    "\n",
    "#create barplot\n",
    "fig = px.bar(raindaily, barmode='group')\n",
    "\n",
    "#add a title\n",
    "fig.update_layout(title = 'Daily Precipitation in Sagelva')\n",
    "\n",
    "#costumize the axis\n",
    "fig.update_xaxes(title='Year', ticklabelmode=\"period\", rangeslider_visible=True)\n",
    "fig.update_yaxes(title='Daily precipitation [mm]')"
   ]
  },
  {
   "cell_type": "markdown",
   "id": "d5b81bcc",
   "metadata": {},
   "source": [
    "Continue with chapter 2: [Statistical analysis](#2.-Statistical-analysis:-Histogram)"
   ]
  },
  {
   "cell_type": "markdown",
   "id": "5bde6d76",
   "metadata": {},
   "source": [
    "# Solution to task 2"
   ]
  },
  {
   "cell_type": "code",
   "execution_count": null,
   "id": "345dd3df",
   "metadata": {},
   "outputs": [],
   "source": [
    "import plotly.express as px\n",
    "import plotly.graph_objects as go\n",
    "import pandas as pd\n",
    "\n",
    "#prepare data\n",
    "raindailyRotterdam = pd.read_csv('data/rotterdam_rainfall_2012.txt', sep=',', skiprows=9, parse_dates=['YYYYMMDD'],skipinitialspace=True)\n",
    "raindailyRotterdam.iloc[:,2] = raindailyRotterdam.iloc[:,2] * 0.1\n",
    "raindailyRotterdam.loc[raindailyRotterdam.RH<0.0, 'RH'] = 0.0\n",
    "\n",
    "#make plot\n",
    "fig = px.histogram(raindailyRotterdam, x='YYYYMMDD', y='RH', histfunc='sum', title=\"Monthly Total Rainfall\", range_y=['-1','160'], range_x=['2012-01-01', '2012-12-31'])\n",
    "fig.update_traces(xbins_size=\"M1\")\n",
    "fig.update_xaxes(title = '2012', showgrid=True, ticklabelmode=\"period\", dtick=\"M1\", tickformat=\"%b\\n%Y\")\n",
    "fig.update_layout(bargap=0.05)\n",
    "fig.add_trace(go.Scatter(mode='lines', x = raindailyRotterdam['YYYYMMDD'], y = raindailyRotterdam['RH'], name=\"daily\"))"
   ]
  },
  {
   "cell_type": "markdown",
   "id": "add7395e",
   "metadata": {},
   "source": [
    "Continue with chapter 3: [3D plotting](#3.-3D-plots)"
   ]
  },
  {
   "cell_type": "markdown",
   "id": "ac21271d",
   "metadata": {},
   "source": [
    "# Solution to task 3"
   ]
  },
  {
   "cell_type": "code",
   "execution_count": null,
   "id": "c4bd0a71",
   "metadata": {},
   "outputs": [],
   "source": [
    "#define the Monkey saddle function\n",
    "def monkey(x,y):\n",
    "    z=x**3-3*x*y**2\n",
    "    return z"
   ]
  },
  {
   "cell_type": "code",
   "execution_count": null,
   "id": "a4fae00e",
   "metadata": {},
   "outputs": [],
   "source": [
    "#create xyz data for this formula\n",
    "import numpy as np\n",
    "r = np.linspace(-10, 10, 250)\n",
    "x,y = np.meshgrid(r, r)\n",
    "z = monkey(x,y)"
   ]
  },
  {
   "cell_type": "code",
   "execution_count": null,
   "id": "c3b21da9",
   "metadata": {},
   "outputs": [],
   "source": [
    "#make graph\n",
    "import plotly.graph_objects as go\n",
    "fig = go.Figure(data=[go.Surface(x=x, y=y, z=z)],)\n",
    "\n",
    "fig.update_layout(title='Monkey saddle function',\n",
    "                  width=800, height=800,\n",
    "                  margin=dict(l=65, r=50, b=90, t=90))\n",
    "\n",
    "#dark mode\n",
    "fig.update_scenes(xaxis_gridcolor='white',\n",
    "                  yaxis_gridcolor='white',\n",
    "                  zaxis_gridcolor='white',\n",
    "                  xaxis_backgroundcolor=\"black\",\n",
    "                  yaxis_backgroundcolor=\"black\",\n",
    "                  zaxis_backgroundcolor=\"black\")\n",
    "fig.show()"
   ]
  },
  {
   "cell_type": "markdown",
   "id": "175b9a62",
   "metadata": {},
   "source": [
    "Continue with chapter 4: [Map plotting](#4.-Map-plotting)"
   ]
  },
  {
   "cell_type": "markdown",
   "id": "caa4b040",
   "metadata": {},
   "source": [
    "# Solution to task 4"
   ]
  },
  {
   "cell_type": "code",
   "execution_count": null,
   "id": "4a1e1bac",
   "metadata": {},
   "outputs": [],
   "source": [
    "import pandas as pd\n",
    "import plotly.express as px\n",
    "\n",
    "placesSe = pd.read_csv('data/places_sweden.csv')\n",
    "map = px.scatter_mapbox(placesSe, lat='lat', lon='lng', \n",
    "                        mapbox_style = 'carto-darkmatter', \n",
    "                        hover_name = 'City',\n",
    "                        hover_data = [\"Population\", \"Status\"],\n",
    "                        color = 'Administration', \n",
    "                        color_discrete_sequence=px.colors.cyclical.IceFire,\n",
    "                        size = 'Population',\n",
    "                        zoom=3.25)\n",
    "map.update_layout(title='Cities in Sweden',\n",
    "                  width=950, height=800)\n",
    "map.show()"
   ]
  },
  {
   "cell_type": "markdown",
   "id": "f7145c68",
   "metadata": {},
   "source": [
    "Continue with chapter 5: [Plotting a water distribution network](#5.-Plotting-a-water-distribution-network)"
   ]
  },
  {
   "cell_type": "markdown",
   "id": "c3e81ec4",
   "metadata": {},
   "source": [
    "# Solution to task 6"
   ]
  },
  {
   "cell_type": "code",
   "execution_count": null,
   "id": "f005729c",
   "metadata": {},
   "outputs": [],
   "source": [
    "#import packages\n",
    "import pandas as pd\n",
    "import plotly.express as px\n",
    "import warnings\n",
    "warnings.filterwarnings('ignore')\n",
    "\n",
    "#import data\n",
    "df_worlddata = px.data.gapminder()\n",
    "df_africa = df_worlddata.loc[df_worlddata['continent']=='Africa']\n",
    "\n",
    "#calculate relative population\n",
    "for i,line in df_africa.iterrows():\n",
    "    if line[\"year\"]==1952:\n",
    "        basepop = line[\"pop\"]\n",
    "    df_africa.at[i,\"rel_pop\"]= line[\"pop\"]/basepop"
   ]
  },
  {
   "cell_type": "code",
   "execution_count": null,
   "id": "6c6cf511",
   "metadata": {},
   "outputs": [],
   "source": [
    "#create barplot\n",
    "fig = px.bar(df_africa, x=\"country\", y=\"rel_pop\", color=\"pop\",\n",
    "             animation_frame=\"year\", animation_group=\"country\", range_y=[0,8], \n",
    "             title= \"Relative population change in African countries since 1952\")\n",
    "\n",
    "fig.update_layout(width=1000, height=800)\n",
    "fig['layout']['updatemenus'][0]['pad']=dict(r= 10, t= 150)\n",
    "fig['layout']['sliders'][0]['pad']=dict( t= 150,)\n",
    "\n",
    "#update axes labels\n",
    "fig.update_xaxes(title='Country')\n",
    "fig.update_yaxes(title='Relative Population (compared to 1952)')\n",
    "\n",
    "fig.update_scenes(xaxis_nticks=100)\n",
    "fig.show()"
   ]
  },
  {
   "cell_type": "markdown",
   "id": "33662ea4",
   "metadata": {},
   "source": [
    "Finish with chapter 7: [Saving figures](#7.-Saving-figures)"
   ]
  }
 ],
 "metadata": {
  "kernelspec": {
   "display_name": "Python 3 (ipykernel)",
   "language": "python",
   "name": "python3"
  },
  "language_info": {
   "codemirror_mode": {
    "name": "ipython",
    "version": 3
   },
   "file_extension": ".py",
   "mimetype": "text/x-python",
   "name": "python",
   "nbconvert_exporter": "python",
   "pygments_lexer": "ipython3",
   "version": "3.9.7"
  }
 },
 "nbformat": 4,
 "nbformat_minor": 5
}
