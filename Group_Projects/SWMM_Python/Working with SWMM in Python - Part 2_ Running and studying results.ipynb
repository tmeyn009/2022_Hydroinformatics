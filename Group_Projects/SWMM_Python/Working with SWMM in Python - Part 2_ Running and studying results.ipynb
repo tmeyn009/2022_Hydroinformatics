{
 "cells": [
  {
   "cell_type": "markdown",
   "id": "ce06929d",
   "metadata": {},
   "source": [
    "<hr style=\"border:0.2px solid black\"> </hr>\n",
    "\n",
    "<figure>\n",
    "  <IMG SRC=\"img/ntnu-norwegian-university-of-science-and-technology-vector-logo.png\" WIDTH=250 ALIGN=\"right\">\n",
    "</figure>\n",
    "\n",
    "**<ins>Course:</ins>** TVM4174 - Hydroinformatics for Smart Water Systems\n",
    "\n",
    "# <ins>Group project:</ins> Working with SWMM in Python - Part 2: Running and studying results\n",
    "   \n",
    "    \n",
    "*Developed by Lucia Arce and Magdalena Jaurena*\n",
    "\n",
    "<hr style=\"border:0.2px solid black\"> </hr>\n"
   ]
  },
  {
   "cell_type": "code",
   "execution_count": null,
   "id": "44281fd9",
   "metadata": {},
   "outputs": [],
   "source": [
    "## PySWMM installation - package used to run the model ##\n",
    "!pip install pyswmm\n",
    "\n",
    "from pyswmm import Simulation"
   ]
  },
  {
   "cell_type": "code",
   "execution_count": null,
   "id": "e17708d0",
   "metadata": {},
   "outputs": [],
   "source": [
    "import pandas as pd\n",
    "from matplotlib import pyplot as plt\n",
    "import seaborn as sns\n",
    "import numpy as np\n",
    "import datetime\n",
    "sns.set_style('whitegrid')"
   ]
  },
  {
   "cell_type": "markdown",
   "id": "4fa5e369",
   "metadata": {},
   "source": [
    "## 1- Run the model with PySWMM"
   ]
  },
  {
   "cell_type": "code",
   "execution_count": null,
   "id": "1d3769f0",
   "metadata": {},
   "outputs": [],
   "source": [
    "m_mod = Simulation('SWMM_model.inp') # Change the model in case it is modified.\n",
    "m_mod.execute()"
   ]
  },
  {
   "cell_type": "markdown",
   "id": "677bd2df",
   "metadata": {},
   "source": [
    "\"When a run completes successfully, the mass continuity errors for runoff, flow routing, and pollutant routing will be displayed in the Run Status window. These errors represent the percent difference between initial storage + total inflow and final storage + total outflow for the entire drainage system. If they exceed some reasonable level, such as 10 percent, then the validity of the analysis results must be questioned. The most common reasons for an excessive continuity error are computational time steps that are too long or conduits that are too short.\" Source: EPA SWMM"
   ]
  },
  {
   "cell_type": "code",
   "execution_count": null,
   "id": "9433eeb2",
   "metadata": {},
   "outputs": [],
   "source": [
    "print(f\"\\n The flow routing mass balance error is {m_mod.flow_routing_error} \")\n",
    "print(f\"\\n The pollutant routing mass error is {m_mod.quality_error} \")\n",
    "print(f\"\\n The runouff routing mass error is {m_mod.runoff_error} \")"
   ]
  },
  {
   "cell_type": "markdown",
   "id": "9f5e13be",
   "metadata": {},
   "source": [
    "## 2-  Study the results with SWMMIO"
   ]
  },
  {
   "cell_type": "code",
   "execution_count": null,
   "id": "484d5fd5",
   "metadata": {},
   "outputs": [],
   "source": [
    "!pip install swmmio\n",
    "import swmmio"
   ]
  },
  {
   "cell_type": "code",
   "execution_count": null,
   "id": "2671ef74",
   "metadata": {},
   "outputs": [],
   "source": [
    "m_mod = swmmio.Model('SWMM_model.inp')\n"
   ]
  },
  {
   "cell_type": "code",
   "execution_count": null,
   "id": "2fc413ef",
   "metadata": {},
   "outputs": [],
   "source": [
    "### Needed information of the network ###\n",
    "\n",
    "## Nodes ##\n",
    "\n",
    "nodes=m_mod.inp.junctions\n",
    "nodes_coord=m_mod.inp.coordinates\n",
    "\n",
    "## Links ##\n",
    "\n",
    "links=m_mod.links.dataframe\n",
    "conduits=m_mod.inp.conduits\n",
    "\n",
    "##  outfalls ##\n",
    "outfalls=m_mod.inp.outfalls\n",
    "\n",
    "## storages ##\n",
    "storages=m_mod.inp.storage\n",
    "\n",
    "## weirs ##\n",
    "\n",
    "weirs=m_mod.inp.weirs"
   ]
  },
  {
   "cell_type": "code",
   "execution_count": null,
   "id": "ede23091",
   "metadata": {},
   "outputs": [],
   "source": [
    "### Links results ###\n",
    "\n",
    "links=m_mod.links.dataframe\n",
    "print(f'The information stored for the links is: {links.columns}')\n",
    "links_df=(links[['MaxQ','MaxV']])"
   ]
  },
  {
   "cell_type": "code",
   "execution_count": null,
   "id": "969efa3d",
   "metadata": {},
   "outputs": [],
   "source": [
    "### Code extracted from course \"Urban Water Systems NTNU - 2021\"  and adapted ###\n",
    "### PLOT SLOPES ###\n",
    "\n",
    "polygons = m_mod.inp.polygons\n",
    "catchment_list = np.unique(polygons.index.to_numpy())  #Obtain catchment´s list\n",
    "manhole_list = np.unique(nodes_coord.index.to_numpy()) #Obtain nodes´s list\n",
    "\n",
    "fig, ax = plt.subplots(figsize = (10,10)) \n",
    "\n",
    "for catchment in catchment_list: \n",
    "    ax.fill(polygons.loc[catchment,\"X\"],polygons.loc[catchment,\"Y\"],ec = \"burlywood\", fc=\"floralwhite\")\n",
    "    \n",
    "## Plot Conduits Velocity ##\n",
    "for link in links_df.index: \n",
    "    inlet = nodes_coord.loc[links.loc[link, \"InletNode\"]] \n",
    "    outlet = nodes_coord.loc[links.loc[link, \"OutletNode\"]] \n",
    "    link_x = [inlet.X, outlet.X] \n",
    "    link_y = [inlet.Y, outlet.Y]\n",
    "    if links_df.loc[link,'MaxV']>=5:\n",
    "        ax.plot(link_x, link_y, c='r', linewidth=3)\n",
    "        link_x_5=link_x\n",
    "        link_y_5=link_y\n",
    "    else:\n",
    "        ax.plot(link_x, link_y, c='gray', linewidth=3)\n",
    "        link_x_=link_x\n",
    "        link_y_=link_y\n",
    "        \n",
    "## Plot Weirs ##\n",
    "for i in weirs.index: \n",
    "    inlet = nodes_coord.loc[weirs.loc[i, \"InletNode\"]] \n",
    "    outlet = nodes_coord.loc[weirs.loc[i, \"OutletNode\"]] \n",
    "    x_W = [inlet.X, outlet.X] \n",
    "    y_W = [inlet.Y, outlet.Y] \n",
    "    ax.plot(x_W,y_W, color = \"b\", linestyle='-.')\n",
    "\n",
    "## Plot Nodes ##\n",
    "for i in nodes.index: \n",
    "    coord_n = nodes_coord.loc[i] \n",
    "    ax.scatter(coord_n['X'], coord_n['Y'], color = \"k\", zorder=3 )\n",
    "    \n",
    "## Plot Outfalls ##\n",
    "for i in outfalls.index: \n",
    "    coord_Out = nodes_coord.loc[i] \n",
    "    ax.scatter(coord_Out['X'],coord_Out['Y'], color = \"k\", marker='^', zorder=3)\n",
    "\n",
    "## Plot Storages ##\n",
    "for i in storages.index: \n",
    "    coord_S = nodes_coord.loc[i] \n",
    "    ax.scatter(coord_S['X'], coord_S['Y'], color = \"red\", marker='s', s=200, zorder=3)\n",
    "    \n",
    "    \n",
    "plt.title('Link velocity', fontsize=22)\n",
    "plt.xlabel('x coordinate', fontsize=16)\n",
    "plt.ylabel('y coorinate', fontsize=16)\n",
    "\n",
    "# Create legend #\n",
    "ax.plot(link_x_5,link_y_5, color = \"r\", linewidth=2 , label='Velocity >= 5 m/s')\n",
    "ax.plot(link_x_,link_y_, color = \"gray\", linewidth=2 , label='Slope < 5 m/s')\n",
    "# ax.plot(slope_x_05,slope_y_05, color = \"b\", linewidth=2 , label='Slope < 0.5%')\n",
    "# ax.plot(slope_x, slope_y, c='k', linewidth=2, label='No calculated slope')\n",
    "ax.plot(x_W,y_W, color = \"k\", linestyle='-.', label='Weirs')\n",
    "ax.scatter(coord_n['X'], coord_n['Y'], color = \"k\", label='Nodes', zorder=3 )\n",
    "ax.scatter(coord_Out['X'],coord_Out['Y'], color = \"k\", marker='^', zorder=3, label='Outfalls')\n",
    "ax.scatter(coord_S['X'], coord_S['Y'], color = \"red\", marker='s', s=200, label='Storages', zorder=3)\n",
    "\n",
    "\n",
    "plt.legend(loc='best', frameon=False, title='Elements', title_fontsize=14)\n",
    "plt.show()"
   ]
  },
  {
   "cell_type": "code",
   "execution_count": null,
   "id": "78ade182",
   "metadata": {},
   "outputs": [],
   "source": [
    "### FLOODING ###\n",
    "\n",
    "Flooding = m_mod.rpt.node_flooding_summary\n",
    "print (f'The information stored related to FLOODING is: {Flooding.columns}')\n",
    "\n",
    "flood=(Flooding[['MaxQFlooding','TotalFloodVol']])\n",
    "\n",
    "(i,ii)=flood.sum(axis=0)\n",
    "\n",
    "print (f'\\nThe total flooding volume is: {ii} m3')\n",
    "\n",
    "# NODES WITH MAXIMUM FLOOD FLOW OR VOLUME #\n",
    "\n",
    "Q_max_node=flood.idxmax()['MaxQFlooding']\n",
    "V_max_node = flood.idxmax()['TotalFloodVol']\n",
    "\n",
    "print (f'\\nThe node where the maximum flood peak is happening is: {Q_max_node}')\n",
    "print (f'\\nThe node with maximum flood volumen is: {V_max_node}')\n",
    "\n",
    "print (f'\\n{len(flood)} nodes from {len(nodes)} have flooding problem')"
   ]
  },
  {
   "cell_type": "code",
   "execution_count": null,
   "id": "266fe1e6",
   "metadata": {},
   "outputs": [],
   "source": [
    "### PLOT FLOODED NODES ###\n",
    "\n",
    "### Code extracted from course \"Urban Water Systems NTNU - 2021\"  and adapted ###\n",
    "\n",
    "polygons = m_mod.inp.polygons\n",
    "catchment_list = np.unique(polygons.index.to_numpy())  #Obtain catchment´s list\n",
    "manhole_list = np.unique(nodes_coord.index.to_numpy()) #Obtain nodes´s list\n",
    "\n",
    "fig, ax = plt.subplots(figsize = (10,10)) \n",
    "\n",
    "for catchment in catchment_list: \n",
    "    ax.fill(polygons.loc[catchment,\"X\"],polygons.loc[catchment,\"Y\"], ec = \"burlywood\", fc=\"floralwhite\")\n",
    "    \n",
    "## Plot Conduits ##\n",
    "for link in conduits.index: \n",
    "    inlet = nodes_coord.loc[conduits.loc[link, \"InletNode\"]] \n",
    "    outlet = nodes_coord.loc[conduits.loc[link, \"OutletNode\"]] \n",
    "    x_l = [inlet.X, outlet.X] \n",
    "    y_l = [inlet.Y, outlet.Y] \n",
    "    ax.plot(x_l,y_l, color = \"k\")\n",
    "\n",
    "## Plot Weirs ##\n",
    "for i in weirs.index: \n",
    "    inlet = nodes_coord.loc[weirs.loc[i, \"InletNode\"]] \n",
    "    outlet = nodes_coord.loc[weirs.loc[i, \"OutletNode\"]] \n",
    "    x_W = [inlet.X, outlet.X] \n",
    "    y_W = [inlet.Y, outlet.Y] \n",
    "    ax.plot(x_W,y_W, color = \"b\", linestyle='-.')\n",
    "\n",
    "## Plot Flooded nodes ##\n",
    "for i in flood.index: \n",
    "    coord_n = nodes_coord.loc[i] \n",
    "    size=flood.loc[i, \"MaxQFlooding\"]\n",
    "    ax.scatter(coord_n['X'], coord_n['Y'], s=size*2 ,color = \"aqua\", zorder=3)\n",
    "    \n",
    "## Plot Nodes ##\n",
    "for i in nodes.index: \n",
    "    coord_n = nodes_coord.loc[i] \n",
    "    ax.scatter(coord_n['X'], coord_n['Y'], s=10 , color = \"k\", zorder=4 )\n",
    "    \n",
    "## Plot Outfalls ##\n",
    "for i in outfalls.index: \n",
    "    coord_Out = nodes_coord.loc[i] \n",
    "    ax.scatter(coord_Out['X'],coord_Out['Y'], color = \"k\", marker='^', zorder=3)\n",
    "\n",
    "## Plot Storages ##\n",
    "for i in storages.index: \n",
    "    coord_S = nodes_coord.loc[i] \n",
    "    ax.scatter(coord_S['X'], coord_S['Y'], color = \"red\", marker='s', s=200, zorder=3)\n",
    "    \n",
    "    \n",
    "plt.title('Flooded nodes', fontsize=22)\n",
    "plt.xlabel('x coordinate', fontsize=16)\n",
    "plt.ylabel('y coorinate', fontsize=16)\n",
    "\n",
    "# Create legend #\n",
    "ax.plot(x_l,y_l, color = \"k\", label='Conduits')\n",
    "ax.plot(x_W,y_W, color = \"k\", linestyle='-.', label='Weirs')\n",
    "ax.scatter(coord_n['X'], coord_n['Y'], color = \"aqua\", label='Flooded nodes', zorder=3 )\n",
    "ax.scatter(coord_n['X'], coord_n['Y'], color = \"k\", label='Nodes', zorder=3 )\n",
    "ax.scatter(coord_Out['X'],coord_Out['Y'], color = \"k\", marker='^', zorder=3, label='Outfalls')\n",
    "ax.scatter(coord_S['X'], coord_S['Y'], color = \"red\", marker='s', s=200, label='Storages', zorder=3)\n",
    "\n",
    "\n",
    "plt.legend(loc='best', frameon=False, title='Elements', title_fontsize=14)\n",
    "plt.show()"
   ]
  },
  {
   "cell_type": "code",
   "execution_count": null,
   "id": "271f991c",
   "metadata": {},
   "outputs": [],
   "source": [
    "### Subcatchments results ###\n",
    "\n",
    "subcatchments = m_mod.rpt.subcatchment_runoff_summary #from here we can get the total precipitation and total infiltration\n",
    "print (f'The information stored related to SUBCATCHMENTS is: {subcatchments.columns}')\n"
   ]
  },
  {
   "cell_type": "code",
   "execution_count": null,
   "id": "4f9360c0",
   "metadata": {},
   "outputs": [],
   "source": [
    "subcatch_df=(subcatchments[['TotalPrecip','TotalRunoffIn','TotalInfil','TotalEvap']])\n",
    "(total_precip,total_run, total_inf,Total_evap) = subcatch_df.sum(axis=0)\n",
    "\n",
    "\n",
    "print(f\"\\n The total precipitation is {total_precip:.2f} \")\n",
    "print(f\"\\n The total runoff is {total_run:.2f} \")\n",
    "print(f\"\\n The total infiltration is {total_inf:.2f} \")\n",
    "print(f\"\\n The total evaporation is {Total_evap:.2f} \")\n",
    "\n"
   ]
  },
  {
   "cell_type": "markdown",
   "id": "af67ad0b",
   "metadata": {},
   "source": [
    "# Conclusions:\n",
    "\n",
    "### - Difficulties to work with PySWMM, not intuitive.\n",
    "### - Difficulties to run the model in SWMMIO.\n",
    "### - Packages not able to read the .out file given by SWMM.\n",
    "### - Poor information in the .rpt file (not hydrograms inlet/outlet). Just summary and maximum values.\n",
    "\n"
   ]
  },
  {
   "cell_type": "code",
   "execution_count": null,
   "id": "02c0d6c0",
   "metadata": {},
   "outputs": [],
   "source": []
  },
  {
   "cell_type": "code",
   "execution_count": null,
   "id": "f70cf0d8",
   "metadata": {},
   "outputs": [],
   "source": []
  }
 ],
 "metadata": {
  "kernelspec": {
   "display_name": "Python 3 (ipykernel)",
   "language": "python",
   "name": "python3"
  },
  "language_info": {
   "codemirror_mode": {
    "name": "ipython",
    "version": 3
   },
   "file_extension": ".py",
   "mimetype": "text/x-python",
   "name": "python",
   "nbconvert_exporter": "python",
   "pygments_lexer": "ipython3",
   "version": "3.9.7"
  }
 },
 "nbformat": 4,
 "nbformat_minor": 5
}
