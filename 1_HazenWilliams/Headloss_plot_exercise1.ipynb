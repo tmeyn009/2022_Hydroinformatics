{
 "cells": [
  {
   "cell_type": "markdown",
   "metadata": {},
   "source": [
    "<hr style=\"border:0.2px solid black\"> </hr>\n",
    "\n",
    "<figure>\n",
    "  <IMG SRC=\"img/ntnu_logo.png\" WIDTH=250 ALIGN=\"right\">\n",
    "</figure>\n",
    "\n",
    "**<ins>Course:</ins>** TVM4174 - Hydroinformatics for Smart Water Systems\n",
    "\n",
    "# <ins>Example 2:</ins> Plotting the Hazen-Williams head loss equation for pipes\n",
    "    \n",
    "*Developed by David Steffelbauer*\n",
    "\n",
    "<hr style=\"border:0.2px solid black\"> </hr>"
   ]
  },
  {
   "cell_type": "markdown",
   "metadata": {},
   "source": [
    "Hazen-Williams head loss formula\n",
    "\n",
    "$ \\Delta h \\ = \\ \\frac{10.67 \\cdot Q^{1.852}}{C^{1.852} d^{4.8704}} \\cdot L $"
   ]
  },
  {
   "cell_type": "code",
   "execution_count": 24,
   "metadata": {},
   "outputs": [],
   "source": [
    "import numpy as np\n",
    "import pandas as pd"
   ]
  },
  {
   "cell_type": "code",
   "execution_count": 18,
   "metadata": {},
   "outputs": [],
   "source": [
    "# Parameters we define\n",
    "Q = np.linspace(0, 0.001, 11) # Flow in [m^3/s]"
   ]
  },
  {
   "cell_type": "code",
   "execution_count": 90,
   "metadata": {},
   "outputs": [],
   "source": [
    "# Headloss\n",
    "\n",
    "def hazenwilliams(Q, C=140, d=0.25, L=50):\n",
    "\n",
    "    dH = -(10.67 * Q ** 1.852) / (C ** 1.852 * d ** 4.8704) * L\n",
    "    \n",
    "    return dH\n",
    "\n",
    "\n",
    "dH = hazenwilliams(Q, C=130)"
   ]
  },
  {
   "cell_type": "code",
   "execution_count": 22,
   "metadata": {},
   "outputs": [
    {
     "name": "stdout",
     "output_type": "stream",
     "text": [
      "120\n",
      "[0.00000000e+00 2.51630765e-06 9.08387794e-06 1.92482966e-05\n",
      " 3.27928258e-05 4.95742538e-05 6.94864066e-05 9.24454004e-05\n",
      " 1.18382197e-04 1.47238324e-04 1.78963200e-04]\n",
      "130\n",
      "[0.00000000e+00 2.16962320e-06 7.83234608e-06 1.65963613e-05\n",
      " 2.82747921e-05 4.27441579e-05 5.99129126e-05 7.97087296e-05\n",
      " 1.02072082e-04 1.26952555e-04 1.54306534e-04]\n",
      "140\n",
      "[0.00000000e+00 1.89137778e-06 6.82787930e-06 1.44679449e-05\n",
      " 2.46486642e-05 3.72623921e-05 5.22293233e-05 6.94864066e-05\n",
      " 8.89817493e-05 1.10671402e-04 1.34517344e-04]\n"
     ]
    }
   ],
   "source": [
    "for ci in [120, 130, 140]:\n",
    "    dH = hazenwilliams(Q, C=ci)\n"
   ]
  },
  {
   "cell_type": "code",
   "execution_count": 32,
   "metadata": {},
   "outputs": [],
   "source": [
    "df = pd.read_csv('data/C_factors.csv', decimal=',', sep=';', index_col=0)"
   ]
  },
  {
   "cell_type": "code",
   "execution_count": 33,
   "metadata": {},
   "outputs": [
    {
     "data": {
      "text/plain": [
       "(14, 2)"
      ]
     },
     "execution_count": 33,
     "metadata": {},
     "output_type": "execute_result"
    }
   ],
   "source": [
    "df.shape"
   ]
  },
  {
   "cell_type": "code",
   "execution_count": 48,
   "metadata": {},
   "outputs": [
    {
     "data": {
      "text/plain": [
       "140"
      ]
     },
     "execution_count": 48,
     "metadata": {},
     "output_type": "execute_result"
    }
   ],
   "source": [
    "df['High']['Asbestos-cement']"
   ]
  },
  {
   "cell_type": "code",
   "execution_count": 56,
   "metadata": {},
   "outputs": [],
   "source": [
    "mean_c = df.mean(axis=1)"
   ]
  },
  {
   "cell_type": "code",
   "execution_count": 63,
   "metadata": {},
   "outputs": [
    {
     "data": {
      "text/plain": [
       "Material\n",
       "Cast iron new         130.0\n",
       "Cast iron 10 years    110.0\n",
       "Cast iron 20 years     94.5\n",
       "Cast iron 30 years     82.5\n",
       "Cast iron 40 years     73.5\n",
       "dtype: float64"
      ]
     },
     "execution_count": 63,
     "metadata": {},
     "output_type": "execute_result"
    }
   ],
   "source": [
    "mean_c.iloc[1:6]"
   ]
  },
  {
   "cell_type": "code",
   "execution_count": 71,
   "metadata": {},
   "outputs": [
    {
     "name": "stdout",
     "output_type": "stream",
     "text": [
      "['Cast iron\\xa0new', 'Cast iron\\xa010 years', 'Cast iron\\xa020 years', 'Cast iron\\xa030 years', 'Cast iron\\xa040 years']\n"
     ]
    },
    {
     "data": {
      "text/plain": [
       "Material\n",
       "Cast iron new         130.0\n",
       "Cast iron 10 years    110.0\n",
       "Cast iron 20 years     94.5\n",
       "Cast iron 30 years     82.5\n",
       "Cast iron 40 years     73.5\n",
       "dtype: float64"
      ]
     },
     "execution_count": 71,
     "metadata": {},
     "output_type": "execute_result"
    }
   ],
   "source": [
    "\n",
    "castnames = []\n",
    "for name in mean_c.index:\n",
    "    if name.startswith('Cast'):\n",
    "#         print(name)\n",
    "        castnames.append(name)\n",
    "#     else:\n",
    "#         print('-> no cast iron', name)\n",
    "\n",
    "print(castnames)\n",
    "mean_c[castnames]"
   ]
  },
  {
   "cell_type": "code",
   "execution_count": 77,
   "metadata": {},
   "outputs": [],
   "source": [
    "castnames = mean_c[[name.startswith('Cast') for name in mean_c.index]]"
   ]
  },
  {
   "cell_type": "code",
   "execution_count": 78,
   "metadata": {},
   "outputs": [
    {
     "data": {
      "text/plain": [
       "Material\n",
       "Cast iron new         130.0\n",
       "Cast iron 10 years    110.0\n",
       "Cast iron 20 years     94.5\n",
       "Cast iron 30 years     82.5\n",
       "Cast iron 40 years     73.5\n",
       "dtype: float64"
      ]
     },
     "execution_count": 78,
     "metadata": {},
     "output_type": "execute_result"
    }
   ],
   "source": [
    "castnames"
   ]
  },
  {
   "cell_type": "code",
   "execution_count": 91,
   "metadata": {},
   "outputs": [
    {
     "data": {
      "image/png": "[encoded data removed]",
      "text/plain": [
       "<Figure size 432x288 with 1 Axes>"
      ]
     },
     "metadata": {
      "needs_background": "light"
     },
     "output_type": "display_data"
    }
   ],
   "source": [
    "import matplotlib.pyplot as plt\n",
    "\n",
    "for c_value in castnames:\n",
    "    dH = hazenwilliams(Q, C=c_value)\n",
    "    plt.plot(Q, dH)"
   ]
  },
  {
   "cell_type": "code",
   "execution_count": null,
   "metadata": {},
   "outputs": [],
   "source": []
  }
 ],
 "metadata": {
  "kernelspec": {
   "display_name": "Python 3 (ipykernel)",
   "language": "python",
   "name": "python3"
  },
  "language_info": {
   "codemirror_mode": {
    "name": "ipython",
    "version": 3
   },
   "file_extension": ".py",
   "mimetype": "text/x-python",
   "name": "python",
   "nbconvert_exporter": "python",
   "pygments_lexer": "ipython3",
   "version": "3.9.7"
  }
 },
 "nbformat": 4,
 "nbformat_minor": 4
}
