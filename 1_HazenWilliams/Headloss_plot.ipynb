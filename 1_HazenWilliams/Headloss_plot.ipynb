{
 "cells": [
  {
   "cell_type": "markdown",
   "metadata": {},
   "source": [
    "<hr style=\"border:0.2px solid black\"> </hr>\n",
    "\n",
    "<figure>\n",
    "  <IMG SRC=\"img/ntnu_logo.png\" WIDTH=250 ALIGN=\"right\">\n",
    "</figure>\n",
    "\n",
    "**<ins>Course:</ins>** TVM4174 - Hydroinformatics for Smart Water Systems\n",
    "\n",
    "# <ins>Example 2:</ins> Plotting the Hazen-Williams head loss equation for pipes\n",
    "    \n",
    "*Developed by David Steffelbauer*\n",
    "\n",
    "<hr style=\"border:0.2px solid black\"> </hr>"
   ]
  },
  {
   "cell_type": "code",
   "execution_count": null,
   "metadata": {},
   "outputs": [],
   "source": [
    "import numpy as np\n",
    "import matplotlib.pyplot as plt\n",
    "import pandas as pd\n",
    "import seaborn as sns\n",
    "\n",
    "sns.set_style('darkgrid')"
   ]
  },
  {
   "cell_type": "markdown",
   "metadata": {},
   "source": [
    "Hazen-Williams head loss formula\n",
    "\n",
    "$ \\Delta h \\ = \\ \\frac{10.67 \\cdot Q^{1.852}}{C^{1.852} d^{4.8704}} \\cdot L $"
   ]
  },
  {
   "cell_type": "code",
   "execution_count": null,
   "metadata": {},
   "outputs": [],
   "source": [
    "def hw_headloss(Q=1/1000, C=100, d=0.25, L=50):\n",
    "    \"\"\"calculate the head loss according to Hazen-Williams equation\n",
    "\n",
    "    :param Q: volumetric flow rate, m^3/s (cubic meter per second)\n",
    "    :param C: Pipe roughness coefficient\n",
    "    :param d: inside pipe diameter , m (meters)\n",
    "    :param L: length of pipe in meters\n",
    "    :return: head loss in meters (water)\n",
    "    \"\"\"\n",
    "\n",
    "    S = 10.67 * (Q ** 1.852) / ((C ** 1.852) * d ** 4.8704)\n",
    "\n",
    "    return - S * L"
   ]
  },
  {
   "cell_type": "code",
   "execution_count": null,
   "metadata": {},
   "outputs": [],
   "source": [
    "# df = pd.read_excel('C_factors.xlsx', index_col=0)\n",
    "df = pd.read_csv('data/C_factors.csv', sep=';', index_col=0)\n",
    "\n",
    "query = [x.startswith('Cast') for x in df.index]\n",
    "\n",
    "data = df[query]\n",
    "data = data.mean(axis=1)\n",
    "\n",
    "d = 0.25\n",
    "Q = np.linspace(0, 0.1, 100)\n",
    "\n",
    "colors = sns.color_palette('viridis', len(data))\n",
    "markers = 'ov^sD'\n",
    "styles = ['-', '--']\n",
    "\n",
    "for ii, (name, c_value) in enumerate(data.iteritems()):\n",
    "    h = hw_headloss(Q, C=c_value, d=d)\n",
    "    plt.plot(1000 * Q, h, label=name.replace('Cast iron', ''), color=colors[ii], marker=markers[ii], markevery=10, linestyle=styles[ii % 2])\n",
    "\n",
    "plt.legend(loc=3, ncol=1, fontsize=16, frameon=False, title='Age', title_fontsize=18)\n",
    "plt.title(f'Headloss over a cast iron pipe with D={d*1000:.0f} mm and \\n L=50 m as a function of flow rate $Q$ and age', fontsize=18)\n",
    "plt.xlim((0, 100))\n",
    "plt.ylim((None, 0))\n",
    "\n",
    "plt.xticks(fontsize=14)\n",
    "plt.yticks(fontsize=14, rotation=45)\n",
    "\n",
    "plt.xlabel(r'$Q \\quad (\\frac{L}{s}) $', fontsize=18)\n",
    "plt.ylabel(r'$\\Delta h \\quad (m) $', fontsize=18)\n",
    "plt.show()"
   ]
  },
  {
   "cell_type": "code",
   "execution_count": null,
   "metadata": {},
   "outputs": [],
   "source": []
  }
 ],
 "metadata": {
  "kernelspec": {
   "display_name": "Python 3",
   "language": "python",
   "name": "python3"
  },
  "language_info": {
   "codemirror_mode": {
    "name": "ipython",
    "version": 3
   },
   "file_extension": ".py",
   "mimetype": "text/x-python",
   "name": "python",
   "nbconvert_exporter": "python",
   "pygments_lexer": "ipython3",
   "version": "3.8.8"
  }
 },
 "nbformat": 4,
 "nbformat_minor": 4
}
