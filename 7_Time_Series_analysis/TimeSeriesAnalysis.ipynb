{
 "cells": [
  {
   "cell_type": "markdown",
   "metadata": {},
   "source": [
    "<hr style=\"border:0.2px solid black\"> </hr>\n",
    "\n",
    "<figure>\n",
    "  <IMG SRC=\"img/ntnu_logo.png\" WIDTH=250 ALIGN=\"right\">\n",
    "</figure>\n",
    "\n",
    "**<ins>Course:</ins>** TVM4174 - Hydroinformatics for Smart Water Systems\n",
    "\n",
    "# <ins>Example:</ins> Time Series Analysis\n",
    "    \n",
    "*Developed by David B. Steffelbauer*\n",
    "\n",
    "<hr style=\"border:0.2px solid black\"> </hr>\n"
   ]
  },
  {
   "cell_type": "code",
   "execution_count": null,
   "metadata": {},
   "outputs": [],
   "source": [
    "import pandas as pd\n",
    "import numpy as np\n",
    "import matplotlib.pyplot as plt\n",
    "import seaborn as sns\n",
    "import matplotlib.dates as mdates\n",
    "plt.rcParams['figure.dpi'] = 200\n",
    "sns.set_style('darkgrid')"
   ]
  },
  {
   "cell_type": "markdown",
   "metadata": {},
   "source": [
    "### Python datetime format"
   ]
  },
  {
   "cell_type": "code",
   "execution_count": null,
   "metadata": {},
   "outputs": [],
   "source": [
    "from datetime import datetime \n",
    "now = datetime.now() # current date and time \n",
    "now"
   ]
  },
  {
   "cell_type": "code",
   "execution_count": null,
   "metadata": {},
   "outputs": [],
   "source": [
    "now.timestamp()"
   ]
  },
  {
   "cell_type": "code",
   "execution_count": null,
   "metadata": {},
   "outputs": [],
   "source": [
    "now.strftime('%A, the %B %y, in the calendar week %w at %I:%M %p')"
   ]
  },
  {
   "cell_type": "markdown",
   "metadata": {},
   "source": [
    "### Working with a Time Series"
   ]
  },
  {
   "cell_type": "code",
   "execution_count": null,
   "metadata": {},
   "outputs": [],
   "source": [
    "filename = 'data/Demands.csv'  # units are L/h\n",
    "data = pd.read_csv(filename, sep=';', index_col=0, decimal=',', parse_dates=[0])\n",
    "data.shape"
   ]
  },
  {
   "cell_type": "code",
   "execution_count": null,
   "metadata": {},
   "outputs": [],
   "source": [
    "flow = data.sum(axis=1)/1000  # transforms to m^3/h"
   ]
  },
  {
   "cell_type": "code",
   "execution_count": null,
   "metadata": {},
   "outputs": [],
   "source": [
    "flow"
   ]
  },
  {
   "cell_type": "markdown",
   "metadata": {},
   "source": [
    "### Indexing and plotting a TS"
   ]
  },
  {
   "cell_type": "code",
   "execution_count": null,
   "metadata": {},
   "outputs": [],
   "source": [
    "flow.plot();"
   ]
  },
  {
   "cell_type": "code",
   "execution_count": null,
   "metadata": {},
   "outputs": [],
   "source": [
    "flow['2018-1'].plot()"
   ]
  },
  {
   "cell_type": "code",
   "execution_count": null,
   "metadata": {},
   "outputs": [],
   "source": [
    "flow['2018-12-23':].plot()"
   ]
  },
  {
   "cell_type": "markdown",
   "metadata": {},
   "source": [
    "### Resampling and Rolling Windows"
   ]
  },
  {
   "cell_type": "code",
   "execution_count": null,
   "metadata": {},
   "outputs": [],
   "source": [
    "q = flow['2018-2-13']"
   ]
  },
  {
   "cell_type": "code",
   "execution_count": null,
   "metadata": {},
   "outputs": [],
   "source": [
    "res_q = q.resample('1H').max()\n",
    "# rol_q = q.rolling('1H', center=True).mean()\n",
    "rol_q = q.rolling(12, center=True).mean()\n",
    "\n",
    "\n",
    "colors = sns.color_palette('viridis', 4)\n",
    "fig, ax = plt.subplots()\n",
    "\n",
    "q.plot(color=colors[0], label='original', alpha=0.6)\n",
    "rol_q.plot(color=colors[1], label='rolling', marker='o', ms=4)\n",
    "res_q.plot(color=colors[2], label='resample', marker='o', ms=10, markerfacecolor='None')\n",
    "plt.xlabel('time', fontsize=14)\n",
    "plt.ylabel(r'$Q \\quad (L/s)$', fontsize=14)\n",
    "plt.legend();"
   ]
  },
  {
   "cell_type": "markdown",
   "metadata": {},
   "source": [
    "### Peak Demand Analysis"
   ]
  },
  {
   "cell_type": "code",
   "execution_count": null,
   "metadata": {},
   "outputs": [],
   "source": [
    "peak_demand = flow.resample('1D').max()"
   ]
  },
  {
   "cell_type": "code",
   "execution_count": null,
   "metadata": {
    "scrolled": false
   },
   "outputs": [],
   "source": [
    "fig, ax = plt.subplots()\n",
    "peak_demand.plot()\n",
    "peak_demand.rolling(30, center=True).mean().plot()\n",
    "\n",
    "ax.xaxis.set_major_formatter(mdates.DateFormatter('%b')) \n",
    "plt.xlabel(r'$time$')\n",
    "plt.ylabel(r'$Q_{max}^{D} \\quad (L/s)$')"
   ]
  },
  {
   "cell_type": "code",
   "execution_count": null,
   "metadata": {
    "scrolled": true
   },
   "outputs": [],
   "source": [
    "time_peak_demand = flow.groupby(pd.Grouper(freq='D')).idxmax()\n",
    "\n",
    "t = time_peak_demand\n",
    "\n",
    "t.dt.time"
   ]
  },
  {
   "cell_type": "markdown",
   "metadata": {},
   "source": [
    "### Choosing values between particular time\n",
    "\n",
    "Leak detection, Minimum Night Flow (MNF) Analysis"
   ]
  },
  {
   "cell_type": "code",
   "execution_count": null,
   "metadata": {},
   "outputs": [],
   "source": [
    "bt = flow.between_time('02:30', '04:00')\n",
    "\n",
    "bt"
   ]
  },
  {
   "cell_type": "code",
   "execution_count": null,
   "metadata": {},
   "outputs": [],
   "source": [
    "bt[:'2018-01-03'].plot(marker='o')"
   ]
  },
  {
   "cell_type": "code",
   "execution_count": null,
   "metadata": {},
   "outputs": [],
   "source": [
    "mnf = bt.resample('1D').mean()"
   ]
  },
  {
   "cell_type": "code",
   "execution_count": null,
   "metadata": {
    "scrolled": false
   },
   "outputs": [],
   "source": [
    "mnf.plot()\n",
    "mnf.rolling('10D').mean().plot()"
   ]
  },
  {
   "cell_type": "markdown",
   "metadata": {},
   "source": [
    "## Seasonality"
   ]
  },
  {
   "cell_type": "markdown",
   "metadata": {},
   "source": [
    "### How to detect periodic signals"
   ]
  },
  {
   "cell_type": "code",
   "execution_count": null,
   "metadata": {},
   "outputs": [],
   "source": [
    "from scipy import signal"
   ]
  },
  {
   "cell_type": "code",
   "execution_count": null,
   "metadata": {},
   "outputs": [],
   "source": [
    "ts = flow.resample('1H').mean()\n",
    "\n",
    "# Estimate power spectral density using a periodogram\n",
    "f, Pxx = signal.periodogram(ts)"
   ]
  },
  {
   "cell_type": "code",
   "execution_count": null,
   "metadata": {
    "scrolled": false
   },
   "outputs": [],
   "source": [
    "# lets plot this periodogram\n",
    "plt.plot(f, Pxx)\n",
    "plt.xlim((0, 0.2));\n",
    "plt.ylim((0, None));\n",
    "plt.xlabel('Frequency', fontsize=14)\n",
    "plt.ylabel('Power Spectral Density', fontsize=14)"
   ]
  },
  {
   "cell_type": "code",
   "execution_count": null,
   "metadata": {},
   "outputs": [],
   "source": [
    "n = 4\n",
    "\n",
    "top_n_periods = {}\n",
    "\n",
    "# get indices for n highest Pxx values\n",
    "topn_freq_indices = np.flip(np.argsort(Pxx), 0)[0:n]\n",
    "\n",
    "# use indices from previous step to\n",
    "# get 3 frequencies with highest power\n",
    "freqs = f[topn_freq_indices]\n",
    "\n",
    "# use same indices to get powers as well\n",
    "power = Pxx[topn_freq_indices]\n",
    "\n",
    "# we are interested in period and it is calculated as 1/frequency \n",
    "periods = 1 / np.array(freqs)\n",
    "\n",
    "# populate dict with calculated values\n",
    "for ii in range(n):\n",
    "    top_n_periods[f'period{ii+1}'] = periods[ii]\n",
    "    top_n_periods[f'freq{ii+1}'] = freqs[ii]\n",
    "    top_n_periods[f'power{ii+1}'] = power[ii]"
   ]
  },
  {
   "cell_type": "code",
   "execution_count": null,
   "metadata": {},
   "outputs": [],
   "source": [
    "top_n_periods"
   ]
  },
  {
   "cell_type": "markdown",
   "metadata": {},
   "source": [
    "* https://www.dataquest.io/blog/tutorial-time-series-analysis-with-pandas/\n",
    "* https://jakevdp.github.io/PythonDataScienceHandbook/03.11-working-with-time-series.html\n",
    "* Autocorrelations and Periodigram: http://qingkaikong.blogspot.com/2017/01/signal-processing-finding-periodic.html"
   ]
  },
  {
   "cell_type": "markdown",
   "metadata": {},
   "source": [
    "## Autocorrelations"
   ]
  },
  {
   "cell_type": "code",
   "execution_count": null,
   "metadata": {},
   "outputs": [],
   "source": [
    "import statsmodels.api as sm\n",
    "from statsmodels.graphics.tsaplots import plot_acf, plot_pacf"
   ]
  },
  {
   "cell_type": "code",
   "execution_count": null,
   "metadata": {},
   "outputs": [],
   "source": [
    "ts = flow.resample('1H').mean()\n",
    "\n",
    "plot_acf(ts, lags=200);"
   ]
  },
  {
   "cell_type": "markdown",
   "metadata": {},
   "source": [
    "### Pivoting time series"
   ]
  },
  {
   "cell_type": "code",
   "execution_count": null,
   "metadata": {},
   "outputs": [],
   "source": [
    "df = pd.DataFrame(flow, columns=['q'])\n",
    "df"
   ]
  },
  {
   "cell_type": "code",
   "execution_count": null,
   "metadata": {},
   "outputs": [],
   "source": [
    "\n",
    "df['date'] = df.index.date\n",
    "df['time'] = df.index.time\n",
    "df"
   ]
  },
  {
   "cell_type": "code",
   "execution_count": null,
   "metadata": {},
   "outputs": [],
   "source": [
    "M = df.pivot_table(values='q', index='date', columns='time')\n",
    "M"
   ]
  },
  {
   "cell_type": "code",
   "execution_count": null,
   "metadata": {
    "scrolled": false
   },
   "outputs": [],
   "source": [
    "sns.heatmap(M);"
   ]
  },
  {
   "cell_type": "code",
   "execution_count": null,
   "metadata": {},
   "outputs": [],
   "source": [
    "df['weekday'] = df.index.day_name()\n",
    "df"
   ]
  },
  {
   "cell_type": "code",
   "execution_count": null,
   "metadata": {},
   "outputs": [],
   "source": [
    "M = df.pivot_table(values='q', index='time', columns='weekday')\n",
    "M[['Monday', 'Tuesday', 'Wednesday', 'Thursday', 'Friday', 'Saturday', 'Sunday']]"
   ]
  },
  {
   "cell_type": "code",
   "execution_count": null,
   "metadata": {},
   "outputs": [],
   "source": [
    "days = ['Monday', 'Tuesday', 'Wednesday', 'Thursday', 'Friday', 'Saturday', 'Sunday']\n",
    "\n",
    "colors = sns.color_palette('viridis', len(days))\n",
    "\n",
    "for ii, day in enumerate(days):\n",
    "    M[day].plot(color=colors[ii], label=day)\n",
    "plt.ylim((0, None))\n",
    "plt.xlim((M[day].index[0], M[day].index[-1]))\n",
    "plt.legend()"
   ]
  },
  {
   "cell_type": "markdown",
   "metadata": {},
   "source": [
    "### White Noise"
   ]
  },
  {
   "cell_type": "code",
   "execution_count": null,
   "metadata": {},
   "outputs": [],
   "source": [
    "import numpy as np\n",
    "import pandas as pd\n",
    "\n",
    "import statsmodels.api as sm\n",
    "from statsmodels.graphics.tsaplots import plot_acf, plot_pacf\n",
    "\n",
    "x = np.random.randn(5000)\n",
    "\n",
    "x = pd.Series(x)\n",
    "\n",
    "\n",
    "fig, ax1 = plt.subplots(1,1)\n",
    "x.plot(ax=ax1)\n",
    "plt.xlabel(r'$t$', fontsize=16)\n",
    "plt.ylabel(r'$y(t)$', fontsize=16)\n",
    "# x.rolling(3).mean().plot(ax=ax1)\n",
    "\n",
    "ax1.set_xlim((x.index[0], x.index[-1]))\n",
    "\n",
    "fig, ax1 = plt.subplots(1,1)\n",
    "plot_acf(x, ax=ax1);\n",
    "plt.xlabel(r'$h$', fontsize=16)\n",
    "plt.ylabel(r'$\\rho(h)$', fontsize=16)"
   ]
  },
  {
   "cell_type": "markdown",
   "metadata": {},
   "source": [
    "### Random Walk Model\n",
    "\n",
    "$y_t = y_{t-1} + \\epsilon_t$"
   ]
  },
  {
   "cell_type": "code",
   "execution_count": null,
   "metadata": {},
   "outputs": [],
   "source": [
    "x.cumsum().plot()\n",
    "plt.title('Gaussian Random Walk');"
   ]
  },
  {
   "cell_type": "markdown",
   "metadata": {},
   "source": [
    "## Simple TS Decomposition"
   ]
  },
  {
   "cell_type": "code",
   "execution_count": null,
   "metadata": {},
   "outputs": [],
   "source": [
    "ts.plot(),"
   ]
  },
  {
   "cell_type": "code",
   "execution_count": null,
   "metadata": {},
   "outputs": [],
   "source": [
    "import statsmodels.api as sm\n",
    "\n",
    "result = sm.tsa.seasonal_decompose(ts, model='multiplicative', period=168)\n",
    "\n",
    "result.plot();"
   ]
  },
  {
   "cell_type": "code",
   "execution_count": null,
   "metadata": {},
   "outputs": [],
   "source": [
    "result = sm.tsa.seasonal_decompose(ts, model='multiplicative', period=168)\n",
    "\n",
    "result.plot();"
   ]
  },
  {
   "cell_type": "markdown",
   "metadata": {},
   "source": [
    "## Residual Analysis"
   ]
  },
  {
   "cell_type": "code",
   "execution_count": null,
   "metadata": {},
   "outputs": [],
   "source": [
    "resid = result.resid\n",
    "\n",
    "fig, ax= plt.subplots(figsize=(8,5))\n",
    "resid.plot()\n",
    "ax.set_xlabel('')\n",
    "ax.set_xticks([], minor=True) \n",
    "ax.set_title('Residual plot')\n",
    "sns.despine()\n",
    "plt.show()"
   ]
  },
  {
   "cell_type": "code",
   "execution_count": null,
   "metadata": {},
   "outputs": [],
   "source": [
    "# Let's cheat a little bit ;)\n",
    "\n",
    "industrial = ['n1', 'n25', 'n347', 'n4']\n",
    "\n",
    "data_wo_ind = data.drop(industrial, axis=1)\n",
    "\n",
    "flow = data_wo_ind.sum(axis=1)/1000\n",
    "\n",
    "ts = flow.resample('1H').mean()\n",
    "\n",
    "res = sm.tsa.seasonal_decompose(ts, model='mutliplicative', period=24*7)\n",
    "\n",
    "\n",
    "res.plot(); \n"
   ]
  },
  {
   "cell_type": "code",
   "execution_count": null,
   "metadata": {},
   "outputs": [],
   "source": [
    "# Plot the residuals\n",
    "res.resid.plot()\n",
    "\n",
    "\n",
    "residuals = res.resid.dropna() - 1"
   ]
  },
  {
   "cell_type": "code",
   "execution_count": null,
   "metadata": {},
   "outputs": [],
   "source": [
    "fig, ax= plt.subplots(figsize=(8,5))\n",
    "residuals.plot(color=colors[1])\n",
    "ax.set_xlabel('')\n",
    "ax.set_xticks([], minor=True) \n",
    "ax.set_title('Residual plot')\n",
    "sns.despine()\n",
    "plt.show()"
   ]
  },
  {
   "cell_type": "code",
   "execution_count": null,
   "metadata": {},
   "outputs": [],
   "source": [
    "fig, ax = plt.subplots(figsize=(8,5))\n",
    "sm.graphics.tsa.plot_acf(residuals, lags=40, ax=ax)\n",
    "sns.despine()\n",
    "plt.show()"
   ]
  },
  {
   "cell_type": "code",
   "execution_count": null,
   "metadata": {},
   "outputs": [],
   "source": [
    "def hist(series):\n",
    "    fig, ax= plt.subplots(figsize=(8,5))\n",
    "    sns.distplot(series, ax=ax, hist_kws={'alpha': 0.8, 'edgecolor':'black', 'color': colors[1]},  \n",
    "                 kde_kws={'color': 'black', 'alpha': 0.7})\n",
    "    sns.despine()\n",
    "    return fig, ax\n",
    "\n",
    "hist(residuals)\n",
    "plt.show()"
   ]
  },
  {
   "cell_type": "code",
   "execution_count": null,
   "metadata": {
    "scrolled": false
   },
   "outputs": [],
   "source": [
    "sm.qqplot(residuals, line='s');"
   ]
  },
  {
   "cell_type": "markdown",
   "metadata": {},
   "source": [
    "# Facebook Prophet"
   ]
  },
  {
   "cell_type": "code",
   "execution_count": null,
   "metadata": {},
   "outputs": [],
   "source": [
    "from fbprophet import Prophet\n",
    "\n",
    "filename = 'data/Demands.csv'  # units are L/h\n",
    "data = pd.read_csv(filename, sep=';', index_col=0, decimal=',', parse_dates=[0])\n",
    "\n",
    "\n",
    "\n",
    "flow = data.sum(axis=1)/1000\n",
    "flow\n",
    "\n",
    "flow['2018-6'] = np.nan\n",
    "\n",
    "flow['2018-8'] = np.nan\n",
    "\n",
    "flow.plot()"
   ]
  },
  {
   "cell_type": "code",
   "execution_count": null,
   "metadata": {},
   "outputs": [],
   "source": [
    "ts = flow.resample('1H').mean()\n",
    "\n",
    "df = ts.reset_index()\n",
    "\n",
    "df\n"
   ]
  },
  {
   "cell_type": "code",
   "execution_count": null,
   "metadata": {},
   "outputs": [],
   "source": [
    "df = df.rename(columns={'Timestamp': 'ds', 0:'y'})\n",
    "df"
   ]
  },
  {
   "cell_type": "code",
   "execution_count": null,
   "metadata": {},
   "outputs": [],
   "source": [
    "# Python\n",
    "m = Prophet(seasonality_mode='multiplicative')\n",
    "# m = Prophet(seasonality_mode='multiplicative', interval_width=0.95, mcmc_samples=300)\n",
    "m.fit(df)"
   ]
  },
  {
   "cell_type": "code",
   "execution_count": null,
   "metadata": {},
   "outputs": [],
   "source": [
    "future = m.make_future_dataframe(periods=7)\n",
    "\n",
    "forecast = m.predict(future)\n",
    "forecast[['ds', 'yhat', 'yhat_lower', 'yhat_upper']].tail()"
   ]
  },
  {
   "cell_type": "code",
   "execution_count": null,
   "metadata": {},
   "outputs": [],
   "source": [
    "fig = m.plot(forecast);"
   ]
  },
  {
   "cell_type": "code",
   "execution_count": null,
   "metadata": {},
   "outputs": [],
   "source": [
    "m.plot_components(forecast);"
   ]
  },
  {
   "cell_type": "code",
   "execution_count": null,
   "metadata": {},
   "outputs": [],
   "source": []
  }
 ],
 "metadata": {
  "kernelspec": {
   "display_name": "Python 3",
   "language": "python",
   "name": "python3"
  },
  "language_info": {
   "codemirror_mode": {
    "name": "ipython",
    "version": 3
   },
   "file_extension": ".py",
   "mimetype": "text/x-python",
   "name": "python",
   "nbconvert_exporter": "python",
   "pygments_lexer": "ipython3",
   "version": "3.8.8"
  }
 },
 "nbformat": 4,
 "nbformat_minor": 4
}
