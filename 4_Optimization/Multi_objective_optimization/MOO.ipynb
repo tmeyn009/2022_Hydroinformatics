{
 "cells": [
  {
   "cell_type": "markdown",
   "metadata": {},
   "source": [
    "<hr style=\"border:0.2px solid black\"> </hr>\n",
    "\n",
    "<figure>\n",
    "  <IMG SRC=\"img/ntnu_logo.png\" WIDTH=200 ALIGN=\"right\">\n",
    "</figure>\n",
    "\n",
    "**<ins>Course:</ins>** TVM4174 - Hydroinformatics for Smart Water Systems\n",
    "\n",
    "# <ins>Exercise 7:</ins> Multi-objective optimization\n",
    "    \n",
    "*Developed by David Steffelbauer*\n",
    "\n",
    "    \n",
    "<hr style=\"border:0.2px solid black\"> </hr>"
   ]
  },
  {
   "cell_type": "code",
   "execution_count": null,
   "metadata": {},
   "outputs": [],
   "source": [
    "# install additional packages\n",
    "\n",
    "!pip install wntr  # https://wntr.readthedocs.io/en/latest/\n",
    "!pip install deap  # https://deap.readthedocs.io"
   ]
  },
  {
   "cell_type": "code",
   "execution_count": null,
   "metadata": {},
   "outputs": [],
   "source": [
    "# import packages and functions\n",
    "\n",
    "import numpy as np\n",
    "import wntr\n",
    "import pandas as pd\n",
    "import random\n",
    "from deap import algorithms\n",
    "from deap import base\n",
    "from deap import creator\n",
    "from deap import tools\n",
    "import matplotlib.pyplot as plt\n",
    "import seaborn as sns\n",
    "sns.set_style('whitegrid')"
   ]
  },
  {
   "cell_type": "code",
   "execution_count": null,
   "metadata": {},
   "outputs": [],
   "source": [
    "# Two Loop Network\n",
    "\n",
    "# import network with wntr\n",
    "wn = wntr.network.WaterNetworkModel('TLN.inp')  \n",
    "\n",
    "# generate lookup table for shoowing which pipes are attached to which nodes\n",
    "node2pipe = pd.concat([wn.query_link_attribute('start_node_name'), wn.query_link_attribute('end_node_name')])  "
   ]
  },
  {
   "cell_type": "code",
   "execution_count": null,
   "metadata": {},
   "outputs": [],
   "source": [
    "# diameter options for the optimisation problem (factor 25.4 transforms inch to mm)\n",
    "option_diam = np.asarray([1, 2, 3, 4, 6, 8, 10, 12, 14, 16, 18, 20, 22, 24]) * 25.4\n",
    "\n",
    "# costs associated to the diameters\n",
    "unit_cost = np.asarray([2, 5, 8, 11, 16, 23, 32, 50, 60, 90, 130, 170, 300, 550])\n",
    "\n",
    "# minimum requested pressure\n",
    "Hreq=30"
   ]
  },
  {
   "cell_type": "code",
   "execution_count": null,
   "metadata": {},
   "outputs": [],
   "source": [
    "def cost(genome):\n",
    "    \"\"\"\n",
    "    calculate the costs from a genome\n",
    "    \"\"\"\n",
    "    total_cost = 0.0\n",
    "    \n",
    "    # sum up the costs associated with a certain gene (factor 1000 is the length of the pipe, which is the same for all pipes)\n",
    "    for gene in genome:\n",
    "        total_cost += unit_cost[gene] * 1000\n",
    "    return total_cost,"
   ]
  },
  {
   "cell_type": "code",
   "execution_count": null,
   "metadata": {},
   "outputs": [],
   "source": [
    "def resilience(genome):\n",
    "    \"\"\"\n",
    "    calculate the resilience from a genome\n",
    "    \"\"\"\n",
    "    diameters = np.asarray([option_diam[ii] for ii in genome])\n",
    "\n",
    "    for ii, pname in enumerate(wn.pipe_name_list):\n",
    "        p = wn.get_link(pname)\n",
    "        p.diameter = diameters[ii]\n",
    "\n",
    "    Cj = dict()\n",
    "    for nodename in wn.junction_name_list:\n",
    "\n",
    "        neighbors = node2pipe[node2pipe == nodename].index\n",
    "        npj = len(neighbors)\n",
    "        n_diams = np.asarray([wn.get_link(p).diameter for p in neighbors])\n",
    "        Cj[nodename] = np.sum(n_diams) / (npj * np.max(n_diams))\n",
    "\n",
    "    sim = wntr.sim.EpanetSimulator(wn)\n",
    "    result = sim.run_sim()\n",
    "\n",
    "    Cj = pd.Series(Cj)\n",
    "    Hj = result.node['pressure'][wn.junction_name_list].loc[0]\n",
    "    Qj = result.node['demand'][wn.junction_name_list].loc[0]\n",
    "\n",
    "    I = np.sum((Cj * Qj * (Hj - Hreq))) / np.sum(Qj * Hreq)\n",
    "    return I,"
   ]
  },
  {
   "cell_type": "code",
   "execution_count": null,
   "metadata": {},
   "outputs": [],
   "source": [
    "NBR_PIPES = len(wn.pipe_name_list)\n",
    "\n",
    "NGEN = 30 # number of generations\n",
    "MU = 200  # popsize\n",
    "\n",
    "CXPB = 0.8\n",
    "MUTPB = 0.2\n"
   ]
  },
  {
   "cell_type": "code",
   "execution_count": null,
   "metadata": {},
   "outputs": [],
   "source": [
    "creator.create(\"Fitness\", base.Fitness, weights=(-1.0,))\n",
    "creator.create(\"Individual\", list, fitness=creator.Fitness)"
   ]
  },
  {
   "cell_type": "code",
   "execution_count": null,
   "metadata": {},
   "outputs": [],
   "source": [
    "toolbox = base.Toolbox()\n",
    "toolbox.register(\"attr_ind\", random.randint, 0, len(option_diam)-1)\n",
    "toolbox.register(\"individual\", tools.initRepeat, creator.Individual,\n",
    "                 toolbox.attr_ind, n=NBR_PIPES)"
   ]
  },
  {
   "cell_type": "code",
   "execution_count": null,
   "metadata": {},
   "outputs": [],
   "source": [
    "toolbox.register(\"population\", tools.initRepeat, list, toolbox.individual)"
   ]
  },
  {
   "cell_type": "code",
   "execution_count": null,
   "metadata": {},
   "outputs": [],
   "source": [
    "toolbox.register(\"evaluate\", cost)\n",
    "toolbox.register(\"mate\", tools.cxOnePoint)\n",
    "toolbox.register(\"mutate\", tools.mutUniformInt, low=0, up=len(option_diam)-1, indpb=1.0/NBR_PIPES)\n",
    "toolbox.register(\"select\", tools.selTournament, tournsize=2)"
   ]
  },
  {
   "cell_type": "code",
   "execution_count": null,
   "metadata": {},
   "outputs": [],
   "source": [
    "def soo():\n",
    "\n",
    "    pop = toolbox.population(n=100)\n",
    "    hof = tools.HallOfFame(1) # a ParetoFront may be used to retrieve the best non dominated individuals of the evolution\n",
    "    stats = tools.Statistics(lambda ind: ind.fitness.values)\n",
    "    stats.register(\"avg\", np.mean)\n",
    "    stats.register(\"std\", np.std)\n",
    "    stats.register(\"min\", np.min)\n",
    "    stats.register(\"max\", np.max)\n",
    "\n",
    "    pop, log = algorithms.eaSimple(pop, toolbox, cxpb=CXPB, mutpb=MUTPB, ngen=NGEN, stats=stats, halloffame=hof, verbose=True)\n",
    "\n",
    "    log = pd.DataFrame(log)\n",
    "    log = log.set_index('gen')\n",
    "\n",
    "    return hof, pop, log"
   ]
  },
  {
   "cell_type": "code",
   "execution_count": null,
   "metadata": {},
   "outputs": [],
   "source": [
    "hof, pop, log = soo()"
   ]
  },
  {
   "cell_type": "code",
   "execution_count": null,
   "metadata": {},
   "outputs": [],
   "source": [
    "print(f'Best Solution in Hall of Fame: {hof[0]} with fitness {hof[0].fitness.values[0]}')"
   ]
  },
  {
   "cell_type": "code",
   "execution_count": null,
   "metadata": {},
   "outputs": [],
   "source": [
    "log[['min', 'avg']].plot()\n",
    "plt.legend(fontsize=14)\n",
    "plt.xlim((0, NGEN))\n",
    "plt.xlabel('Generations', fontsize=16)\n",
    "plt.ylabel('$f(\\mathbf{x})$', fontsize=16)\n",
    "plt.show()"
   ]
  },
  {
   "cell_type": "markdown",
   "metadata": {},
   "source": [
    "## Multi-objective optimization"
   ]
  },
  {
   "cell_type": "code",
   "execution_count": null,
   "metadata": {},
   "outputs": [],
   "source": [
    "def eval_TLN(genome):\n",
    "    return *cost(genome), *resilience(genome),"
   ]
  },
  {
   "cell_type": "code",
   "execution_count": null,
   "metadata": {},
   "outputs": [],
   "source": [
    "creator.create(\"Fitness\", base.Fitness, weights=(-1.0, 1.0))\n",
    "creator.create(\"Individual\", list, fitness=creator.Fitness)\n",
    "\n",
    "toolbox = base.Toolbox()\n",
    "toolbox.register(\"attr_ind\", random.randint, 0, len(option_diam)-1)\n",
    "toolbox.register(\"individual\", tools.initRepeat, creator.Individual,\n",
    "                 toolbox.attr_ind, n=NBR_PIPES)\n",
    "\n",
    "\n",
    "# Structure initializers\n",
    "toolbox.register(\"population\", tools.initRepeat, list, toolbox.individual)\n",
    "\n",
    "toolbox.register(\"evaluate\", eval_TLN)\n",
    "toolbox.register(\"mate\", tools.cxOnePoint)\n",
    "toolbox.register(\"mutate\", tools.mutUniformInt, low=0, up=len(option_diam)-1, indpb=1.0/NBR_PIPES)\n",
    "toolbox.register(\"select\", tools.selNSGA2)"
   ]
  },
  {
   "cell_type": "code",
   "execution_count": null,
   "metadata": {},
   "outputs": [],
   "source": [
    "def moo(seed=None):\n",
    "    random.seed(seed)\n",
    "\n",
    "    stats = tools.Statistics(lambda ind: ind.fitness.values)\n",
    "    stats.register(\"min\", np.min, axis=0)\n",
    "    stats.register(\"max\", np.max, axis=0)\n",
    "\n",
    "    logbook = tools.Logbook()\n",
    "    logbook.header = \"gen\", \"evals\", \"min\", \"max\"\n",
    "\n",
    "    pop = toolbox.population(n=MU)\n",
    "    hof = tools.ParetoFront()\n",
    "\n",
    "    # Evaluate the individuals with an invalid fitness\n",
    "    invalid_ind = [ind for ind in pop if not ind.fitness.valid]\n",
    "    fitnesses = toolbox.map(toolbox.evaluate, invalid_ind)\n",
    "    for ind, fit in zip(invalid_ind, fitnesses):\n",
    "        ind.fitness.values = fit\n",
    "\n",
    "    # This is just to assign the crowding distance to the individuals\n",
    "    # no actual selection is done\n",
    "    pop = toolbox.select(pop, len(pop))\n",
    "\n",
    "    record = stats.compile(pop)\n",
    "    logbook.record(gen=0, evals=len(invalid_ind), **record)\n",
    "    print(logbook.stream)\n",
    "\n",
    "    # Begin the generational process\n",
    "    for gen in range(1, NGEN):\n",
    "        # Vary the population\n",
    "        offspring = tools.selTournamentDCD(pop, len(pop))\n",
    "        offspring = [toolbox.clone(ind) for ind in offspring]\n",
    "\n",
    "        for ind1, ind2 in zip(offspring[::2], offspring[1::2]):\n",
    "            if random.random() <= CXPB:\n",
    "                toolbox.mate(ind1, ind2)\n",
    "\n",
    "            toolbox.mutate(ind1)\n",
    "            toolbox.mutate(ind2)\n",
    "            del ind1.fitness.values, ind2.fitness.values\n",
    "\n",
    "        # Evaluate the individuals with an invalid fitness\n",
    "        invalid_ind = [ind for ind in offspring if not ind.fitness.valid]\n",
    "        fitnesses = toolbox.map(toolbox.evaluate, invalid_ind)\n",
    "        for ind, fit in zip(invalid_ind, fitnesses):\n",
    "            ind.fitness.values = fit\n",
    "\n",
    "        # Select the next generation population\n",
    "        pop = toolbox.select(pop + offspring, MU)\n",
    "        hof.update(pop)\n",
    "        record = stats.compile(pop)\n",
    "        logbook.record(gen=gen, evals=len(invalid_ind), **record)\n",
    "        print(logbook.stream)\n",
    "\n",
    "    return hof, pop, logbook"
   ]
  },
  {
   "cell_type": "code",
   "execution_count": null,
   "metadata": {},
   "outputs": [],
   "source": [
    "hof, pop, log = moo()"
   ]
  },
  {
   "cell_type": "code",
   "execution_count": null,
   "metadata": {},
   "outputs": [],
   "source": [
    "print(hof)"
   ]
  },
  {
   "cell_type": "code",
   "execution_count": null,
   "metadata": {},
   "outputs": [],
   "source": [
    "xhof, yhof = zip(*[ind.fitness.values for ind in hof])\n",
    "plt.plot(xhof, yhof, label='Pareto Front')\n",
    "x, y = zip(*[ind.fitness.values for ind in pop])\n",
    "plt.scatter(x, y, color='k', label='Population')\n",
    "plt.xlabel('Cost', fontsize=16)\n",
    "plt.ylabel('Resilience', fontsize=16)\n",
    "plt.legend(fontsize=14)\n",
    "plt.show()"
   ]
  },
  {
   "cell_type": "code",
   "execution_count": null,
   "metadata": {},
   "outputs": [],
   "source": []
  }
 ],
 "metadata": {
  "kernelspec": {
   "display_name": "Python 3",
   "language": "python",
   "name": "python3"
  },
  "language_info": {
   "codemirror_mode": {
    "name": "ipython",
    "version": 3
   },
   "file_extension": ".py",
   "mimetype": "text/x-python",
   "name": "python",
   "nbconvert_exporter": "python",
   "pygments_lexer": "ipython3",
   "version": "3.8.8"
  }
 },
 "nbformat": 4,
 "nbformat_minor": 4
}
