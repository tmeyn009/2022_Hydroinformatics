{
 "cells": [
  {
   "cell_type": "markdown",
   "metadata": {},
   "source": [
    "<figure>\n",
    "  <IMG SRC=\"https://raw.githubusercontent.com/mbakker7/exploratory_computing_with_python/master/tudelft_logo.png\" WIDTH=250 ALIGN=\"right\">\n",
    "</figure>\n",
    "\n",
    "# Exploratory Computing with Python\n",
    "*Developed by David B. Steffelbauer and Mark Bakker*\n",
    "## Notebook xx: Optimization with Genetic Algorithms"
   ]
  },
  {
   "cell_type": "markdown",
   "metadata": {},
   "source": [
    "### Introduction\n",
    "\n",
    "In this notebook we will learn how to find minima in arbitrary functions. Finding minima is a field in mathematics that is called [Mathematical Optimization](https://en.wikipedia.org/wiki/Mathematical_optimization). Optimization of functions is of high importance in various fields ranging from finance to engineering. For example, airline companies have to schedule flights and airplanes in an optimal way to minimise costs, delivery companies have to find the shortest path between their customers and investors seek to minimise their risk while optimising their profit. All these problems are optimisation problems.\n",
    "\n",
    "Not only engineers, but also nature itself optimises. The principle behind the evolution of species is that individuals that are best adapted to the environment are more likely to survive. This is called the survival of the fittest. Increasing the adaption of species to their environment can be seen as optimising the fitness of a species. \n",
    "\n",
    "The whole information of one individual is decoded in its genes, which can be seen as input parameters of functions. Better adaption leads to higher chance of breeding with other individuals of the same species and passing your fit genes to the next generation. We will learn throughout this notebook how the rules of evolution can be translated into computer code and how the underlying mechanisms can be used to find minima in functions.\n",
    "\n",
    "Note: Make sure that all graphs that you produce include labels along the horizontal and vertical axes, a title and, if you are plotting multiple things in one graph, a legend."
   ]
  },
  {
   "cell_type": "code",
   "execution_count": 1,
   "metadata": {},
   "outputs": [],
   "source": [
    "import numpy as np\n",
    "from matplotlib import pyplot as plt"
   ]
  },
  {
   "cell_type": "markdown",
   "metadata": {},
   "source": [
    "### The Rastrigin function"
   ]
  },
  {
   "cell_type": "markdown",
   "metadata": {},
   "source": [
    "We will try to find an optimum in a very nasty function, the [Rastrigin Function](https://en.wikipedia.org/wiki/Rastrigin_function). The Rastrigin function is widespread used as a test problem for optimization algorithms. The function is a multi-modal function which means that it possesses many local optima and  has one global optimum. \n",
    "\n",
    "<img src=\"rastrigin3d.png\" width=\"700\">\n",
    "\n",
    "It is defined in $D$ dimensions as follows\n",
    "\\begin{align}\n",
    "f(\\mathbf{x}) \\ = \\ a \\cdot D + \\sum_{i=1}^{D} \\left(x_{i}^{2} - a \\cdot \\cos (2 \\pi x_i) \\right)\n",
    "\\end{align}\n",
    "\n",
    "and has besides its many local minima a global minimum $\\mathbf{x}^\\ast$ at \n",
    "\\begin{align}\n",
    "\\mathbf{x}^\\ast = \\mathbf{0} \\quad \\text{with} \\quad f(\\mathbf{x}^\\ast) = 0\n",
    "\\end{align}\n",
    "This global minimum is the minimum we want to find.\n",
    "\n",
    "The gradient (first derrivative) results in \n",
    "\n",
    "\\begin{align}\n",
    "\\frac{\\partial f(\\mathbf{x})}{\\partial x_i} = 2 x_i + 2 \\pi  a \\sin \\left(2 \\pi x_i\\right)\n",
    "\\end{align}\n",
    "\n",
    "Setting the gradient to zero, we can see that the function has an infinite number of local optima at \n",
    "\\begin{align}\n",
    "\tx_i = \\frac{n_i}{2} \\quad \\text{with} \\quad n_i \\in \\mathbb{Z} \\quad \\forall \\ i \n",
    "\\end{align}\n",
    "\n",
    "\n",
    "The Hessian calculation leads to\n",
    "\\begin{equation}\n",
    "\t\\frac{\\partial^2 f(\\mathbf{x})}{\\partial x_i \\partial x_j} = \\begin{cases} \n",
    "\t\\text{if } i = j: &2 + 4 \\pi^2 a \\cos \\left( 2 \\pi x_i\\right) \\\\\n",
    "\t\\text{if } i\\neq j:\t&\\qquad \\quad 0  \n",
    "\t\\end{cases}\n",
    "\\end{equation}\n",
    "The Hessian is a sparse, diagonal matrix. The determinant of the Hessian is positive if $n_i$ is even leading to a local minimum, whereas if $n_i$ is odd, a negative determinant and a local maximum results."
   ]
  },
  {
   "cell_type": "markdown",
   "metadata": {},
   "source": [
    "### Exercise 1. The Rastrigin function\n",
    "\n",
    "The first exercise is to implement the Rastrigin function in arbitrary dimensions. Set $a$ to 10. Use a vector of arbitrary length as input parameter of the function ($\\rightarrow$ numpy package!). Compute the function values for the two dimensional points (a) (x,y)=(-0.5,0.5), (b)  (x,y)=(0.0,0.5), (c) for the global optimum in two dimensions, (d) for a vector containing just ones of length 5 and, finally, (e) a vector of length 10 with the numbers one to ten. Print the results to the screen. Note: Use the numpy package for obtaining the numerical value for $\\pi$ ([$\\rightarrow\\texttt{np.pi}$](https://docs.scipy.org/doc/numpy/reference/constants.html#numpy.pi)) and for the cosine function ([$\\rightarrow\\texttt{np.cos}$](https://docs.scipy.org/doc/numpy/reference/generated/numpy.cos.html))."
   ]
  },
  {
   "cell_type": "code",
   "execution_count": 2,
   "metadata": {},
   "outputs": [],
   "source": [
    "def rastrigin(xvector, a=10):\n",
    "    \n",
    "    D = len(xvector)\n",
    "    value = D * a \n",
    "    for x in xvector:\n",
    "        value += x ** 2 - a * np.cos(2 * np.pi * x)\n",
    "    return value"
   ]
  },
  {
   "cell_type": "code",
   "execution_count": 3,
   "metadata": {},
   "outputs": [
    {
     "name": "stdout",
     "output_type": "stream",
     "text": [
      "Point (-0.50,  0.50) => 40.5\n",
      "Point ( 0.00,  0.50) => 20.25\n",
      "Point ( 1.00,  1.00,  1.00,  1.00,  1.00) => 5.0\n",
      "Point ( 1.00,  2.00,  3.00,  4.00,  5.00,  6.00,  7.00,  8.00,  9.00,  10.00) => 385.0\n"
     ]
    }
   ],
   "source": [
    "points = [[-0.5, 0.5],\n",
    "          [0.0, 0.5],\n",
    "          np.ones(5),\n",
    "          np.arange(10)+1]\n",
    "\n",
    "for point in points:\n",
    "    string = ', '.join(f'{i: 2.2f}' for i in point)\n",
    "    print(f'Point ({string}) => {rastrigin(point)}')"
   ]
  },
  {
   "cell_type": "markdown",
   "metadata": {},
   "source": [
    "### Exercise 2. Computation of 2d-function values of the Rastrigin function\n",
    "Compute the Rastrigin function for different x-y combinations at once on a two dimensional mesh. Use [$\\texttt{np.linspace}$](https://docs.scipy.org/doc/numpy/reference/generated/numpy.linspace.html) to produce a vector between -2 and +2 with 100 samples. Use [$\\texttt{np.meshgrid}$](https://docs.scipy.org/doc/numpy/reference/generated/numpy.meshgrid.html) to produce a two dimensional mesh $X$ and $Y$. Compute the two-dimensional function values $Z$ with your implementation of the rastrigin function (Hint: Give the function values as list to the rastrigin function $\\texttt{Z = rastrigin([X,Y])}$). Compute the minimum of $Z$ and the $x$ and $y$ coordinates belonging to this minimum and print the minimum and the coordinate values to the screen. Why is the computed minimum different to the minimum of the analytical computation? What can you do to retrieve the real global optimum?"
   ]
  },
  {
   "cell_type": "code",
   "execution_count": 4,
   "metadata": {},
   "outputs": [
    {
     "name": "stdout",
     "output_type": "stream",
     "text": [
      "Computed minimum min(Z) = 0.16 at point (-0.020, -0.020)\n"
     ]
    }
   ],
   "source": [
    "x = np.linspace(-2, 2, 100)\n",
    "X, Y = np.meshgrid(x, x)\n",
    "\n",
    "Z = rastrigin([X,Y])\n",
    "\n",
    "f_min = np.min(Z)\n",
    "index = np.unravel_index(np.argmin(Z), Z.shape)\n",
    "coords = [x[i] for i in index]\n",
    "\n",
    "print(f'Computed minimum min(Z) = {f_min:.2f} at point ({coords[0]:.3f}, {coords[1]:.3f})')\n"
   ]
  },
  {
   "cell_type": "markdown",
   "metadata": {},
   "source": [
    "### Exercise 3. Plotting of 2d-Rastrigin function\n",
    "Plot the two-dimensional Rastrigin function with matplotlib's [$\\texttt{contourf}$](https://matplotlib.org/api/_as_gen/matplotlib.pyplot.contourf.html) function. Add axis labels ($x$ and $y$) and a [colorbar](https://matplotlib.org/api/_as_gen/matplotlib.pyplot.colorbar.html) with a colorbar label ($f(x,y)$). Compute the minimum at $x_0=0$ and $y_0=0$, add a title containing the minimum value and [annotate](https://matplotlib.org/api/_as_gen/matplotlib.pyplot.annotate.html) the minimum in the contourplot with an arrow and a text with '$f(x_0, y_0) = $' and the computed minimum value ([$\\rightarrow$Hint](https://matplotlib.org/users/annotations.html))."
   ]
  },
  {
   "cell_type": "code",
   "execution_count": 5,
   "metadata": {},
   "outputs": [
    {
     "data": {
      "image/png": "[encoded data removed]",
      "text/plain": [
       "<Figure size 576x432 with 2 Axes>"
      ]
     },
     "metadata": {
      "needs_background": "light"
     },
     "output_type": "display_data"
    }
   ],
   "source": [
    "fig, ax = plt.subplots(1, 1, figsize=(8, 6))\n",
    "plt.contourf(X, Y, Z)\n",
    "cb = plt.colorbar()\n",
    "plt.xlabel('x')\n",
    "plt.ylabel('y')\n",
    "\n",
    "cb.set_label(r'$f(x, y)$')\n",
    "\n",
    "# Get minimum value in Rastrigin function and plot it\n",
    "x0 = 0.0\n",
    "y0 = 0.0\n",
    "z0 = rastrigin([x0, y0])\n",
    "\n",
    "plt.plot(0, 0, marker='x', color='k')\n",
    "# plt.text(0, 0, f'$f(x_0, y_0) = {z0}$')\n",
    "plt.title(f'$x_0 = 0.0, y_0=0.0 \\\\rightarrow f(x_0, y_0) = {z0}$')\n",
    "plt.annotate(f'$f(x_0, y_0) = {z0}$',\n",
    "             xy=[x0, y0],\n",
    "             arrowprops=dict(color='r', shrink=0.05),\n",
    "             horizontalalignment='left',\n",
    "             verticalalignment='bottom',\n",
    "             xytext=(0.5, 0.5));\n"
   ]
  },
  {
   "cell_type": "markdown",
   "metadata": {},
   "source": [
    "### Exercise 4. Find the minimum by coincidence and show the convergence\n",
    "Produce 100000 uniformly distributed two-dimensional random points between -2 and +2 ([$\\rightarrow \\texttt{np.random.uniform}$](https://docs.scipy.org/doc/numpy/reference/generated/numpy.random.uniform.html)) and compute the Rastrigin function values. Show the convergence to the minimum, in other words, how the minimum value of the function gets smaller and smaller in dependency of the number of random numbers (Hint: use [$\\texttt{np.minimum.accumulate}$](https://docs.scipy.org/doc/numpy/reference/generated/numpy.ufunc.accumulate.html)). Plot the result as a [loglog](https://matplotlib.org/api/_as_gen/matplotlib.pyplot.loglog.html) plot and print the found minimum value to the screen. Don't forget to add axis labels and a title."
   ]
  },
  {
   "cell_type": "code",
   "execution_count": 6,
   "metadata": {},
   "outputs": [
    {
     "name": "stdout",
     "output_type": "stream",
     "text": [
      "Monte Carlo minimum is =  0.01169304409703642\n"
     ]
    },
    {
     "data": {
      "image/png": "[encoded data removed]",
      "text/plain": [
       "<Figure size 432x288 with 1 Axes>"
      ]
     },
     "metadata": {
      "needs_background": "light"
     },
     "output_type": "display_data"
    }
   ],
   "source": [
    "R = np.random.uniform(low=-2.0, high=2.0, size=(2, 100000))\n",
    "R_x = R[0, :]\n",
    "R_y = R[1, :]\n",
    "\n",
    "values = np.minimum.accumulate(rastrigin([R_x, R_y]))\n",
    "\n",
    "fig, ax = plt.subplots(1, 1)\n",
    "\n",
    "plt.loglog(values)\n",
    "plt.title('Convergence plot')\n",
    "plt.xlabel('# function evaluations')\n",
    "plt.ylabel(r'$f(x,y)$')\n",
    "plt.grid(True)\n",
    "print('Monte Carlo minimum is = ', values[-1])"
   ]
  },
  {
   "cell_type": "markdown",
   "metadata": {},
   "source": [
    "### Genetic Algorithms\n",
    "\n",
    "<img src=\"genetics.jpg\" width=\"700\">\n",
    "\n",
    "\n",
    "[Genetic Algorithms (GA)](https://en.wikipedia.org/wiki/Genetic_algorithm) are widely used to obtain optimal solutions to countless problems in the water related field. GAs — first proposed by [John H. Holland](https://en.wikipedia.org/wiki/John_Henry_Holland) in 1975 — mimic the principles of evolution to solve optimization problems. GAs are population based. Hence, not just a single solution evolves over time, but rather they utilize the collective learning process of a population consisting of many single solutions. Each solution —called individual— consists of parameters —called genes— which represents a single search point in the parameter space. Descendants of individuals are produced by random either (i) through reproduction by exchanging genes with other individuals or (ii) by mutation, introducing randomly small changes in genes mimicking germ line mutation effects. Subsequently, the fitness of each individual is determined and fitter individuals are more likely to survive and reproduce, thus, giving their good genes to potentially more descendants and hence increasing the fitness of the whole population over time.\n",
    "\n",
    "We will learn step by step in the following exercises how to implement a GA and show that the theory of evolution can be used to find minima in functions. First, we will start by implementing the individual class. Second, we will initialize a whole population of individuals over the whole search space. Then we will learn how to combine the genes of multiple individuals to produce children, how to mutate the genes of the children to obtain new solutions, how to select the best solutions and how to put everything together resulting in a working implementation of a Genetic Algorithm."
   ]
  },
  {
   "cell_type": "markdown",
   "metadata": {},
   "source": [
    "<img src=\"gaScheme.jpg\" width=\"700\">"
   ]
  },
  {
   "cell_type": "markdown",
   "metadata": {},
   "source": [
    "### Exercise 5. Construct an Individual class object\n",
    "\n",
    "Implement a Python class Individual which has two properties (1) a genome and (2) a fitness value. The genome is a vector of real numbers (genes), the fitness value is the function value obtained by the Rastrigin function with the genome as its input. The $\\texttt{__init__}$ method should take as arguments the genome, the fitness value should be [NaN](https://en.wikipedia.org/wiki/NaN) (not a number) by default ([$\\texttt{np.nan}$](https://docs.scipy.org/doc/numpy-1.13.0/user/misc.html)).  Add an evaluate method to the class that computes the Rastrigin function only if the fitness is NaN. Override the $\\texttt{__repr__}$ method to have a nice representation of the individual's genes and fitness when the print function is called. Use the points from exercise 1 to check if your implementation and the evaluate method is working (Hints on how to construct classes and override methods can be found in \n",
    "[Notebook 12](https://nbviewer.jupyter.org/github/mbakker7/exploratory_computing_with_python/blob/master/notebook12_oop/py_exploratory_comp_12_sol.ipynb))."
   ]
  },
  {
   "cell_type": "code",
   "execution_count": 7,
   "metadata": {},
   "outputs": [],
   "source": [
    "class Individual(object):\n",
    "\n",
    "    def __init__(self, genome=None):\n",
    "        self.genome = genome\n",
    "        self.fitness = np.nan\n",
    "\n",
    "    def evaluate(self):\n",
    "        if np.isnan(self.fitness):\n",
    "            self.fitness = rastrigin(self.genome)\n",
    "\n",
    "    def __repr__(self):\n",
    "        string = f'Individual with Genome: [' \n",
    "        string += ', '.join(f'{i: 2.2f}' for i in self.genome)\n",
    "        string += f'] => f(x): {self.fitness:=6.3f}'\n",
    "        return string"
   ]
  },
  {
   "cell_type": "code",
   "execution_count": 8,
   "metadata": {},
   "outputs": [
    {
     "name": "stdout",
     "output_type": "stream",
     "text": [
      "Individual with Genome: [-0.50,  0.50] => f(x): 40.500\n",
      "Individual with Genome: [ 0.00,  0.50] => f(x): 20.250\n",
      "Individual with Genome: [ 1.00,  1.00,  1.00,  1.00,  1.00] => f(x):  5.000\n",
      "Individual with Genome: [ 1.00,  2.00,  3.00,  4.00,  5.00,  6.00,  7.00,  8.00,  9.00,  10.00] => f(x): 385.000\n"
     ]
    }
   ],
   "source": [
    "points = [[-0.5, 0.5],\n",
    "          [0.0, 0.5],\n",
    "          np.ones(5),\n",
    "          np.arange(10)+1]\n",
    "\n",
    "for genome in points:\n",
    "    ind = Individual(genome=genome)\n",
    "    ind.evaluate()\n",
    "    print(ind)\n"
   ]
  },
  {
   "cell_type": "markdown",
   "metadata": {},
   "source": [
    "### Intitialization\n",
    "An initialization procedure generates a population of individuals with hundreds or thousands of possible solutions. The number of individuals in a population is called the population size ($popsize$). Usually, the single individuals are produced randomly over the whole parameter space. Occasionally, the solutions may be \"seeded\" in areas where the optimal solutions is supposed to be found."
   ]
  },
  {
   "cell_type": "markdown",
   "metadata": {},
   "source": [
    "### Exercise 6. Initialize population\n",
    "\n",
    "Write an initialization function ($\\texttt{initialize}$) that returns a population of $popsize$ individuals in a two dimensional ($D=2$) parameter space within $x_i \\in [-2, 2]$. The population should be a $\\texttt{list}$ of $\\texttt{Individual}$ instances. Use $popsize=10$. Subsequently, evaluate each individual in the population and print the whole population on the screen by looping over all Individuals."
   ]
  },
  {
   "cell_type": "code",
   "execution_count": 9,
   "metadata": {},
   "outputs": [
    {
     "name": "stdout",
     "output_type": "stream",
     "text": [
      "The Population consists of ...\n",
      "->\t an Individual with Genome: [ 0.61,  0.65] => f(x): 34.175\n",
      "->\t an Individual with Genome: [-1.67,  0.90] => f(x): 20.561\n",
      "->\t an Individual with Genome: [-1.15, -0.01] => f(x):  5.416\n",
      "->\t an Individual with Genome: [-0.54,  1.21] => f(x): 28.956\n",
      "->\t an Individual with Genome: [ 1.12, -0.85] => f(x):  8.900\n",
      "->\t an Individual with Genome: [-1.60, -0.86] => f(x): 24.766\n",
      "->\t an Individual with Genome: [ 1.51, -0.48] => f(x): 42.381\n",
      "->\t an Individual with Genome: [-1.67, -1.89] => f(x): 23.296\n",
      "->\t an Individual with Genome: [ 0.26,  1.14] => f(x): 15.225\n",
      "->\t an Individual with Genome: [-1.46,  1.24] => f(x): 32.917\n"
     ]
    }
   ],
   "source": [
    "def initialize(popsize, dimensions=2, low=-2.0, high=+2.0):\n",
    "\n",
    "    population = []\n",
    "    for _ in range(popsize):\n",
    "        genes = np.random.uniform(low=low, high=high, size=2)\n",
    "        ind = Individual(genome=genes)\n",
    "        population.append(ind)\n",
    "    return population\n",
    "\n",
    "\n",
    "popsize = 10\n",
    "\n",
    "population = initialize(popsize)\n",
    "\n",
    "print('The Population consists of ...')\n",
    "for ind in population:\n",
    "    ind.evaluate()\n",
    "    print('->\\t an', ind)"
   ]
  },
  {
   "cell_type": "markdown",
   "metadata": {},
   "source": [
    "### Exercise 7. Plot the population in fitness landscape\n",
    "\n",
    "Plot the fitness landscape, which is the 2d Rastrigin function from Exercise 3, as a $\\texttt{contourf}$ plot. Then plot the individuals of the population of exercise 6 in the fitness landscape as black points. Highlight the fittest individual (the individual with the smallest fitness value) in the fitness landscape by surrounding it with a red circle and print the fittest individual to the screen."
   ]
  },
  {
   "cell_type": "code",
   "execution_count": 10,
   "metadata": {},
   "outputs": [
    {
     "name": "stdout",
     "output_type": "stream",
     "text": [
      "Minimum of population at (-1.15,-0.01) with f(x)=5.415906949314694\n"
     ]
    },
    {
     "data": {
      "image/png": "[encoded data removed]",
      "text/plain": [
       "<Figure size 576x432 with 2 Axes>"
      ]
     },
     "metadata": {
      "needs_background": "light"
     },
     "output_type": "display_data"
    }
   ],
   "source": [
    "fig, ax = plt.subplots(1, 1, figsize=(8, 6))\n",
    "plt.contourf(X, Y, Z)\n",
    "cb = plt.colorbar()\n",
    "plt.xlabel('x')\n",
    "plt.ylabel('y')\n",
    "\n",
    "cb.set_label(r'$f(x, y)$')\n",
    "\n",
    "fitness = np.inf\n",
    "for ind in population:\n",
    "    plt.plot(*ind.genome, 'ko')\n",
    "    if ind.fitness < fitness:\n",
    "        fitness = ind.fitness\n",
    "        x, y = ind.genome\n",
    "\n",
    "plt.plot(x, y, 'o', markerfacecolor='None', markeredgecolor='r', markersize=12);\n",
    "print(f'Minimum of population at ({x:.2f},{y:.2f}) with f(x)={fitness}')"
   ]
  },
  {
   "cell_type": "markdown",
   "metadata": {},
   "source": [
    "### Recombination - the crossover operator\n",
    "\n",
    "The first operator in the evolution is the [recombination operator](https://en.wikipedia.org/wiki/Crossover_(genetic_algorithm)). Recombination is responsible for large changes in the solution vectors. The operator produces $k$ new solutions by combining genes of different individuals of the population. \n",
    "\n",
    "In addition to the population, the operator also depends on an additional set of parameters, controlling the reproduction of the individuals such as the probability $p_r$ that the genes of two individuals are recombined. GAs have in common that they favor recombination over mutation, hence, $p_r$ is chosen to be high (e.g. $p_r = 0.8$)."
   ]
  },
  {
   "cell_type": "markdown",
   "metadata": {},
   "source": [
    "<img src=\"cxSinglePoint.jpg\" width=\"700\">"
   ]
  },
  {
   "cell_type": "markdown",
   "metadata": {},
   "source": [
    "### Exercise 8. Implement crossover for two individuals\n",
    "Single point crossover represents a possibility to combine the genes of two individuals, the two parents. A point on both parents' genes is picked randomly (use [$\\texttt{randint}$](https://docs.scipy.org/doc/numpy/reference/generated/numpy.random.randint.html)), and designated a 'crossover point'. Genes to the right of that point are swapped between the two parent chromosomes. This results in two children, each carrying some genetic information from both parents. Implement a Python function called $\\texttt{crossover}$ that takes as input two $\\texttt{Individuals}$ (the parents) that performs a single point crossover between two Individuals and returns two new $\\texttt{Individuals}$ (the children). Test the function on two individuals with 5 genes, one having only zeros (parent 1) and one having only ones (parent 2) in their genes. Apply crossover on the parents to produce the children, evaluate the children and print the parents and children to the screen to check, if the crossover operator is working the right way. In this example, the fitness of the children should be between the fitness values of the parents."
   ]
  },
  {
   "cell_type": "code",
   "execution_count": 11,
   "metadata": {},
   "outputs": [],
   "source": [
    "def crossover(parent1, parent2):\n",
    "    cr_point = np.random.randint(1, len(parent1.genome))\n",
    "    genome1 = np.concatenate([parent1.genome[:cr_point], parent2.genome[cr_point:]])\n",
    "    genome2 = np.concatenate([parent2.genome[:cr_point], parent1.genome[cr_point:]])\n",
    "    \n",
    "    child1 = Individual(genome=genome1)\n",
    "    child2 = Individual(genome=genome2)\n",
    "    \n",
    "    return child1, child2"
   ]
  },
  {
   "cell_type": "code",
   "execution_count": 12,
   "metadata": {},
   "outputs": [
    {
     "name": "stdout",
     "output_type": "stream",
     "text": [
      "\n",
      "Parents\n",
      "Individual with Genome: [ 0.00,  0.00,  0.00,  0.00,  0.00] => f(x):  0.000\n",
      "Individual with Genome: [ 1.00,  1.00,  1.00,  1.00,  1.00] => f(x):  5.000\n",
      "\n",
      "Children\n",
      "Individual with Genome: [ 0.00,  0.00,  1.00,  1.00,  1.00] => f(x):  3.000\n",
      "Individual with Genome: [ 1.00,  1.00,  0.00,  0.00,  0.00] => f(x):  2.000\n"
     ]
    }
   ],
   "source": [
    "p1 = Individual(genome=np.zeros(5))\n",
    "p2 = Individual(genome=np.ones(5))\n",
    "\n",
    "c1, c2 = crossover(p1, p2)\n",
    "\n",
    "for i in [p1, p2, c1, c2]:\n",
    "    i.evaluate()\n",
    "\n",
    "print('\\nParents')\n",
    "print(p1)\n",
    "print(p2)\n",
    "\n",
    "\n",
    "print('\\nChildren')\n",
    "print(c1)\n",
    "print(c2)"
   ]
  },
  {
   "cell_type": "markdown",
   "metadata": {},
   "source": [
    "### Exercise 9. Recombination of the whole population - let the mating season begin\n",
    "\n",
    "Write a Python function called $\\texttt{recombination}$ which takes as input parameters a population and the crossover probability $p_c$. Build random pairs within the population (all Individuals will find a partner) and iterate over these pairs. Decide with a uniform random number $u \\in [0, 1]$ if the parents will crossover their genes to produce new children ($u \\leq p_c$). If $u > p_c$, then two new children are produced with the same genes as the parents. Return all new children as a Python list. Test the $\\texttt{recombination}$ function on the population of exercise 6 with a crossover probability of $p_c=0.8$ . Evaluate the children and print them to the screen."
   ]
  },
  {
   "cell_type": "code",
   "execution_count": 13,
   "metadata": {},
   "outputs": [],
   "source": [
    "def recombination(population, CXPB):\n",
    "    \n",
    "    popsize = len(population)\n",
    "    \n",
    "    combinations = np.arange(0, popsize)\n",
    "    np.random.shuffle(combinations)\n",
    "    combinations = combinations.reshape((int(popsize/2), 2))\n",
    "    \n",
    "    children = []\n",
    "    for i, j in combinations:\n",
    "\n",
    "        parent1 = population[i]\n",
    "        parent2 = population[j]\n",
    "\n",
    "        if np.random.rand() < CXPB:\n",
    "            child1, child2 = crossover(parent1, parent2)\n",
    "        else:\n",
    "            child1 = Individual(genome=parent1.genome)\n",
    "            child2 = Individual(genome=parent2.genome)\n",
    "\n",
    "        children.append(child1)\n",
    "        children.append(child2)\n",
    "        \n",
    "    return children"
   ]
  },
  {
   "cell_type": "code",
   "execution_count": 14,
   "metadata": {},
   "outputs": [],
   "source": [
    "children = recombination(population, 0.8)\n",
    "\n",
    "for child in children:\n",
    "    child.evaluate()"
   ]
  },
  {
   "cell_type": "code",
   "execution_count": 15,
   "metadata": {},
   "outputs": [
    {
     "data": {
      "text/plain": [
       "[Individual with Genome: [-1.15, -0.48] => f(x): 25.506,\n",
       " Individual with Genome: [ 1.51, -0.01] => f(x): 22.291,\n",
       " Individual with Genome: [-0.54,  1.21] => f(x): 28.956,\n",
       " Individual with Genome: [ 0.26,  1.14] => f(x): 15.225,\n",
       " Individual with Genome: [-1.67,  1.24] => f(x): 28.835,\n",
       " Individual with Genome: [-1.46,  0.90] => f(x): 24.644,\n",
       " Individual with Genome: [ 0.61, -0.86] => f(x): 22.165,\n",
       " Individual with Genome: [-1.60,  0.65] => f(x): 36.776,\n",
       " Individual with Genome: [ 1.12, -1.89] => f(x):  9.936,\n",
       " Individual with Genome: [-1.67, -0.85] => f(x): 22.259]"
      ]
     },
     "execution_count": 15,
     "metadata": {},
     "output_type": "execute_result"
    }
   ],
   "source": [
    "children"
   ]
  },
  {
   "cell_type": "markdown",
   "metadata": {},
   "source": [
    "### Mutation operator\n",
    "\n",
    "The second operator in the GA is the mutation operator. This operator produces small changes to the genes of an individual, hence, broadening the genetic variability of a population. GAs have in common that the mutation operator is applied with a low probability $p_m$ so that mutation works more as a \"background operator\" (usually $p_m \\leq 0.2$).\n",
    "\n",
    "A gene in the genome of the children is taken at random and altered due to a certain random procedure with a certain probability.\n",
    "\n",
    "<img src=\"mutBitFlip.jpg\" width=\"700\">"
   ]
  },
  {
   "cell_type": "markdown",
   "metadata": {},
   "source": [
    "### Exercise 10. Implement and apply mutation on the children\n",
    "\n",
    "Implement the mutation operator by writing a function $\\texttt{mutation}$. The input parameters of the function are the children obtained through the recombination function, the mutation probability $p_m$ and a standard deviation $\\sigma$. Iterate over all children and randomly decide with help of $p_m$, if the genome of the child should be mutated. If the child is mutated, choose a gene of the genome at random and add a Gaussian distributed random number with mean $mu=0.0$ and standard deviation $\\sigma=0.25$ to the gene. The function should return the children. Apply the function on the children that were produced in exercise 9 to test it."
   ]
  },
  {
   "cell_type": "code",
   "execution_count": 16,
   "metadata": {},
   "outputs": [],
   "source": [
    "def mutation(children, MUTPB, sigma=0.25):\n",
    "    \n",
    "    for child in children:\n",
    "        if np.random.rand() < MUTPB:\n",
    "            n = len(child.genome)\n",
    "            mut_int = np.random.randint(0, n)\n",
    "            child.genome[mut_int] += np.random.normal(0.0, scale=sigma)\n",
    "            \n",
    "    return children\n"
   ]
  },
  {
   "cell_type": "code",
   "execution_count": 17,
   "metadata": {},
   "outputs": [],
   "source": [
    "children = mutation(children, 0.2)"
   ]
  },
  {
   "cell_type": "code",
   "execution_count": 18,
   "metadata": {
    "scrolled": false
   },
   "outputs": [
    {
     "data": {
      "text/plain": [
       "[Individual with Genome: [-1.15, -0.52] => f(x): 25.506,\n",
       " Individual with Genome: [ 1.51, -0.01] => f(x): 22.291,\n",
       " Individual with Genome: [-0.54,  1.21] => f(x): 28.956,\n",
       " Individual with Genome: [ 0.26,  1.14] => f(x): 15.225,\n",
       " Individual with Genome: [-1.67,  1.24] => f(x): 28.835,\n",
       " Individual with Genome: [-1.46,  0.90] => f(x): 24.644,\n",
       " Individual with Genome: [ 0.61, -0.67] => f(x): 22.165,\n",
       " Individual with Genome: [-1.60,  0.65] => f(x): 36.776,\n",
       " Individual with Genome: [ 1.12, -1.74] => f(x):  9.936,\n",
       " Individual with Genome: [-1.67, -0.85] => f(x): 22.259]"
      ]
     },
     "execution_count": 18,
     "metadata": {},
     "output_type": "execute_result"
    }
   ],
   "source": [
    "children"
   ]
  },
  {
   "cell_type": "markdown",
   "metadata": {},
   "source": [
    "### Selection operator\n",
    "\n",
    "The last operator in the GA is the selection operator. This operator chooses $popsize$ individuals\n",
    "from the through mutation and recombination altered population of parents and children based on their fitness. Fitter individuals are chosen with higher probability.\n",
    "\n",
    "### Roulette wheel selection\n",
    "\n",
    "Roulette wheel selection is also called [fitness proportionate selection](https://en.wikipedia.org/wiki/Fitness_proportionate_selection). Individuals with a higher fitness (lower fitness value) are chosen with higher probability. The probability to choose an individual is \n",
    "\\begin{align}\n",
    "    p_i \\ = \\ \\frac{max(f) - f_i}{\\sum_{j=1}^{N} (max(f) - f_j)}\n",
    "\\end{align}\n",
    "\n",
    "max(f) is the maximum of all fitness values in the population and is necessary to scale the fitnesses for minimisation. \n",
    "Additionally, to make sure that the best individual of a population –the one with the lowest fitness value–  is not lost during the evolution, one can make sure to always choose the best individual as part of the selected population. This is called elitism.\n",
    "\n",
    "<img src=\"Selection.jpg\" width=\"900\">"
   ]
  },
  {
   "cell_type": "markdown",
   "metadata": {},
   "source": [
    "### Exercise 11. The selection operator.\n",
    "\n",
    "Write a Python function $\\texttt{selection}$ that takes a population and the number of chosen individuals of this population as input parameters. Implement the roulette wheel selection algorithm with elitism as described above. Remove Individuals that have been chosen from the population so that they can't be chosen multiple times ([$\\texttt{pop}$](https://docs.python.org/3.7/tutorial/datastructures.html) removes an element from a list by index). Don't forget to recompute the probabilities each time you remove an individual! The function should return individuals that are chosen from the population according to the probabilities build by their fitness value. (Hint: Use the cumulative sum of the probabilities and a random number between 0 and 1 to decide which individual of the population is chosen. With numpy's [argmin](https://docs.scipy.org/doc/numpy/reference/generated/numpy.argmin.html) function one can find the best individual in the fitnesses).\n"
   ]
  },
  {
   "cell_type": "code",
   "execution_count": 19,
   "metadata": {},
   "outputs": [],
   "source": [
    "def selection(population, number=20, elitism=True):\n",
    "    \n",
    "    \n",
    "    # Produce vector containing all fitnesses:\n",
    "    fitness = []\n",
    "    for ind in population:\n",
    "        ind.evaluate()\n",
    "        fitness.append(ind.fitness)\n",
    "\n",
    "    if elitism:\n",
    "        # Find fittest individual\n",
    "        index = np.argmin(fitness)\n",
    "        best = population[index]\n",
    "        chosen = [best]\n",
    "        \n",
    "        # Remove best individual from population and fitness\n",
    "        population.pop(index)\n",
    "        fitness.pop(index)\n",
    "        \n",
    "        # Reduce the number of the chosen individuals by one, since one individual has already been chosen\n",
    "        number -= 1\n",
    "    else:\n",
    "        chosen = []\n",
    "    for n in range(number):\n",
    "        \n",
    "        # Compute the scaled fitness values and the probabilities\n",
    "        scaled = np.max(fitness) - fitness\n",
    "        probabilities = np.cumsum(scaled / np.sum(scaled))\n",
    "        \n",
    "        r = np.random.random()\n",
    "        index = (r >= probabilities).sum()\n",
    "        chosen.append(population[index])\n",
    "        \n",
    "        # Remove best individual from population and fitness\n",
    "        population.pop(index)\n",
    "        fitness.pop(index)\n",
    "\n",
    "    return chosen"
   ]
  },
  {
   "cell_type": "code",
   "execution_count": 20,
   "metadata": {},
   "outputs": [
    {
     "data": {
      "text/plain": [
       "[Individual with Genome: [-1.15, -0.01] => f(x):  5.416,\n",
       " Individual with Genome: [ 0.61, -0.67] => f(x): 22.165,\n",
       " Individual with Genome: [-1.67,  0.90] => f(x): 20.561,\n",
       " Individual with Genome: [ 0.26,  1.14] => f(x): 15.225]"
      ]
     },
     "execution_count": 20,
     "metadata": {},
     "output_type": "execute_result"
    }
   ],
   "source": [
    "selection(population + children, number=4)"
   ]
  },
  {
   "cell_type": "markdown",
   "metadata": {},
   "source": [
    "### Exercise 12. A simple genetic algorithm - Putting it all together\n",
    "\n",
    "Write a Python script where you utilize all operators that you have developed in the exercises before. \n",
    "\n",
    "First, initialize a population of individuals with $D=2$ between $x_i \\in [-2, 2]$ with a population size of 100. Then make a for loop over 500 generations. In each generation, use the recombination function to produce children with a crossover probability of $p_c=0.8$. Mutate the children with a mutation probability of $p_m=0.2$ and $\\sigma=0.25$. Use the roulette wheel selection function to select $popsize$ individuals from the parent population and children combined. Make sure that the fittest individual is always chosen (elitism). If the fitness of the fittest individual is lower than 0.0001, terminate the evolution by using the [$\\texttt{break}$](https://docs.python.org/3.7/tutorial/controlflow.html#break-and-continue-statements-and-else-clauses-on-loops) command. Track the fitness of the fittest individual in each generation and plot this value as a function of the generations in a semi-logarithmic plot ([$\\texttt{semilogy}$](https://matplotlib.org/api/_as_gen/matplotlib.pyplot.semilogy.html)). Don't forget axis labels and titles!\n",
    "Print the overall fittest individual to the screen."
   ]
  },
  {
   "cell_type": "code",
   "execution_count": 21,
   "metadata": {},
   "outputs": [
    {
     "name": "stdout",
     "output_type": "stream",
     "text": [
      "Individual with Genome: [ 0.00,  0.00] => f(x):  0.000\n"
     ]
    }
   ],
   "source": [
    "popsize = 100\n",
    "ngen = 500\n",
    "\n",
    "CXPB = 0.8\n",
    "MUTPB = 0.2\n",
    "\n",
    "# Initialisation\n",
    "population = []\n",
    "for _ in range(popsize):\n",
    "    ind = Individual(genome=np.random.uniform(low=-2.0, high=2.0, size=2))\n",
    "    population.append(ind)\n",
    "\n",
    "f_min = np.full((ngen, 1), np.nan)\n",
    "\n",
    "for gen in range(ngen):\n",
    "    \n",
    "    children = recombination(population, CXPB)\n",
    "    \n",
    "    children = mutation(children, MUTPB)\n",
    "    \n",
    "    population = selection(population + children, number=popsize, elitism=True)\n",
    "    \n",
    "    # Extract fitness values for statistics\n",
    "    fits = [ind.fitness for ind in population]\n",
    "    genomes = np.asarray([ind.genome for ind in population])\n",
    "    f_min[gen] = np.min(fits)\n",
    "    \n",
    "    if f_min[gen] < 0.0001:\n",
    "        break\n",
    "\n",
    "# Plot fittest individual:\n",
    "fitness = [individual.fitness for individual in population]\n",
    "index = np.argmin(fitness)\n",
    "print(population[index])"
   ]
  },
  {
   "cell_type": "code",
   "execution_count": 22,
   "metadata": {
    "scrolled": true
   },
   "outputs": [
    {
     "data": {
      "image/png": "[encoded data removed]",
      "text/plain": [
       "<Figure size 432x288 with 1 Axes>"
      ]
     },
     "metadata": {
      "needs_background": "light"
     },
     "output_type": "display_data"
    }
   ],
   "source": [
    "plt.semilogy(f_min)\n",
    "plt.xlabel('generations')\n",
    "plt.ylabel('min(f(x))')\n",
    "plt.title('Convergence of the GA')\n",
    "plt.grid(True)"
   ]
  },
  {
   "cell_type": "markdown",
   "metadata": {},
   "source": [
    "### Exercise 13. Escape local optima with GAs\n",
    "Use the code from above, but alter it a little bit. Intitialize the population in the right upper corner with $x_i \\in [0.5, 2.0]$. Increase the number of generations to 2000. Additionally, track the mean $x$ and $y$ coordinate positions over all individuals of the population during the evolution. This is called the trajectory. Run the optimisation.\n",
    "\n",
    "Plot the contour plot of the Rastrigin function as in exercise 3. Highlight the area where the solutions were initially generated in the contour plot with two black dashed lines. Plot the trajectory of the evolution as black line. Can you see that the population jumps from local optimum to local optimum until it finds the global one?\n",
    "\n",
    "This is an advantage of [Metaheuristic algorithms](https://en.wikipedia.org/wiki/Metaheuristic). They are able to escape local optima in contrast to deterministic methods."
   ]
  },
  {
   "cell_type": "code",
   "execution_count": 23,
   "metadata": {},
   "outputs": [
    {
     "data": {
      "image/png": "[encoded data removed]",
      "text/plain": [
       "<Figure size 576x432 with 2 Axes>"
      ]
     },
     "metadata": {
      "needs_background": "light"
     },
     "output_type": "display_data"
    }
   ],
   "source": [
    "popsize = 100\n",
    "ngen = 2000\n",
    "\n",
    "CXPB = 0.8\n",
    "MUTPB = 0.2\n",
    "\n",
    "# Initialisation\n",
    "population = []\n",
    "for _ in range(popsize):\n",
    "    ind = Individual(genome=np.random.uniform(low=0.5, high=2.0, size=2))\n",
    "    population.append(ind)\n",
    "\n",
    "\n",
    "xy_mean = np.full((ngen, 2), np.nan)#(np.empty((ngen, 2))).fill(np.nan)\n",
    "f_min = np.full((ngen, 1), np.nan)\n",
    "f_std = np.full((ngen, 1), np.nan)\n",
    "\n",
    "for gen in range(ngen):\n",
    "    \n",
    "    children = recombination(population, CXPB)\n",
    "    \n",
    "    children = mutation(children, MUTPB)\n",
    "    \n",
    "    population = selection(population + children, number=popsize, elitism=True)\n",
    "    \n",
    "    # Extract fitness values for statistics\n",
    "    \n",
    "    fits = [ind.fitness for ind in population]\n",
    "    genomes = np.asarray([ind.genome for ind in population])\n",
    "    xy_mean[gen, :] = np.mean(genomes, axis=0)\n",
    "    f_min[gen] = np.min(fits)\n",
    "    f_std[gen] = np.std(fits)\n",
    "    \n",
    "    if f_min[gen] < 0.0001:\n",
    "        break\n",
    "\n",
    "fig, ax = plt.subplots(1, 1, figsize=(8, 6))\n",
    "plt.contourf(X, Y, Z)\n",
    "cb = plt.colorbar()\n",
    "plt.xlabel('x')\n",
    "plt.ylabel('y')\n",
    "\n",
    "plt.plot([0.5, 2.0], [0.5, 0.5], 'k--')\n",
    "plt.plot([0.5, 0.5], [0.5, 2.0], 'k--')\n",
    "\n",
    "cb.set_label(r'$f(x, y)$')\n",
    "plt.plot(xy_mean[:,0], xy_mean[:,1], 'k-');\n"
   ]
  },
  {
   "cell_type": "code",
   "execution_count": null,
   "metadata": {},
   "outputs": [],
   "source": []
  }
 ],
 "metadata": {
  "kernelspec": {
   "display_name": "Python 3",
   "language": "python",
   "name": "python3"
  },
  "language_info": {
   "codemirror_mode": {
    "name": "ipython",
    "version": 3
   },
   "file_extension": ".py",
   "mimetype": "text/x-python",
   "name": "python",
   "nbconvert_exporter": "python",
   "pygments_lexer": "ipython3",
   "version": "3.8.8"
  }
 },
 "nbformat": 4,
 "nbformat_minor": 2
}
