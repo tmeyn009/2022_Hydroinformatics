{
 "cells": [
  {
   "cell_type": "markdown",
   "metadata": {},
   "source": [
    "<hr style=\"border:0.2px solid black\"> </hr>\n",
    "\n",
    "<figure>\n",
    "  <IMG SRC=\"img/ntnu_logo.png\" WIDTH=200 ALIGN=\"right\">\n",
    "</figure>\n",
    "\n",
    "**<ins>Course:</ins>** TVM4174 - Hydroinformatics for Smart Water Systems\n",
    "\n",
    "# <ins>Assignment 2:</ins> Hydraulic network calibration (Part 2)\n",
    "    \n",
    "*Developed by David Steffelbauer*\n",
    "\n",
    "    \n",
    "<hr style=\"border:0.2px solid black\"> </hr>"
   ]
  },
  {
   "cell_type": "markdown",
   "metadata": {},
   "source": [
    "## The procedure of Hydraulic Model Calibration\n",
    "\n",
    "Continuing from Assignment 1, Assignment 2 consists of Task 4 of the last Assignment, as discussed in the Hydroinformatics lecture. You can find all relevant information to this problem in the description of Assignment 1."
   ]
  },
  {
   "cell_type": "code",
   "execution_count": 1,
   "metadata": {},
   "outputs": [],
   "source": [
    "# Import all packages that you use later on in this cell\n"
   ]
  },
  {
   "cell_type": "markdown",
   "metadata": {},
   "source": [
    "## Task: Roughness calibration\n",
    "(15 points)\n",
    "\n",
    "\n",
    "* Use the differential evolution algorithm (`differential_evolution` in `scipy.optimize`) to calibrate the network for roughnesses. The genome should consist of 4 genes corresponding to four pipe groupings concerning their diameter (in meter): \n",
    "        \n",
    "        * G_1 = (0.0, 0.081)\n",
    "        * G_2 = [0.081, 0.09)\n",
    "        * G_3 = [0.09, 0.1)\n",
    "        * G_4 = >0.1\n",
    "\n",
    "For that, generate a function that sets the roughnesses according to an individual's genome and computes the SSE. Play around with different settings of the `differential_evolution` function. What is the smallest SSE value that you can reach, and what roughnesses does your optimal solution correspond to? Plot a correlation plot for your optimal solution.\n"
   ]
  },
  {
   "cell_type": "code",
   "execution_count": 5,
   "metadata": {},
   "outputs": [],
   "source": [
    "# your code comes here (you can add as many cells as you like...)"
   ]
  }
 ],
 "metadata": {
  "kernelspec": {
   "display_name": "Python 3",
   "language": "python",
   "name": "python3"
  },
  "language_info": {
   "codemirror_mode": {
    "name": "ipython",
    "version": 3
   },
   "file_extension": ".py",
   "mimetype": "text/x-python",
   "name": "python",
   "nbconvert_exporter": "python",
   "pygments_lexer": "ipython3",
   "version": "3.8.8"
  }
 },
 "nbformat": 4,
 "nbformat_minor": 4
}
